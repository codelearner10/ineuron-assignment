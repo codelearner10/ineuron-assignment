{
 "cells": [
  {
   "cell_type": "code",
   "execution_count": null,
   "id": "5ce06391",
   "metadata": {},
   "outputs": [],
   "source": [
    "1. Compare and contrast the float and Decimal classes' benefits and drawbacks."
   ]
  },
  {
   "cell_type": "code",
   "execution_count": null,
   "id": "2dc4c770",
   "metadata": {},
   "outputs": [],
   "source": [
    "Both the float and decimal types store numerical in Python\n",
    "\n",
    "Uses floats when convenience and speed matter. A float gives you an approximation of the number you declare\n",
    "\n",
    "Use decimals when precision matters. Decimals can suffer from their own precision issues but generally decimals are\n",
    "more precise than floats. The performance differemce between float and decimal, with Python 3 is not outlandish and\n",
    "in my experience, the precision benefits of a decimal outweigh the performance benifits of a float"
   ]
  },
  {
   "cell_type": "code",
   "execution_count": null,
   "id": "b5aac585",
   "metadata": {},
   "outputs": [],
   "source": [
    "2. Decimal('1.2') and Decimal('1.2') are two objects to consider. In what sense are these the same\n",
    "object? Are these just two ways of representing the exact same value, or do they correspond to\n",
    "different internal states?"
   ]
  },
  {
   "cell_type": "code",
   "execution_count": null,
   "id": "d2088b2b",
   "metadata": {},
   "outputs": [],
   "source": [
    "Both vlaues are same but internal reprsentation at storage is different. Precsion differs, Decimal('1.200') gives \n",
    "internally 1.200 and Decimal ('1.2') gives 1.2"
   ]
  },
  {
   "cell_type": "code",
   "execution_count": null,
   "id": "4932de6e",
   "metadata": {},
   "outputs": [],
   "source": [
    "3. What happens if the equality of Decimal('1.200') and Decimal('1.2';) is checked?"
   ]
  },
  {
   "cell_type": "code",
   "execution_count": null,
   "id": "91d6a835",
   "metadata": {},
   "outputs": [],
   "source": [
    "both values are checked to be equal they only differ in precision"
   ]
  },
  {
   "cell_type": "code",
   "execution_count": null,
   "id": "63dc84c7",
   "metadata": {},
   "outputs": [],
   "source": [
    "4. Why is it preferable to start a Decimal object with a string rather than a floating-point value?"
   ]
  },
  {
   "cell_type": "code",
   "execution_count": null,
   "id": "e1e2e7cf",
   "metadata": {},
   "outputs": [],
   "source": [
    "Floating-point value is converted to decimal format. Decimal can store float value with absolute precision. But when \n",
    "float value is given as Decimal object, it first has to be converted from floating point value which might already have\n",
    "rounding error \n",
    "\n",
    "Hence it is preferable to start a Decimal object with a string"
   ]
  },
  {
   "cell_type": "code",
   "execution_count": null,
   "id": "6ccb2bbe",
   "metadata": {},
   "outputs": [],
   "source": [
    "5. In an arithmetic phrase, how simple is it to combine Decimal objects with integers?"
   ]
  },
  {
   "cell_type": "code",
   "execution_count": null,
   "id": "0432ee41",
   "metadata": {},
   "outputs": [],
   "source": [
    "We can do it with use of Decimal()"
   ]
  },
  {
   "cell_type": "code",
   "execution_count": null,
   "id": "5a4c568d",
   "metadata": {},
   "outputs": [],
   "source": [
    "6. Can Decimal objects and floating-point values be combined easily?"
   ]
  },
  {
   "cell_type": "code",
   "execution_count": null,
   "id": "e9935a17",
   "metadata": {},
   "outputs": [],
   "source": [
    "Arthmetic operations like adding, substracting or multiplying a decimal object by a floating-point value is genrates an\n",
    "error\n",
    "\n",
    "To do these operations, the floating point had to be converted to a decimal"
   ]
  },
  {
   "cell_type": "code",
   "execution_count": null,
   "id": "de6695e2",
   "metadata": {},
   "outputs": [],
   "source": [
    "7. Using the Fraction class but not the Decimal class, give an example of a quantity that can be\n",
    "expressed with absolute precision."
   ]
  },
  {
   "cell_type": "code",
   "execution_count": null,
   "id": "6cf0929a",
   "metadata": {},
   "outputs": [],
   "source": [
    "Value of 0.5 will be represented as %"
   ]
  },
  {
   "cell_type": "code",
   "execution_count": null,
   "id": "c7d91ac4",
   "metadata": {},
   "outputs": [],
   "source": [
    "Q9.Consider the following two fraction objects: Fraction(1, 2) and Fraction(1, 2). (5, 10). Is the internal\n",
    "state of these two objects the same? Why do you think that is?"
   ]
  },
  {
   "cell_type": "code",
   "execution_count": null,
   "id": "d8ba50ca",
   "metadata": {},
   "outputs": [],
   "source": [
    "Both will be reduced to 1/2"
   ]
  },
  {
   "cell_type": "code",
   "execution_count": null,
   "id": "08000a91",
   "metadata": {},
   "outputs": [],
   "source": [
    "Q10. How do the Fraction class and the integer type (int) relate to each other? Containment or\n",
    "inheritance?"
   ]
  },
  {
   "cell_type": "code",
   "execution_count": null,
   "id": "47187a87",
   "metadata": {},
   "outputs": [],
   "source": [
    "Fraction class and integer type(int) are related in from of a container. It contains two ints, one the numerator and\n",
    "the other the dominator "
   ]
  }
 ],
 "metadata": {
  "kernelspec": {
   "display_name": "Python 3 (ipykernel)",
   "language": "python",
   "name": "python3"
  },
  "language_info": {
   "codemirror_mode": {
    "name": "ipython",
    "version": 3
   },
   "file_extension": ".py",
   "mimetype": "text/x-python",
   "name": "python",
   "nbconvert_exporter": "python",
   "pygments_lexer": "ipython3",
   "version": "3.9.12"
  }
 },
 "nbformat": 4,
 "nbformat_minor": 5
}
