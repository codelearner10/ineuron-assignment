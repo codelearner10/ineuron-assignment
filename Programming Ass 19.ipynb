{
 "cells": [
  {
   "cell_type": "code",
   "execution_count": null,
   "id": "0e50ad2a",
   "metadata": {},
   "outputs": [],
   "source": [
    "1.Create a function that takes a string and returns a string in which each character is repeated once.\n",
    "Examples:\n",
    "double_char(\"String\") ➞ \"SSttrriinngg\"\n",
    "double_char(\"Hello World!\") ➞ \"HHeelllloo WWoorrlldd!!\"\n",
    "doublechar(\"1234!_\") ➞ \"11223344!!__\""
   ]
  },
  {
   "cell_type": "code",
   "execution_count": null,
   "id": "feb90497",
   "metadata": {},
   "outputs": [],
   "source": [
    "def double_char(in_string):\n",
    "    out_string = ''\n",
    "    for ele in in_string:\n",
    "        out_string += ele*2\n",
    "    return out_string\n",
    "\n",
    "print(f'➞ {double_char(\"String\")}')\n",
    "print(f'➞ {double_char(\"Hello World!\")}')\n",
    "print(f'➞ {double_char(\"1234!_\")}')"
   ]
  },
  {
   "cell_type": "code",
   "execution_count": null,
   "id": "3ebaa0c6",
   "metadata": {},
   "outputs": [],
   "source": [
    "2.Create a function that reverses a boolean value and returns the string \"boolean expected\" if another variable \n",
    "type is given.\n",
    "Examples:\n",
    "reverse(True) ➞ False\n",
    "reverse(False) ➞ True\n",
    "reverse(0) ➞ \"boolean expected\"\n",
    "reverse(None) ➞ \"boolean expected\""
   ]
  },
  {
   "cell_type": "code",
   "execution_count": null,
   "id": "303ba8f5",
   "metadata": {},
   "outputs": [],
   "source": [
    "def reverse(in_bool):\n",
    "    if type(in_bool) == bool:\n",
    "        return not in_bool\n",
    "    else:\n",
    "        return \"Boolean Expected\"\n",
    "\n",
    "print(f'reverse(True) ➞ {reverse(True)}')\n",
    "print(f'reverse(False) ➞ {reverse(False)}')\n",
    "print(f'reverse(0) ➞ {reverse(0)}')\n",
    "print(f'reverse(None) ➞ {reverse(None)}')"
   ]
  },
  {
   "cell_type": "code",
   "execution_count": null,
   "id": "50bc43b4",
   "metadata": {},
   "outputs": [],
   "source": [
    "3. Create a function that returns the thickness (in meters) of a piece of paper after folding it n number of times. \n",
    "The paper starts off with a thickness of 0.5mm.\n",
    "Examples:\n",
    "num_layers(1) ➞ \"0.001m\" # Paper folded once is 1mm (equal to 0.001m) num_layers(4) ➞ \"0.008m\" # Paper folded 4 times is 8mm (equal to 0.008m) num_layers(21) ➞ \"1048.576m\" # Paper folded 21 times is 1048576mm (equal to 1048.576m)"
   ]
  },
  {
   "cell_type": "code",
   "execution_count": null,
   "id": "85f4a83c",
   "metadata": {},
   "outputs": [],
   "source": [
    "def num_layers(in_num):\n",
    "    out_num = 0.5\n",
    "    for ele in range(in_num):\n",
    "        out_num *= 2\n",
    "    print(f'Output ➞ {out_num/1000}m')\n",
    "    \n",
    "num_layers(1)\n",
    "num_layers(4)\n",
    "num_layers(21)"
   ]
  },
  {
   "cell_type": "code",
   "execution_count": null,
   "id": "e00db3a5",
   "metadata": {},
   "outputs": [],
   "source": [
    "4.Create a function that takes a single string as argument and returns an ordered list containing the indices of all capital letters in the string.\n",
    "Examples:\n",
    "index_of_caps(\"eDaBiT\") ➞ [1, 3, 5]\n",
    "index_of_caps(\"eQuINoX\") ➞ [1, 3, 4, 6]\n",
    "index_of_caps(\"determine\") ➞ []\n",
    "index_of_caps(\"STRIKE\") ➞ [0, 1, 2, 3, 4, 5]\n",
    "index_of_caps(\"sUn\") ➞ [1]"
   ]
  },
  {
   "cell_type": "code",
   "execution_count": null,
   "id": "da2ba14e",
   "metadata": {},
   "outputs": [],
   "source": [
    "def index_of_caps(in_string):\n",
    "    out_string = []\n",
    "    for ele in in_string:\n",
    "        if ele.isupper():\n",
    "            out_string.append(in_string.index(ele))\n",
    "    print(f'{in_string} ➞ {out_string}')\n",
    "\n",
    "index_of_caps(\"eDaBiT\")\n",
    "index_of_caps(\"eQuINoX\")\n",
    "index_of_caps(\"determine\")\n",
    "index_of_caps(\"STRIKE\")\n",
    "index_of_caps(\"sUn\")"
   ]
  },
  {
   "cell_type": "code",
   "execution_count": null,
   "id": "35530d5e",
   "metadata": {},
   "outputs": [],
   "source": [
    "5.Using list comprehensions, create a function that finds all even numbers from 1 to the given number.\n",
    "Examples:\n",
    "find_even_nums(8) ➞ [2, 4, 6, 8]\n",
    "find_even_nums(4) ➞ [2, 4]\n",
    "find_even_nums(2) ➞ [2]"
   ]
  },
  {
   "cell_type": "code",
   "execution_count": null,
   "id": "b5b45a0d",
   "metadata": {},
   "outputs": [],
   "source": [
    "def find_even_nums(in_num):\n",
    "    out_list = [i for i in range(1,in_num+1) if i%2 == 0]\n",
    "    print(f'Output ➞ {out_list}')\n",
    "    \n",
    "find_even_nums(8)\n",
    "find_even_nums(4)\n",
    "find_even_nums(2)"
   ]
  },
  {
   "cell_type": "code",
   "execution_count": null,
   "id": "afddb9b4",
   "metadata": {},
   "outputs": [],
   "source": []
  },
  {
   "cell_type": "code",
   "execution_count": null,
   "id": "9cee9c97",
   "metadata": {},
   "outputs": [],
   "source": []
  },
  {
   "cell_type": "code",
   "execution_count": null,
   "id": "aece0469",
   "metadata": {},
   "outputs": [],
   "source": []
  },
  {
   "cell_type": "code",
   "execution_count": null,
   "id": "a4cd6493",
   "metadata": {},
   "outputs": [],
   "source": []
  },
  {
   "cell_type": "code",
   "execution_count": null,
   "id": "afb9a8d3",
   "metadata": {},
   "outputs": [],
   "source": []
  },
  {
   "cell_type": "code",
   "execution_count": null,
   "id": "3e6f7743",
   "metadata": {},
   "outputs": [],
   "source": []
  },
  {
   "cell_type": "code",
   "execution_count": null,
   "id": "7c8cabb9",
   "metadata": {},
   "outputs": [],
   "source": []
  },
  {
   "cell_type": "code",
   "execution_count": null,
   "id": "4087d3d7",
   "metadata": {},
   "outputs": [],
   "source": []
  }
 ],
 "metadata": {
  "kernelspec": {
   "display_name": "Python 3 (ipykernel)",
   "language": "python",
   "name": "python3"
  },
  "language_info": {
   "codemirror_mode": {
    "name": "ipython",
    "version": 3
   },
   "file_extension": ".py",
   "mimetype": "text/x-python",
   "name": "python",
   "nbconvert_exporter": "python",
   "pygments_lexer": "ipython3",
   "version": "3.9.12"
  }
 },
 "nbformat": 4,
 "nbformat_minor": 5
}
