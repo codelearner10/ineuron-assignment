{
 "cells": [
  {
   "cell_type": "code",
   "execution_count": null,
   "id": "933c584d",
   "metadata": {},
   "outputs": [],
   "source": [
    "1. What is the concept of an abstract superclass?"
   ]
  },
  {
   "cell_type": "code",
   "execution_count": null,
   "id": "c5da9e3f",
   "metadata": {},
   "outputs": [],
   "source": [
    "Ans : An abstract super class can be considered as a bluleprint for the other classs. It allows you to create a set of methods\n",
    "      that must be created with in any child classes built from te=he abstract class. A class which contains one or more \n",
    "      abstract methods is called an abstract class."
   ]
  },
  {
   "cell_type": "code",
   "execution_count": 6,
   "id": "47b0d49f",
   "metadata": {},
   "outputs": [],
   "source": [
    "from abc import ABC , abstractmethod\n",
    "class Polygon(ABC) :\n",
    "    @abstractmethod\n",
    "    def no_of_sides(self):\n",
    "        pass\n",
    "class Triangle(Polygon) :\n",
    "    def no_of_sides(self) :\n",
    "        print(\"I have 3 sides\")\n",
    "class Pentagon(Polygon) :\n",
    "    def no_of_sides(self) :\n",
    "        print(\"I have 5 sides\")"
   ]
  },
  {
   "cell_type": "code",
   "execution_count": null,
   "id": "79795bc8",
   "metadata": {},
   "outputs": [],
   "source": [
    "2. What happens when a class statement's top level contains a basic assignment statement?"
   ]
  },
  {
   "cell_type": "code",
   "execution_count": null,
   "id": "54a2242d",
   "metadata": {},
   "outputs": [],
   "source": [
    "Ans : When a class statment's top level contains a bsic assignment statement, its usually treated as a class attribute or class\n",
    "      level variable where as assignment statements inside methods are treated as instance attriv=butes or local attributes"
   ]
  },
  {
   "cell_type": "code",
   "execution_count": 1,
   "id": "e493efe2",
   "metadata": {},
   "outputs": [],
   "source": [
    "class Person :\n",
    "    species = \"Homesapiens\"\n",
    "    def __init__(self,name,gender) :\n",
    "        self.name = name\n",
    "        self.gender = gender"
   ]
  },
  {
   "cell_type": "code",
   "execution_count": null,
   "id": "0e97ba4e",
   "metadata": {},
   "outputs": [],
   "source": [
    "3. Why does a class need to manually call a superclass&#39;s __init__ method?"
   ]
  },
  {
   "cell_type": "code",
   "execution_count": null,
   "id": "ad53ac91",
   "metadata": {},
   "outputs": [],
   "source": [
    "Ans : If a child class has __init__ method, then it will not inherit the __init__ method of the parent class in other words\n",
    "      the __init__ method of the child class overide the __init__ method of the parent class, so we have to manually call a\n",
    "      parent supercalss's __init__ using super() method"
   ]
  },
  {
   "cell_type": "code",
   "execution_count": 5,
   "id": "f48ac491",
   "metadata": {},
   "outputs": [
    {
     "name": "stdout",
     "output_type": "stream",
     "text": [
      "{'name': 'Vishal', 'age': 25, 'salary': 45000}\n"
     ]
    }
   ],
   "source": [
    "class Person :\n",
    "    def __init__(self , name , age) :\n",
    "        self.name = name\n",
    "        self.age = age\n",
    "class Employee(Person) :\n",
    "    def __init__(self,name,age,salary) :\n",
    "        super().__init__(name,age)\n",
    "        self.salary = salary\n",
    "\n",
    "emp_1 = Employee(\"Vishal\" , 25 , 45000)\n",
    "print(emp_1.__dict__)"
   ]
  },
  {
   "cell_type": "code",
   "execution_count": null,
   "id": "65ee47f6",
   "metadata": {},
   "outputs": [],
   "source": [
    "4. How can you augment, instead of completely replacing, an inherited method?"
   ]
  },
  {
   "cell_type": "code",
   "execution_count": null,
   "id": "e0095701",
   "metadata": {},
   "outputs": [],
   "source": [
    "Ans : super() method can be used augment, instead of completely replacing, an inherited method."
   ]
  },
  {
   "cell_type": "code",
   "execution_count": 13,
   "id": "75ac9bf6",
   "metadata": {},
   "outputs": [
    {
     "name": "stdout",
     "output_type": "stream",
     "text": [
      "{'name': 'Akanksha', 'gender': 'Female', 'salary': 150000}\n"
     ]
    }
   ],
   "source": [
    "class Person :\n",
    "    def __init__(self, name , gender) :\n",
    "        self.name = name \n",
    "        self.gender = gender\n",
    "class Employee(Person) :\n",
    "    def __init__(self , name , gender , salary) :\n",
    "        super().__init__(name,gender)\n",
    "        self.salary = salary\n",
    "        \n",
    "emp1 = Employee(\"Akanksha\" , \"Female\" , 150000)\n",
    "print(emp1.__dict__)"
   ]
  },
  {
   "cell_type": "code",
   "execution_count": null,
   "id": "2cd4f87e",
   "metadata": {},
   "outputs": [],
   "source": [
    "5. How is the local scope of a class different from that of a function?"
   ]
  },
  {
   "cell_type": "code",
   "execution_count": null,
   "id": "28868b10",
   "metadata": {},
   "outputs": [],
   "source": [
    "Ans : A variable whichi is defined inside a function is local to that function. It is a accessible from the point at which \n",
    "      it is defined until the end of the function and exists for as long as the function is existing \n",
    "      Similarly a vairbale inside of a class also has a local variable scope. Variable which are defined in the class body are \n",
    "      called class level variables or class attributes. They can be refrenced by there bare names with in the same scope, but \n",
    "      they can also be accessed from the outside this scope if we use the attribute access operator (.) on class or an \n",
    "      instance of the class"
   ]
  },
  {
   "cell_type": "code",
   "execution_count": 15,
   "id": "7ec6168d",
   "metadata": {},
   "outputs": [
    {
     "name": "stdout",
     "output_type": "stream",
     "text": [
      "My name is Bhairava\n",
      "Name variable is not available outside hello function scope\n",
      "HomeSapines\n",
      "HomeSapines\n"
     ]
    }
   ],
   "source": [
    "def hello(name) :\n",
    "    name = name \n",
    "    print(f'My name is {name}')\n",
    "hello(\"Bhairava\")\n",
    "\n",
    "try :\n",
    "    name\n",
    "except NameError :\n",
    "    print(\"Name variable is not available outside hello function scope\")\n",
    "\n",
    "class Person :\n",
    "    species = \"HomeSapines\"\n",
    "    def __init__(self) :\n",
    "        pass\n",
    "print(Person.species)\n",
    "Male = Person()\n",
    "print(Male.species)"
   ]
  },
  {
   "cell_type": "code",
   "execution_count": null,
   "id": "e4759a17",
   "metadata": {},
   "outputs": [],
   "source": []
  }
 ],
 "metadata": {
  "kernelspec": {
   "display_name": "Python 3 (ipykernel)",
   "language": "python",
   "name": "python3"
  },
  "language_info": {
   "codemirror_mode": {
    "name": "ipython",
    "version": 3
   },
   "file_extension": ".py",
   "mimetype": "text/x-python",
   "name": "python",
   "nbconvert_exporter": "python",
   "pygments_lexer": "ipython3",
   "version": "3.10.0"
  }
 },
 "nbformat": 4,
 "nbformat_minor": 5
}
