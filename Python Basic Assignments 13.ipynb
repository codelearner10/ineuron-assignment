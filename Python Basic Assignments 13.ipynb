{
 "cells": [
  {
   "cell_type": "code",
   "execution_count": null,
   "id": "1249f8c2",
   "metadata": {},
   "outputs": [],
   "source": [
    "1. What advantages do Excel spreadsheets have over CSV spreadsheets?"
   ]
  },
  {
   "cell_type": "code",
   "execution_count": null,
   "id": "39cf560f",
   "metadata": {},
   "outputs": [],
   "source": [
    "Ans : The advantages of Excel over csv are :\n",
    "\n",
    "1. Excel (XLS and XLSX) file formats are better for storing and analysing complex data\n",
    "2. An Excel not only stores data but can also do operation on the data using macros, formula etc\n",
    "3. CSV files are plain-text files, Does not contain formating, formaula, marcos etc. it is also known as flat files"
   ]
  },
  {
   "cell_type": "code",
   "execution_count": null,
   "id": "6b9bc45f",
   "metadata": {},
   "outputs": [],
   "source": [
    "2.What do you pass to csv.reader() and csv.writer() to create reader and writer objects?"
   ]
  },
  {
   "cell_type": "code",
   "execution_count": null,
   "id": "7e79cc1a",
   "metadata": {},
   "outputs": [],
   "source": [
    "import csv\n",
    "with open('text.csv','r') as file : \n",
    "    csv_file = csv.reader(file,delimiter=',')\n",
    "    for ele in csv_file :\n",
    "        print(ele)"
   ]
  },
  {
   "cell_type": "code",
   "execution_count": null,
   "id": "56ac9ec9",
   "metadata": {},
   "outputs": [],
   "source": [
    "3. What modes do File objects for reader and writer objects need to be opened in?"
   ]
  },
  {
   "cell_type": "code",
   "execution_count": null,
   "id": "075c0b6b",
   "metadata": {},
   "outputs": [],
   "source": [
    "Ans: for csv.reader(iterable_file_ object), the file obojects needed to be opened in read mode mode='r' whereas for\n",
    "csv.write(iterable_file_object) the file objects needed to be opened in write mode mode='w'"
   ]
  },
  {
   "cell_type": "code",
   "execution_count": null,
   "id": "ff0c9640",
   "metadata": {},
   "outputs": [],
   "source": [
    "4. What method takes a list argument and writes it to a CSV file?"
   ]
  },
  {
   "cell_type": "code",
   "execution_count": null,
   "id": "bed9f9ee",
   "metadata": {},
   "outputs": [],
   "source": [
    "Ans : csv.write class provides two methods for writing to CSV. They are writeow() and writesows(). writerow() method\n",
    "writes a single row at a time. Whereras writerows() method is used to write multiple rows at a time.  "
   ]
  },
  {
   "cell_type": "code",
   "execution_count": null,
   "id": "6a0d6556",
   "metadata": {},
   "outputs": [],
   "source": [
    "5. What do the keyword arguments delimiter and line terminator do?"
   ]
  },
  {
   "cell_type": "code",
   "execution_count": null,
   "id": "f1938e1b",
   "metadata": {},
   "outputs": [],
   "source": [
    "Ans : Lets take the example of a csv file :\n",
    "\n",
    "First Name, Last Name, Age\n",
    "Mano, Vishnu,24\n",
    "Vishnu,Vardhan,21\n",
    "Here ',' is Delimiter. We can say character as per our needs if required. Similarly line terminator comes at end of line\n",
    "by default it is newline and can be changed accourding to Requirement."
   ]
  },
  {
   "cell_type": "code",
   "execution_count": null,
   "id": "5a2d99b5",
   "metadata": {},
   "outputs": [],
   "source": [
    "6. What function takes a string of JSON data and returns a Python data structure?"
   ]
  },
  {
   "cell_type": "code",
   "execution_count": null,
   "id": "00856da8",
   "metadata": {},
   "outputs": [],
   "source": [
    "Ans : loads()"
   ]
  },
  {
   "cell_type": "code",
   "execution_count": null,
   "id": "27091f91",
   "metadata": {},
   "outputs": [],
   "source": [
    "7. What function takes a Python data structure and returns a string of JSON data?"
   ]
  },
  {
   "cell_type": "code",
   "execution_count": null,
   "id": "968f2be7",
   "metadata": {},
   "outputs": [],
   "source": [
    "Ans : dumps()"
   ]
  }
 ],
 "metadata": {
  "kernelspec": {
   "display_name": "Python 3 (ipykernel)",
   "language": "python",
   "name": "python3"
  },
  "language_info": {
   "codemirror_mode": {
    "name": "ipython",
    "version": 3
   },
   "file_extension": ".py",
   "mimetype": "text/x-python",
   "name": "python",
   "nbconvert_exporter": "python",
   "pygments_lexer": "ipython3",
   "version": "3.9.12"
  }
 },
 "nbformat": 4,
 "nbformat_minor": 5
}
