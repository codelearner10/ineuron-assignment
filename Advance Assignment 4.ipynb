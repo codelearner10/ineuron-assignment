{
 "cells": [
  {
   "cell_type": "code",
   "execution_count": null,
   "id": "48fc3c77",
   "metadata": {},
   "outputs": [],
   "source": [
    "Q1. Which two operator overloading methods can you use in your classes to support iteration?"
   ]
  },
  {
   "cell_type": "code",
   "execution_count": null,
   "id": "296d2c2b",
   "metadata": {},
   "outputs": [],
   "source": [
    "Ans : __iter__ and __next__ are the operator methods in python that support iteration and are collectively called iterator\n",
    "    protocol\n",
    "    \n",
    "__iter__ returns the iterator object and is called at the start of loop in our respective class\n",
    "__next__ is called at each loop increment it returns the icremented value. Also Stopiteration is raised when there is no \n",
    "vlaue return"
   ]
  },
  {
   "cell_type": "code",
   "execution_count": 2,
   "id": "cfa449cf",
   "metadata": {},
   "outputs": [
    {
     "name": "stdout",
     "output_type": "stream",
     "text": [
      "5 6 7 8 9 10 11 12 13 14 15 "
     ]
    }
   ],
   "source": [
    "class Counter :\n",
    "    def __init__(self , low , high) :\n",
    "        self.current = low \n",
    "        self.high = high\n",
    "    def __iter__(self) :\n",
    "        return self\n",
    "    def __next__(self) :\n",
    "        if self.current > self.high :\n",
    "            raise StopIteration \n",
    "        else :\n",
    "            self.current += 1\n",
    "            return self.current - 1\n",
    "\n",
    "for ele in Counter(5,15) :\n",
    "    print(ele , end = \" \")"
   ]
  },
  {
   "cell_type": "code",
   "execution_count": null,
   "id": "a4c87d89",
   "metadata": {},
   "outputs": [],
   "source": [
    "Q2. In what contexts do the two operator overloading methods manage printing?"
   ]
  },
  {
   "cell_type": "code",
   "execution_count": null,
   "id": "2f077510",
   "metadata": {},
   "outputs": [],
   "source": [
    "Ans : __str__ and __repr__ are two operator overloading methods that manage printing\n",
    "\n",
    "1-short the difference between both these operators is the goal of __repr__ is to be unambiguousand __str__ is to be\n",
    "readable\n",
    "2-enever we are printing any object refrence internally __str__ method will be called by default.\n",
    "3-The main purpose of __str__ id of readability. it prints the information string representation of an object, one that is \n",
    "useful for printing the object it may not be to convert result string to original object\n",
    "4-__repr__ is used to print official string representaion of an object so it includes all information and development"
   ]
  },
  {
   "cell_type": "code",
   "execution_count": 3,
   "id": "8ccaaf06",
   "metadata": {},
   "outputs": [
    {
     "name": "stdout",
     "output_type": "stream",
     "text": [
      "<__main__.Student object at 0x00000224457CC040>\n",
      "2022-09-17 14:07:00.136319\n",
      "Unable to convert back to original object\n",
      "datetime.datetime(2022, 9, 17, 14, 7, 0, 136319)\n",
      "2022-09-17 14:07:00.136319\n"
     ]
    }
   ],
   "source": [
    "class Student :\n",
    "    def __init__(self , name , roll_no) :\n",
    "        self.name = name\n",
    "        self.roll_no = roll_no\n",
    "\n",
    "s1 = Student(\"Amar\" , 1)\n",
    "print(str(s1))\n",
    "\n",
    "import datetime\n",
    "today = datetime.datetime.now()\n",
    "s = str(today)\n",
    "print(s)\n",
    "try :\n",
    "    d = eval(s)\n",
    "except :\n",
    "    print(\"Unable to convert back to original object\")\n",
    "\n",
    "u = repr(today)\n",
    "print(u)\n",
    "e = eval(u)\n",
    "print(e)"
   ]
  },
  {
   "cell_type": "code",
   "execution_count": null,
   "id": "2c93bb83",
   "metadata": {},
   "outputs": [],
   "source": [
    "Q3. In a class, how do you intercept slice operations?"
   ]
  },
  {
   "cell_type": "code",
   "execution_count": null,
   "id": "acd58a7c",
   "metadata": {},
   "outputs": [],
   "source": [
    "Ans : In class use of slice() in __getitem__ method is used for intercept slice ooperation . The slice method is provided\n",
    "    with start integer number,stop integer number and step integer number."
   ]
  },
  {
   "cell_type": "code",
   "execution_count": null,
   "id": "1e1a0853",
   "metadata": {},
   "outputs": [],
   "source": [
    "__getitem__(slice(start,stop.step))"
   ]
  },
  {
   "cell_type": "code",
   "execution_count": null,
   "id": "e677896f",
   "metadata": {},
   "outputs": [],
   "source": [
    "Q4. In a class, how do you capture in-place addition?"
   ]
  },
  {
   "cell_type": "code",
   "execution_count": null,
   "id": "fb2c42ca",
   "metadata": {},
   "outputs": [],
   "source": [
    "Ans : a+b is normal addition. Whereas a+=b is inplace addition operation. In this in-place addition a itself will store the\n",
    "    value of addition. In class __iadd__ method is used for this in-place operation"
   ]
  },
  {
   "cell_type": "code",
   "execution_count": 4,
   "id": "8c847f30",
   "metadata": {},
   "outputs": [
    {
     "name": "stdout",
     "output_type": "stream",
     "text": [
      "300\n"
     ]
    }
   ],
   "source": [
    "class Book :\n",
    "    def __init__(self,pages) :\n",
    "        self.pages = pages\n",
    "    def __iadd__(self,other) :\n",
    "        self.pages += other.pages\n",
    "        return self.pages\n",
    "b1 = Book(100)\n",
    "b2 = Book(200)\n",
    "b1+=b2\n",
    "print(b1)"
   ]
  },
  {
   "cell_type": "code",
   "execution_count": null,
   "id": "a38c74fc",
   "metadata": {},
   "outputs": [],
   "source": [
    "Q5. When is it appropriate to use operator overloading?"
   ]
  },
  {
   "cell_type": "code",
   "execution_count": null,
   "id": "cb7ed14d",
   "metadata": {},
   "outputs": [],
   "source": [
    "Ans : Operator overloading is used when we want to use an operator other than is normal operation to have meaning according\n",
    "    to the context required in user defined function."
   ]
  },
  {
   "cell_type": "code",
   "execution_count": 5,
   "id": "07df7001",
   "metadata": {},
   "outputs": [
    {
     "name": "stdout",
     "output_type": "stream",
     "text": [
      "Total number of pages 300\n"
     ]
    }
   ],
   "source": [
    "class Book :\n",
    "    def __init__(self,pages) :\n",
    "        self.pages = pages\n",
    "    def __add__(self,other) :\n",
    "        return self.pages + other.pages\n",
    "b1 = Book(100)\n",
    "b2 = Book(200)\n",
    "print(f'Total number of pages {b1+b2}')"
   ]
  },
  {
   "cell_type": "code",
   "execution_count": null,
   "id": "b1a801e3",
   "metadata": {},
   "outputs": [],
   "source": []
  }
 ],
 "metadata": {
  "kernelspec": {
   "display_name": "Python 3 (ipykernel)",
   "language": "python",
   "name": "python3"
  },
  "language_info": {
   "codemirror_mode": {
    "name": "ipython",
    "version": 3
   },
   "file_extension": ".py",
   "mimetype": "text/x-python",
   "name": "python",
   "nbconvert_exporter": "python",
   "pygments_lexer": "ipython3",
   "version": "3.9.12"
  }
 },
 "nbformat": 4,
 "nbformat_minor": 5
}
