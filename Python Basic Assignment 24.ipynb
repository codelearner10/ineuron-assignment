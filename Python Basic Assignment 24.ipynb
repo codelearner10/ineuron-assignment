{
 "cells": [
  {
   "cell_type": "code",
   "execution_count": null,
   "id": "6931a900",
   "metadata": {},
   "outputs": [],
   "source": [
    "1. What is the relationship between def statements and lambda expressions ?"
   ]
  },
  {
   "cell_type": "code",
   "execution_count": null,
   "id": "57d702b1",
   "metadata": {},
   "outputs": [],
   "source": [
    "Ans : def statement is used to create a normal function where as lambda expression are used to create Anonymous functions\n",
    "which can be assigned to variable to a variable and can be called using the variable later in function"
   ]
  },
  {
   "cell_type": "code",
   "execution_count": null,
   "id": "b971a863",
   "metadata": {},
   "outputs": [],
   "source": [
    "2. What is the benefit of lambda?"
   ]
  },
  {
   "cell_type": "code",
   "execution_count": null,
   "id": "9242fa3e",
   "metadata": {},
   "outputs": [],
   "source": [
    "Ans : Can be used to create Nameless\\Anonymous function inside some complex functions if we are planning to use it only \n",
    "once.\n",
    "Moderate to small functions can be created in a single line\n",
    "Functions created using lambda expression can be assigned to a variable to and can be used by simply calling the variable"
   ]
  },
  {
   "cell_type": "code",
   "execution_count": null,
   "id": "981754e5",
   "metadata": {},
   "outputs": [],
   "source": [
    "3. Compare and contrast map, filter, and reduce."
   ]
  },
  {
   "cell_type": "code",
   "execution_count": null,
   "id": "a9447a30",
   "metadata": {},
   "outputs": [],
   "source": [
    "map() : The map() function is a type of higher-order. This function takes another function as a parameter along with a\n",
    "sequence of iterables and returns an output after applying the function to each iterable present in the seqence\n",
    "\n",
    "filter() : The filter() function is used to create an output list consisting of values for which the function returns true\n",
    "\n",
    "reduce() : The reduce() function, as the name describes,applies a given function to the iterables and returns a single\n",
    "value"
   ]
  },
  {
   "cell_type": "code",
   "execution_count": 1,
   "id": "c5eb5354",
   "metadata": {},
   "outputs": [
    {
     "name": "stdout",
     "output_type": "stream",
     "text": [
      "Map -> [2, 4, 6, 8]\n",
      "Filter -> [1, 3]\n",
      "Reduce -> 21\n"
     ]
    }
   ],
   "source": [
    "from functools import reduce\n",
    "print('Map ->',list(map(lambda x:x+x, [1,2,3,4])))\n",
    "print('Filter ->',list(filter(lambda x:x%2 !=0, [1,2,3,4])))\n",
    "print('Reduce ->',reduce(lambda x,y:x+y, [1,2,3,4,5,6]))"
   ]
  },
  {
   "cell_type": "code",
   "execution_count": null,
   "id": "12c4044e",
   "metadata": {},
   "outputs": [],
   "source": [
    "4. What are function annotations, and how are they used?"
   ]
  },
  {
   "cell_type": "code",
   "execution_count": null,
   "id": "01021f7f",
   "metadata": {},
   "outputs": [],
   "source": [
    "Function annotations provide a way of assocaiting various parts of a function with arbitrary python expression at compile \n",
    "time :\n",
    "Annotations of simple parameters def func(x: expression, y: expression = 20) :\n",
    "where as the annotations for the excess parameter are as - def func (**args: expression, **kwargs: expression) :"
   ]
  },
  {
   "cell_type": "code",
   "execution_count": null,
   "id": "9bcc680d",
   "metadata": {},
   "outputs": [],
   "source": [
    "5. What are recursive functions, and how are they used?"
   ]
  },
  {
   "cell_type": "code",
   "execution_count": null,
   "id": "dae71b29",
   "metadata": {},
   "outputs": [],
   "source": [
    "Ans : A recursive function is a function that calls itself during its execution. The process may repeat may several times,\n",
    "outputing the result and the end of each iteration."
   ]
  },
  {
   "cell_type": "code",
   "execution_count": null,
   "id": "db1dc06c",
   "metadata": {},
   "outputs": [],
   "source": [
    "6. What are some general design guidelines for coding functions?"
   ]
  },
  {
   "cell_type": "code",
   "execution_count": null,
   "id": "edcab577",
   "metadata": {},
   "outputs": [],
   "source": [
    "Always use a doctring to explain the functionality of the function\n",
    "Avoid using or limited use of global variables\n",
    "Proper identation to increase the code readability\n",
    "Try to follow a naming convention for function names\n",
    "Avoid using digits while choosing a variable name\n",
    "Try to use a name for the function which conveys the purpose of the function\n",
    "Local variables should be named using came|Case format (ex: localVariable) where as Global variables names should be using\n",
    "PascalCase\n",
    "Constant should be represented in allcaps "
   ]
  },
  {
   "cell_type": "code",
   "execution_count": null,
   "id": "4fd6aad6",
   "metadata": {},
   "outputs": [],
   "source": [
    "7. Name three or more ways that functions can communicate results to a caller."
   ]
  },
  {
   "cell_type": "code",
   "execution_count": null,
   "id": "4e46ae7d",
   "metadata": {},
   "outputs": [],
   "source": [
    "Some of the ways in which a function can communicate with the calling function is \n",
    "\n",
    "print\n",
    "return\n",
    "yield"
   ]
  }
 ],
 "metadata": {
  "kernelspec": {
   "display_name": "Python 3 (ipykernel)",
   "language": "python",
   "name": "python3"
  },
  "language_info": {
   "codemirror_mode": {
    "name": "ipython",
    "version": 3
   },
   "file_extension": ".py",
   "mimetype": "text/x-python",
   "name": "python",
   "nbconvert_exporter": "python",
   "pygments_lexer": "ipython3",
   "version": "3.9.12"
  }
 },
 "nbformat": 4,
 "nbformat_minor": 5
}
