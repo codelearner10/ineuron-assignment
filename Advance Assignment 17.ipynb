{
 "cells": [
  {
   "cell_type": "code",
   "execution_count": null,
   "id": "25d7bdb9",
   "metadata": {},
   "outputs": [],
   "source": [
    "Q1. Explain the difference between greedy and non-greedy syntax with visual terms in as few words\n",
    "as possible. What is the bare minimum effort required to transform a greedy pattern into a non-greedy\n",
    "one? What characters or characters can you introduce or change?"
   ]
  },
  {
   "cell_type": "code",
   "execution_count": null,
   "id": "5871db74",
   "metadata": {},
   "outputs": [],
   "source": [
    "The main difference between greedy and non greedy match syntax is the greedy match will try not to match as many repetition\n",
    "of the quantified pattern as possible where as the non greedy match willl try to match as few repetions of the quantified\n",
    "patterns as possible"
   ]
  },
  {
   "cell_type": "code",
   "execution_count": 1,
   "id": "3fda52e4",
   "metadata": {},
   "outputs": [
    {
     "name": "stdout",
     "output_type": "stream",
     "text": [
      "['vvvvv', '']\n",
      "['', 'v', '', 'v', '', 'v', '', 'v', '', 'v', '', 'v', '']\n"
     ]
    }
   ],
   "source": [
    "import re \n",
    "print(re.findall(\"v*\",\"vvvvv\"))\n",
    "print(re.findall(\"v*?\",\"vvvvvv\"))"
   ]
  },
  {
   "cell_type": "code",
   "execution_count": null,
   "id": "71ad6762",
   "metadata": {},
   "outputs": [],
   "source": [
    "Q2. When exactly does greedy versus non-greedy make a difference?  What if you&#39;re looking for a\n",
    "non-greedy match but the only one available is greedy?"
   ]
  },
  {
   "cell_type": "code",
   "execution_count": null,
   "id": "ac4ceed7",
   "metadata": {},
   "outputs": [],
   "source": [
    "The greedy match will try to match as many repetiitons of the quantified pattern as possible. The non greedy match will\n",
    "try to match as few repetiion pattern as possible. If only non greedy match is available, we can use other filtering or \n",
    "pattern matching methods of regex and further identify the required pattern"
   ]
  },
  {
   "cell_type": "code",
   "execution_count": null,
   "id": "22d7231e",
   "metadata": {},
   "outputs": [],
   "source": [
    "Q3. In a simple match of a string, which looks only for one match and does not do any replacement, is\n",
    "the use of a nontagged group likely to make any practical difference?"
   ]
  },
  {
   "cell_type": "code",
   "execution_count": null,
   "id": "6edf9e5f",
   "metadata": {},
   "outputs": [],
   "source": [
    "In this case the non tagged group will not make any differencein this case\n"
   ]
  },
  {
   "cell_type": "code",
   "execution_count": 4,
   "id": "39dfa13f",
   "metadata": {},
   "outputs": [
    {
     "name": "stdout",
     "output_type": "stream",
     "text": [
      "Phone Number found -> 234\n",
      "Phone Number not found ->234\n"
     ]
    }
   ],
   "source": [
    "import re \n",
    "phoneNumRegex = re.compile(r'\\d\\d\\d')\n",
    "num = phoneNumRegex.search('My number is 234-548-897')\n",
    "print(f'Phone Number found -> {num.group()}')\n",
    "print(f'Phone Number not found ->{num.group()}')"
   ]
  },
  {
   "cell_type": "code",
   "execution_count": null,
   "id": "c2d587e6",
   "metadata": {},
   "outputs": [],
   "source": [
    "Q4. Describe a scenario in which using a nontagged category would have a significant impact on the\n",
    "program's outcomes."
   ]
  },
  {
   "cell_type": "code",
   "execution_count": null,
   "id": "2caf52ce",
   "metadata": {},
   "outputs": [],
   "source": [
    "Here in the below code snippet . decimal is not tagged or captured it will useful in scenarios where the seprators of \n",
    "value in a srting is of no use and we want need to capture only the values"
   ]
  },
  {
   "cell_type": "code",
   "execution_count": 8,
   "id": "22f1b617",
   "metadata": {},
   "outputs": [
    {
     "data": {
      "text/plain": [
       "('135', '651')"
      ]
     },
     "execution_count": 8,
     "metadata": {},
     "output_type": "execute_result"
    }
   ],
   "source": [
    "import re\n",
    "text = '135.651'\n",
    "pattern = r'(\\d+)(?:.)(\\d+)'\n",
    "regobj = re.compile(pattern)\n",
    "matobj = regobj.search(text)\n",
    "matobj.groups()"
   ]
  },
  {
   "cell_type": "code",
   "execution_count": null,
   "id": "e2908173",
   "metadata": {},
   "outputs": [],
   "source": [
    "Q5. Unlike a normal regex pattern, a look-ahead condition does not consume the characters it\n",
    "examines. Describe a situation in which this could make a difference in the results of your\n",
    "programme."
   ]
  },
  {
   "cell_type": "code",
   "execution_count": null,
   "id": "38600176",
   "metadata": {},
   "outputs": [],
   "source": [
    "While counting the number of multiple lines or multiple sentence in a string the positive look ahead makes a difference \n",
    "without which we wont get the correct of lines or sentrences in string"
   ]
  },
  {
   "cell_type": "code",
   "execution_count": null,
   "id": "a63cbf89",
   "metadata": {},
   "outputs": [],
   "source": [
    "Q6. In standard expressions, what is the difference between positive look-ahead and negative look-\n",
    "ahead?"
   ]
  },
  {
   "cell_type": "code",
   "execution_count": null,
   "id": "81ba9b0a",
   "metadata": {},
   "outputs": [],
   "source": [
    "Positive Lookaheadd allows to add a condition for what follows. Negative lookahead is similar, but it looks behind. That \n",
    "is allows to match a pattern only if there's something before it."
   ]
  },
  {
   "cell_type": "code",
   "execution_count": null,
   "id": "84ba95c7",
   "metadata": {},
   "outputs": [],
   "source": [
    "Q7. What is the benefit of referring to groups by name rather than by number in a standard\n",
    "expression?"
   ]
  },
  {
   "cell_type": "code",
   "execution_count": null,
   "id": "4fa8720e",
   "metadata": {},
   "outputs": [],
   "source": [
    "Reerring to groups by name rather than by number in a standard expression helps to keep the code clear and easy to \n",
    "understand"
   ]
  },
  {
   "cell_type": "code",
   "execution_count": null,
   "id": "b25b2acb",
   "metadata": {},
   "outputs": [],
   "source": [
    "Q8. Can you identify repeated items within a target string using named groups, as in &quot;The cow\n",
    "jumped over the moon&quot;?"
   ]
  },
  {
   "cell_type": "code",
   "execution_count": 11,
   "id": "d95c44af",
   "metadata": {},
   "outputs": [
    {
     "data": {
      "text/plain": [
       "['The', 'the']"
      ]
     },
     "execution_count": 11,
     "metadata": {},
     "output_type": "execute_result"
    }
   ],
   "source": [
    "import re\n",
    "text = \"The cow jumped over the bridge\"\n",
    "regobj = re.compile(r'(?P<w1>The)',re.I)\n",
    "regobj.findall(text)"
   ]
  },
  {
   "cell_type": "code",
   "execution_count": null,
   "id": "8d8acaef",
   "metadata": {},
   "outputs": [],
   "source": [
    "Q9. When parsing a string, what is at least one thing that the Scanner interface does for you that the\n",
    "re.findall feature does not?"
   ]
  },
  {
   "cell_type": "code",
   "execution_count": null,
   "id": "c3b46f7b",
   "metadata": {},
   "outputs": [],
   "source": [
    "re.findall(module) is used to search for all occurences that match a given pattern. In contrast re.search() will only \n",
    "return the first occurence that matches the specified pattern. re.findall() will iterate over all the lines of the file4\n",
    "adn will return all non-overlapping matches of pattern in a single step"
   ]
  },
  {
   "cell_type": "code",
   "execution_count": null,
   "id": "8e130f23",
   "metadata": {},
   "outputs": [],
   "source": [
    "Q10. Does a scanner object have to be named scanner?"
   ]
  },
  {
   "cell_type": "code",
   "execution_count": null,
   "id": "5573e3df",
   "metadata": {},
   "outputs": [],
   "source": [
    "Yes, it may have any name."
   ]
  },
  {
   "cell_type": "code",
   "execution_count": null,
   "id": "54dcda8c",
   "metadata": {},
   "outputs": [],
   "source": []
  },
  {
   "cell_type": "code",
   "execution_count": null,
   "id": "a9941528",
   "metadata": {},
   "outputs": [],
   "source": []
  },
  {
   "cell_type": "code",
   "execution_count": null,
   "id": "4e628ea9",
   "metadata": {},
   "outputs": [],
   "source": []
  },
  {
   "cell_type": "code",
   "execution_count": null,
   "id": "ef1b8d13",
   "metadata": {},
   "outputs": [],
   "source": []
  },
  {
   "cell_type": "code",
   "execution_count": null,
   "id": "6d265852",
   "metadata": {},
   "outputs": [],
   "source": []
  },
  {
   "cell_type": "code",
   "execution_count": null,
   "id": "cad80ab6",
   "metadata": {},
   "outputs": [],
   "source": []
  },
  {
   "cell_type": "code",
   "execution_count": null,
   "id": "9e7b6e5f",
   "metadata": {},
   "outputs": [],
   "source": []
  },
  {
   "cell_type": "code",
   "execution_count": null,
   "id": "1c0b54a9",
   "metadata": {},
   "outputs": [],
   "source": []
  },
  {
   "cell_type": "code",
   "execution_count": null,
   "id": "2bda2622",
   "metadata": {},
   "outputs": [],
   "source": []
  },
  {
   "cell_type": "code",
   "execution_count": null,
   "id": "6efd1aa6",
   "metadata": {},
   "outputs": [],
   "source": []
  },
  {
   "cell_type": "code",
   "execution_count": null,
   "id": "55910f12",
   "metadata": {},
   "outputs": [],
   "source": []
  },
  {
   "cell_type": "code",
   "execution_count": null,
   "id": "2fae1b5d",
   "metadata": {},
   "outputs": [],
   "source": []
  },
  {
   "cell_type": "code",
   "execution_count": null,
   "id": "73ae600c",
   "metadata": {},
   "outputs": [],
   "source": []
  },
  {
   "cell_type": "code",
   "execution_count": null,
   "id": "fe57fa76",
   "metadata": {},
   "outputs": [],
   "source": []
  },
  {
   "cell_type": "code",
   "execution_count": null,
   "id": "e6a3adc4",
   "metadata": {},
   "outputs": [],
   "source": []
  },
  {
   "cell_type": "code",
   "execution_count": null,
   "id": "3d438735",
   "metadata": {},
   "outputs": [],
   "source": []
  },
  {
   "cell_type": "code",
   "execution_count": null,
   "id": "c0c98287",
   "metadata": {},
   "outputs": [],
   "source": []
  }
 ],
 "metadata": {
  "kernelspec": {
   "display_name": "Python 3 (ipykernel)",
   "language": "python",
   "name": "python3"
  },
  "language_info": {
   "codemirror_mode": {
    "name": "ipython",
    "version": 3
   },
   "file_extension": ".py",
   "mimetype": "text/x-python",
   "name": "python",
   "nbconvert_exporter": "python",
   "pygments_lexer": "ipython3",
   "version": "3.9.12"
  }
 },
 "nbformat": 4,
 "nbformat_minor": 5
}
