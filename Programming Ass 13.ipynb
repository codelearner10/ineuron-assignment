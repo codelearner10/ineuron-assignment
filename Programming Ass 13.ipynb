{
 "cells": [
  {
   "cell_type": "code",
   "execution_count": null,
   "id": "b7b19bfe",
   "metadata": {},
   "outputs": [],
   "source": [
    "Question 1:\n",
    "Write a program that calculates and prints the value according to the given formula:\n",
    "Q = Square root of [(2 * C * D)/H]\n",
    "Following are the fixed values of C and H:\n",
    "C is 50. H is 30.\n",
    "D is the variable whose values should be input to your program in a comma-separated\n",
    "sequence.\n",
    "Example\n",
    "Let us assume the following comma separated input sequence is given to the program:\n",
    "100,150,180\n",
    "The output of the program should be:\n",
    "18,22,24"
   ]
  },
  {
   "cell_type": "code",
   "execution_count": 1,
   "id": "1efc68a9",
   "metadata": {},
   "outputs": [
    {
     "name": "stdout",
     "output_type": "stream",
     "text": [
      "Enter the input: 100,150,180\n",
      "Output: 18,22,24\n"
     ]
    }
   ],
   "source": [
    "from math import sqrt \n",
    "def calculateProgram() :\n",
    "    in_num = eval(input('Enter the input: '))\n",
    "    out_num = []\n",
    "    C = 50\n",
    "    H = 30\n",
    "    for ele in in_num :\n",
    "        Q =  str(int(sqrt((2*C*ele)/H)))\n",
    "        out_num.append(Q)\n",
    "    print('Output: {}'.format(','.join(out_num)))\n",
    "\n",
    "calculateProgram()"
   ]
  },
  {
   "cell_type": "code",
   "execution_count": null,
   "id": "56e36d66",
   "metadata": {},
   "outputs": [],
   "source": [
    "Question 2:\n",
    "Write a program which takes 2 digits, X,Y as input and generates a 2-dimensional array. The\n",
    "element value in the i-th row and j-th column of the array should be i*j.\n",
    "Note: i=0,1.., X-1; j=0,1,¡Y-1.\n",
    "Example\n",
    "Suppose the following inputs are given to the program:\n",
    "3,5\n",
    "Then, the output of the program should be:\n",
    "[[0, 0, 0, 0, 0], [0, 1, 2, 3, 4], [0, 2, 4, 6, 8]]"
   ]
  },
  {
   "cell_type": "code",
   "execution_count": 3,
   "id": "6e2fa97e",
   "metadata": {},
   "outputs": [
    {
     "name": "stdout",
     "output_type": "stream",
     "text": [
      "Enter the no of rows: 3\n",
      "Enter the no of columns: 5\n",
      "[[0, 0, 0, 0, 0], [0, 1, 2, 3, 4], [0, 2, 4, 6, 8]]\n"
     ]
    }
   ],
   "source": [
    "import array as arr\n",
    "def generateArray() :\n",
    "    in_x = int(input('Enter the no of rows: '))\n",
    "    in_y = int(input('Enter the no of columns: '))\n",
    "    out_array = []\n",
    "    for ele in range(in_x) :\n",
    "        out_array.insert(in_x,[])\n",
    "        for sub_ele in range(in_y) :\n",
    "            out_array[ele].append(ele*sub_ele)\n",
    "    print(out_array)\n",
    "    \n",
    "generateArray()"
   ]
  },
  {
   "cell_type": "code",
   "execution_count": null,
   "id": "0bf1ecc9",
   "metadata": {},
   "outputs": [],
   "source": [
    "Question 3:\n",
    "Write a program that accepts a comma separated sequence of words as input and prints the\n",
    "words in a comma-separated sequence after sorting them alphabetically.\n",
    "Suppose the following input is supplied to the program:\n",
    "without,hello,bag,world\n",
    "Then, the output should be:\n",
    "bag,hello,without,world"
   ]
  },
  {
   "cell_type": "code",
   "execution_count": 4,
   "id": "9879f875",
   "metadata": {},
   "outputs": [
    {
     "name": "stdout",
     "output_type": "stream",
     "text": [
      "Enter the Input string: Without,hello,bag,world\n",
      "Output: Without,bag,hello,world\n"
     ]
    }
   ],
   "source": [
    "def sortString() :\n",
    "    in_string = input(\"Enter the Input string: \")\n",
    "    out_string = ','.join(sorted(in_string.split(',')))\n",
    "    print(f'Output: {out_string}')\n",
    "    \n",
    "sortString()"
   ]
  },
  {
   "cell_type": "code",
   "execution_count": null,
   "id": "819f7df3",
   "metadata": {},
   "outputs": [],
   "source": [
    "Question 4:\n",
    "Write a program that accepts a sequence of whitespace separated words as input and prints\n",
    "the words after removing all duplicate words and sorting them alphanumerically.\n",
    "Suppose the following input is supplied to the program:\n",
    "hello world and practice makes perfect and hello world again\n",
    "Then, the output should be:\n",
    "again and hello makes perfect practice world"
   ]
  },
  {
   "cell_type": "code",
   "execution_count": 6,
   "id": "d7737c08",
   "metadata": {},
   "outputs": [
    {
     "name": "stdout",
     "output_type": "stream",
     "text": [
      "Enter the input Stringhello world and practice makes perfect and hello world aggain\n",
      "Output: aggain and hello makes perfect practice world\n"
     ]
    }
   ],
   "source": [
    "def sortAlphaNumerically() :\n",
    "    in_string = input('Enter the input String')\n",
    "    out_string =' '.join(sorted(list(set(in_string.split(\" \")))))\n",
    "    print(f'Output: {out_string}')\n",
    "    \n",
    "sortAlphaNumerically()"
   ]
  },
  {
   "cell_type": "code",
   "execution_count": null,
   "id": "d1211856",
   "metadata": {},
   "outputs": [],
   "source": [
    "Question 5:\n",
    "Write a program that accepts a sentence and calculate the number of letters and digits.\n",
    "Suppose the following input is supplied to the program:\n",
    "hello world! 123\n",
    "Then, the output should be:\n",
    "LETTERS 10\n",
    "\n",
    "DIGITS 3"
   ]
  },
  {
   "cell_type": "code",
   "execution_count": 7,
   "id": "5cf08758",
   "metadata": {},
   "outputs": [
    {
     "name": "stdout",
     "output_type": "stream",
     "text": [
      "Enter the input string: hello world! 123\n",
      "Letters 10 \n",
      "Digits 3\n"
     ]
    }
   ],
   "source": [
    "def countletteranddigit():\n",
    "    in_string = input('Enter the input string: ')\n",
    "    letterslist = 'ABCDEFGHIJKLMNOPQRSTUVWXYZabcdefghijklmnopqrstuvwxyz'\n",
    "    digitlist = '0123456789'\n",
    "    letters = 0\n",
    "    digits = 0\n",
    "    for ele in in_string:\n",
    "        if ele in letterslist:\n",
    "            letters += 1\n",
    "        if ele in digitlist :\n",
    "            digits += 1\n",
    "    print(f'Letters {letters} \\nDigits {digits}')\n",
    "    \n",
    "countletteranddigit()"
   ]
  },
  {
   "cell_type": "code",
   "execution_count": null,
   "id": "8635e72a",
   "metadata": {},
   "outputs": [],
   "source": [
    "Question 6:\n",
    "A website requires the users to input username and password to register. Write a program to\n",
    "check the validity of password input by users.\n",
    "Following are the criteria for checking the password:\n",
    "1. At least 1 letter between [a-z]\n",
    "2. At least 1 number between [0-9]\n",
    "1. At least 1 letter between [A-Z]\n",
    "3. At least 1 character from [$#@]\n",
    "4. Minimum length of transaction password: 6\n",
    "5. Maximum length of transaction password: 12\n",
    "Your program should accept a sequence of comma separated passwords and will check them\n",
    "according to the above criteria. Passwords that match the criteria are to be printed, each\n",
    "separated by a comma.\n",
    "Example\n",
    "If the following passwords are given as input to the program:\n",
    "ABd1234@1,a F1#,2w3E*,2We3345\n",
    "Then, the output of the program should be:\n",
    "ABd1234@1"
   ]
  },
  {
   "cell_type": "code",
   "execution_count": 9,
   "id": "6d5e69ac",
   "metadata": {},
   "outputs": [
    {
     "name": "stdout",
     "output_type": "stream",
     "text": [
      "Enter the input string: FSADAfgd@#$, Adfg$^^ , WVV!@#\n",
      "FSADAfgd@#$\n",
      " Adfg$^^ \n"
     ]
    }
   ],
   "source": [
    "def check() :\n",
    "    in_string = input('Enter the input string: ')\n",
    "    small_list = 'abcdefghijklmnopqrstuvwxyz'\n",
    "    cap_list = 'ABCDEFGHIJKLMNOPQRSTUVWXYZ'\n",
    "    num_list = '0123456789'\n",
    "    special_list = '!@#$%^&*'\n",
    "    for ele in in_string.split(',') :\n",
    "        if len(ele) <= 12 and len(ele) >= 6 :\n",
    "            if any(i.isupper() for i in ele) :\n",
    "                if any(i.islower() for i in ele) :\n",
    "                    if any(i for i in ele if i in special_list) :\n",
    "                        print(ele)\n",
    "                        \n",
    "check()"
   ]
  }
 ],
 "metadata": {
  "kernelspec": {
   "display_name": "Python 3 (ipykernel)",
   "language": "python",
   "name": "python3"
  },
  "language_info": {
   "codemirror_mode": {
    "name": "ipython",
    "version": 3
   },
   "file_extension": ".py",
   "mimetype": "text/x-python",
   "name": "python",
   "nbconvert_exporter": "python",
   "pygments_lexer": "ipython3",
   "version": "3.9.12"
  }
 },
 "nbformat": 4,
 "nbformat_minor": 5
}
