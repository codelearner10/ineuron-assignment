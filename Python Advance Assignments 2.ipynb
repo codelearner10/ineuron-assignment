{
 "cells": [
  {
   "cell_type": "code",
   "execution_count": null,
   "id": "9c9a7fba",
   "metadata": {},
   "outputs": [],
   "source": [
    "Q1. What is the relationship between classes and modules?"
   ]
  },
  {
   "cell_type": "code",
   "execution_count": null,
   "id": "e357f520",
   "metadata": {},
   "outputs": [],
   "source": [
    "Ans : A pyhton is like an outlline/blueprint/mold for creating a new object. An object is anything that you wish to change \n",
    "      thorugh the code.\n",
    "     \n",
    "      Modules are the .py extensions containing Python code that can be imported inside another Python Program. \n",
    "      We can consider a module to be the same as a code library or a file that contains a set of functiions/classes\n",
    "      that you want to include in your application."
   ]
  },
  {
   "cell_type": "code",
   "execution_count": null,
   "id": "2b0106f9",
   "metadata": {},
   "outputs": [],
   "source": [
    "Q2. How do you make instances and classes?"
   ]
  },
  {
   "cell_type": "code",
   "execution_count": 4,
   "id": "b29bd0e3",
   "metadata": {},
   "outputs": [],
   "source": [
    "class employee :\n",
    "    def __init__(self,gender,salary) :\n",
    "        self.gender = gender\n",
    "        self.salary = salary\n",
    "        \n",
    "vishal = employee(\"male\" , 35000)"
   ]
  },
  {
   "cell_type": "code",
   "execution_count": 5,
   "id": "32f3760d",
   "metadata": {},
   "outputs": [
    {
     "data": {
      "text/plain": [
       "'male'"
      ]
     },
     "execution_count": 5,
     "metadata": {},
     "output_type": "execute_result"
    }
   ],
   "source": [
    "vishal.gender"
   ]
  },
  {
   "cell_type": "code",
   "execution_count": 6,
   "id": "f362961e",
   "metadata": {},
   "outputs": [
    {
     "data": {
      "text/plain": [
       "35000"
      ]
     },
     "execution_count": 6,
     "metadata": {},
     "output_type": "execute_result"
    }
   ],
   "source": [
    "vishal.salary"
   ]
  },
  {
   "cell_type": "code",
   "execution_count": null,
   "id": "4080a01b",
   "metadata": {},
   "outputs": [],
   "source": [
    "so in the above code vishal is the instance of class employee with attributes \"male\" adn 35000 and for creating the class\n",
    "use the keyword class is followed by the classname and semicolon. employee is the class"
   ]
  },
  {
   "cell_type": "code",
   "execution_count": null,
   "id": "9e880521",
   "metadata": {},
   "outputs": [],
   "source": [
    "Q3. Where and how should be class attributes created?"
   ]
  },
  {
   "cell_type": "code",
   "execution_count": null,
   "id": "f0423aa3",
   "metadata": {},
   "outputs": [],
   "source": [
    "Ans : Class attributes or class level attributes belong to the class itself. These attributes will be shared by all the instance\n",
    "      of the class. Hence these attributes are usually created/defined in the top of class defination outside all method\n",
    "     In the below code we are definig a class attribute called no_of_wheels which will be shared by all the instance of the \n",
    "     class Car"
   ]
  },
  {
   "cell_type": "code",
   "execution_count": 11,
   "id": "04de2212",
   "metadata": {},
   "outputs": [],
   "source": [
    "class Car : \n",
    "    no_of_wheels = 4\n",
    "    def __init__(self,color,price,engine) :\n",
    "        self.color = color\n",
    "        self.price = price\n",
    "        self.engine = engine\n",
    "audi = Car(\"white\" , 6700000 , \"diesel\" )"
   ]
  },
  {
   "cell_type": "code",
   "execution_count": 13,
   "id": "2896cd67",
   "metadata": {},
   "outputs": [
    {
     "data": {
      "text/plain": [
       "4"
      ]
     },
     "execution_count": 13,
     "metadata": {},
     "output_type": "execute_result"
    }
   ],
   "source": [
    "audi.no_of_wheels"
   ]
  },
  {
   "cell_type": "code",
   "execution_count": null,
   "id": "12a65502",
   "metadata": {},
   "outputs": [],
   "source": [
    "Q4. Where and how are instance attributes created?"
   ]
  },
  {
   "cell_type": "code",
   "execution_count": null,
   "id": "b81371b6",
   "metadata": {},
   "outputs": [],
   "source": [
    "Ans : Instance attributes are passed to the class when an object of the class is created. Unlike class attributes, instance \n",
    "      attributes are not shared by all object of the class. Instead each object maintains its own copy of instance attributes\n",
    "      at object level. Whereas in case attributes all instances of class refer to a single copy. Usually instance attributes \n",
    "      are defined with the __init__ method of class."
   ]
  },
  {
   "cell_type": "code",
   "execution_count": 7,
   "id": "87368cce",
   "metadata": {},
   "outputs": [],
   "source": [
    "class Car :\n",
    "    def __init__(self,color,price,engine) :\n",
    "        self.color = color \n",
    "        self.price = price\n",
    "        self.engine = engine\n",
    "\n",
    "nexon_ev = Car(\"indigo blue\" , 1500000 , \"electric\")\n",
    "safari =  Car(\"pearl red\" , \"2100000\" , \"petrol\")"
   ]
  },
  {
   "cell_type": "code",
   "execution_count": null,
   "id": "6729e325",
   "metadata": {},
   "outputs": [],
   "source": [
    "nexon_ev and safari are both the instance of class Car with different instance variables. "
   ]
  },
  {
   "cell_type": "code",
   "execution_count": null,
   "id": "6d8600bd",
   "metadata": {},
   "outputs": [],
   "source": [
    "Q5. What does the term \"self\" in a Python class mean?"
   ]
  },
  {
   "cell_type": "code",
   "execution_count": null,
   "id": "5294202f",
   "metadata": {},
   "outputs": [],
   "source": [
    "Ans : self represent the instance of the class. By using the \"self\" keyword we can access the attributes and methods of the \n",
    "      class with in the class python. It binds the attribute with the given arguments"
   ]
  },
  {
   "cell_type": "code",
   "execution_count": 15,
   "id": "79c6a9c6",
   "metadata": {},
   "outputs": [],
   "source": [
    "class Car :\n",
    "    def __init__(self,color,price,engine) :\n",
    "        self.color = color\n",
    "        self.price = price\n",
    "        self.engine = engine\n",
    "        \n",
    "mercedes = Car(\"mate blac\" , 7800000 , \"diesel\")\n",
    "bmw = Car(\"silver night\" , 8950000 , \"ev\")"
   ]
  },
  {
   "cell_type": "code",
   "execution_count": 16,
   "id": "43c190cf",
   "metadata": {},
   "outputs": [
    {
     "name": "stdout",
     "output_type": "stream",
     "text": [
      "{'color': 'mate blac', 'price': 7800000, 'engine': 'diesel'}\n",
      "{'color': 'silver night', 'price': 8950000, 'engine': 'ev'}\n"
     ]
    }
   ],
   "source": [
    "print(mercedes.__dict__)\n",
    "print(bmw.__dict__)"
   ]
  },
  {
   "cell_type": "code",
   "execution_count": null,
   "id": "ee87dcda",
   "metadata": {},
   "outputs": [],
   "source": [
    "Q6. How does a Python class handle operator overloading?"
   ]
  },
  {
   "cell_type": "code",
   "execution_count": null,
   "id": "787364ff",
   "metadata": {},
   "outputs": [],
   "source": [
    "Ans : Python classes handle operator overloading by using special methods called magic method. These special methods usually\n",
    "      begin and end with __(double underscore)\n",
    "        \n",
    "   + __add__()\n",
    "   - __sub__()\n",
    "   * __mul__()\n",
    "   / __div__()\n",
    "        "
   ]
  },
  {
   "cell_type": "code",
   "execution_count": 18,
   "id": "faa3161d",
   "metadata": {},
   "outputs": [
    {
     "name": "stdout",
     "output_type": "stream",
     "text": [
      "The total number of pages in 2 books is 300\n"
     ]
    }
   ],
   "source": [
    "class Book :\n",
    "    def __init__(self,pages) :\n",
    "        self.pages = pages\n",
    "    def __add__(self,other) :\n",
    "        return self.pages + other.pages\n",
    "b1 = Book(100)\n",
    "b2 = Book(200)\n",
    "print(f'The total number of pages in 2 books is {b1+b2}')"
   ]
  },
  {
   "cell_type": "code",
   "execution_count": null,
   "id": "db5eca38",
   "metadata": {},
   "outputs": [],
   "source": [
    "Q7. When do you consider allowing operator overloading of your classes?"
   ]
  },
  {
   "cell_type": "code",
   "execution_count": null,
   "id": "3f1aa91b",
   "metadata": {},
   "outputs": [],
   "source": [
    "Ans : When we want to have different meaning for the the same operator according to the context we use operator overloading."
   ]
  },
  {
   "cell_type": "code",
   "execution_count": null,
   "id": "2e5528e1",
   "metadata": {},
   "outputs": [],
   "source": [
    "Q8. What is the most popular form of operator overloading?"
   ]
  },
  {
   "cell_type": "code",
   "execution_count": null,
   "id": "09d2823d",
   "metadata": {},
   "outputs": [],
   "source": [
    "Ans : The most popoular form of operator overloading in python is by special methods called Magic methods. When usually\n",
    "      begin and end with double underscore. __methodname__"
   ]
  },
  {
   "cell_type": "code",
   "execution_count": 23,
   "id": "43e15284",
   "metadata": {},
   "outputs": [
    {
     "name": "stdout",
     "output_type": "stream",
     "text": [
      "Addition of obj1 and obj2 = 5\n",
      "Concatenation of obj3 and obj4 = Shashank Aggarwal\n"
     ]
    }
   ],
   "source": [
    "class A :\n",
    "    def __init__(self,a) :\n",
    "        self.a = a\n",
    "    def __add__(self,other) :\n",
    "        return self.a + other.a\n",
    "\n",
    "obj1 = A(3)\n",
    "obj2 = A(2)\n",
    "obj3 = A(\"Shashank\")\n",
    "obj4 = A(\" Aggarwal\")\n",
    "print(f'Addition of obj1 and obj2 = {obj1+obj2}')\n",
    "print(f'Concatenation of obj3 and obj4 = {obj3 + obj4}')"
   ]
  },
  {
   "cell_type": "code",
   "execution_count": null,
   "id": "79eb5360",
   "metadata": {},
   "outputs": [],
   "source": [
    "Q9. What are the two most important concepts to grasp in order to comprehend Python OOP code?"
   ]
  },
  {
   "cell_type": "code",
   "execution_count": null,
   "id": "e3ad30c6",
   "metadata": {},
   "outputs": [],
   "source": [
    "Ans : Class and Objects are the most important concepts to comprehend Python OOP code."
   ]
  }
 ],
 "metadata": {
  "kernelspec": {
   "display_name": "Python 3 (ipykernel)",
   "language": "python",
   "name": "python3"
  },
  "language_info": {
   "codemirror_mode": {
    "name": "ipython",
    "version": 3
   },
   "file_extension": ".py",
   "mimetype": "text/x-python",
   "name": "python",
   "nbconvert_exporter": "python",
   "pygments_lexer": "ipython3",
   "version": "3.10.0"
  }
 },
 "nbformat": 4,
 "nbformat_minor": 5
}
