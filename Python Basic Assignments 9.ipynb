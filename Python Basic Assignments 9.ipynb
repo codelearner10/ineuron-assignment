{
 "cells": [
  {
   "cell_type": "code",
   "execution_count": null,
   "id": "6ea74907",
   "metadata": {},
   "outputs": [],
   "source": [
    "1. To what does a relative path refer?"
   ]
  },
  {
   "cell_type": "code",
   "execution_count": null,
   "id": "5f5f9f19",
   "metadata": {},
   "outputs": [],
   "source": [
    "Ans : The relative path is the to some file with respect to your current working directory(PWD)"
   ]
  },
  {
   "cell_type": "code",
   "execution_count": null,
   "id": "e80103af",
   "metadata": {},
   "outputs": [],
   "source": [
    "2. What does an absolute path start with your operating system?"
   ]
  },
  {
   "cell_type": "code",
   "execution_count": null,
   "id": "3110b2d4",
   "metadata": {},
   "outputs": [],
   "source": [
    "Ans : In a linux based systems the absolute path starts with /. Where as in window based systems absolute path starts with C:"
   ]
  },
  {
   "cell_type": "code",
   "execution_count": null,
   "id": "841ea02c",
   "metadata": {},
   "outputs": [],
   "source": [
    "3. What do the functions os.getcwd() and os.chdir() do?"
   ]
  },
  {
   "cell_type": "code",
   "execution_count": null,
   "id": "78351dce",
   "metadata": {},
   "outputs": [],
   "source": [
    "Ans : os.getcwd() method tells us the location of current working directory (CWD).  Where as os.chdir() method in python\n",
    "used to change the current working directory to specific path. These function are similar to linux commands pwd and cd"
   ]
  },
  {
   "cell_type": "code",
   "execution_count": null,
   "id": "28e68a18",
   "metadata": {},
   "outputs": [],
   "source": [
    "4. What are the . and .. folders?"
   ]
  },
  {
   "cell_type": "code",
   "execution_count": null,
   "id": "a2e15f68",
   "metadata": {},
   "outputs": [],
   "source": [
    "Ans : . Represents the current Directory whereas .. Represents the Parent Directory of the Current Directory"
   ]
  },
  {
   "cell_type": "code",
   "execution_count": null,
   "id": "5ab3708c",
   "metadata": {},
   "outputs": [],
   "source": [
    "5. In C:\\bacon\\eggs\\spam.txt, which part is the dir name, and which part is the base name?"
   ]
  },
  {
   "cell_type": "code",
   "execution_count": null,
   "id": "5eb787f4",
   "metadata": {},
   "outputs": [],
   "source": [
    "Ans : The dir is C:\\\\bacon\\\\eggs\n",
    "      The Base name is spam.txt"
   ]
  },
  {
   "cell_type": "code",
   "execution_count": 1,
   "id": "9e015175",
   "metadata": {},
   "outputs": [
    {
     "name": "stdout",
     "output_type": "stream",
     "text": [
      "C:\\bacon\\eggs\n",
      "spam.txt\n"
     ]
    }
   ],
   "source": [
    "import os\n",
    "path = r'C:\\bacon\\eggs\\spam.txt'\n",
    "print(os.path.dirname(path))\n",
    "print(os.path.basename(path))"
   ]
  },
  {
   "cell_type": "code",
   "execution_count": null,
   "id": "1cf2863f",
   "metadata": {},
   "outputs": [],
   "source": [
    "6. What are the three “mode” arguments that can be passed to the open() function?"
   ]
  },
  {
   "cell_type": "code",
   "execution_count": null,
   "id": "258e3a78",
   "metadata": {},
   "outputs": [],
   "source": [
    "Ans : A file can be Accessed in python using open() function takes two arguments filename and mode of operation (optional)\n",
    "if mode is not is not provided the default mode of opening is read mode\n",
    "So, the syntax being open(filename,mode)\n",
    "\n",
    "'r' Read mode : This is the default mode for open(). The file is opened and a pointer is positioned at the beginning of \n",
    "                the file's content.\n",
    "'w' Write mode : Using this mode will overwrite any existing content in a file. If the given file doesn't a new one will\n",
    "                 be created.\n",
    "'r+' Read/Write Mode : Use this mode if you need to simultaneously read and write to file'.\n",
    "'a' Append Mode : With this mode the user can append the data without overwriting any already existing data in the file.\n",
    "'a+' Append and Read Mode : In this mode you can read and append the data without overwriting the original file.\n",
    "'x' Exclusive Creating Mode : This mode is for the sole purpose of creating new files. Use this mode if you know the file\n",
    "                              to be written doesn't exist beforehand "
   ]
  },
  {
   "cell_type": "code",
   "execution_count": null,
   "id": "c324bc1f",
   "metadata": {},
   "outputs": [],
   "source": [
    "7. What happens if an existing file is opened in write mode?"
   ]
  },
  {
   "cell_type": "code",
   "execution_count": null,
   "id": "7192009e",
   "metadata": {},
   "outputs": [],
   "source": [
    "Ans : Using this mode will overwrite any existing content in a file. If the given file does not exist, a new one will be\n",
    "      created"
   ]
  },
  {
   "cell_type": "code",
   "execution_count": null,
   "id": "4644f98d",
   "metadata": {},
   "outputs": [],
   "source": [
    "8. How do you tell the difference between read() and readlines()?"
   ]
  },
  {
   "cell_type": "code",
   "execution_count": null,
   "id": "968897ee",
   "metadata": {},
   "outputs": [],
   "source": [
    "Ans : The main diffrence is that read() will read the whole file at once and the first characters that take up as many\n",
    "bytes ad you specify in the paranthesis where as the readlines() that will read and print out only the first character \n",
    "that take up as many bytes as you specify in the paranthesis. You may want to use readline() wheh you're reading files \n",
    "that are too big for you RAM."
   ]
  },
  {
   "cell_type": "code",
   "execution_count": null,
   "id": "b27c5dac",
   "metadata": {},
   "outputs": [],
   "source": [
    "9. What data structure does a shelf value resemble?"
   ]
  },
  {
   "cell_type": "code",
   "execution_count": null,
   "id": "3735785b",
   "metadata": {},
   "outputs": [],
   "source": [
    "Ans : It contains key and values it represents dictionary."
   ]
  }
 ],
 "metadata": {
  "kernelspec": {
   "display_name": "Python 3 (ipykernel)",
   "language": "python",
   "name": "python3"
  },
  "language_info": {
   "codemirror_mode": {
    "name": "ipython",
    "version": 3
   },
   "file_extension": ".py",
   "mimetype": "text/x-python",
   "name": "python",
   "nbconvert_exporter": "python",
   "pygments_lexer": "ipython3",
   "version": "3.9.12"
  }
 },
 "nbformat": 4,
 "nbformat_minor": 5
}
