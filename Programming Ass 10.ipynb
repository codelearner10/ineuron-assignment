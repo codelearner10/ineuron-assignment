{
 "cells": [
  {
   "cell_type": "code",
   "execution_count": null,
   "id": "63244cf6",
   "metadata": {},
   "outputs": [],
   "source": [
    "1. Write a Python program to find sum of elements in list?"
   ]
  },
  {
   "cell_type": "code",
   "execution_count": 1,
   "id": "6133e8e1",
   "metadata": {},
   "outputs": [
    {
     "name": "stdout",
     "output_type": "stream",
     "text": [
      "Enter the number5\n",
      "Enter a element: 1\n",
      "Enter a element: 4\n",
      "Enter a element: 5\n",
      "Enter a element: 434\n",
      "Enter a element: 45\n",
      "sum of elements: 489\n"
     ]
    }
   ],
   "source": [
    "def sums() :\n",
    "    eles = int(input('Enter the number'))\n",
    "    lists = []\n",
    "    for itr in range(eles) :\n",
    "        lists.append(int(input('Enter a element: ')))\n",
    "    print(f'sum of elements: {sum(lists)}')\n",
    "sums()"
   ]
  },
  {
   "cell_type": "code",
   "execution_count": 3,
   "id": "be1edf10",
   "metadata": {},
   "outputs": [
    {
     "name": "stdout",
     "output_type": "stream",
     "text": [
      "Enter the number: 5\n",
      "Enter the element: 1\n",
      "Enter the element: 2\n",
      "Enter the element: 3\n",
      "Enter the element: 4\n",
      "Enter the element: 5\n",
      "120\n"
     ]
    }
   ],
   "source": [
    "def multi() :\n",
    "    eles = int(input(\"Enter the number: \"))\n",
    "    lists = []\n",
    "    mul = 1\n",
    "    for itr in range(eles) :\n",
    "        lists.append(int(input('Enter the element: ')))\n",
    "    for ele in lists :\n",
    "        mul = mul*ele\n",
    "    print(mul)\n",
    "    \n",
    "multi()"
   ]
  },
  {
   "cell_type": "code",
   "execution_count": null,
   "id": "7bbc8b05",
   "metadata": {},
   "outputs": [],
   "source": [
    "3. Write a Python program to find smallest number in a list?"
   ]
  },
  {
   "cell_type": "code",
   "execution_count": 3,
   "id": "f8688d40",
   "metadata": {},
   "outputs": [
    {
     "name": "stdout",
     "output_type": "stream",
     "text": [
      "Enter the no of elements in a list: 5\n",
      "Enter a element: 654\n",
      "Enter a element: 51625\n",
      "Enter a element: 46\n",
      "Enter a element: 46\n",
      "Enter a element: 65463165\n",
      "the samllest elements in [654, 51625, 46, 46, 65463165] is 46\n"
     ]
    }
   ],
   "source": [
    "def small() :\n",
    "    eles = int(input('Enter the no of elements in a list: '))\n",
    "    lists =  []\n",
    "    for ele in range(eles) :\n",
    "        lists.append(int(input('Enter a element: ')))\n",
    "    print(f'the samllest elements in {lists} is {sorted(lists)[0]}')\n",
    "    \n",
    "small()"
   ]
  },
  {
   "cell_type": "code",
   "execution_count": null,
   "id": "73ec0ef0",
   "metadata": {},
   "outputs": [],
   "source": [
    "4. Write a Python program to find largest number in a list?"
   ]
  },
  {
   "cell_type": "code",
   "execution_count": 7,
   "id": "6e69a280",
   "metadata": {},
   "outputs": [
    {
     "name": "stdout",
     "output_type": "stream",
     "text": [
      "Enter the number of elements: 5\n",
      "Enter a element: 6513549\n",
      "Enter a element: 4161\n",
      "Enter a element: 6562\n",
      "Enter a element: 161661\n",
      "Enter a element: 626216\n",
      "the largest element in [6513549, 4161, 6562, 161661, 626216] is 6513549\n"
     ]
    }
   ],
   "source": [
    "def large() :\n",
    "    eles = int(input(\"Enter the number of elements: \"))\n",
    "    lists = []\n",
    "    for ele in range(eles) :\n",
    "        lists.append(int(input('Enter a element: ')))\n",
    "    print(f'the largest element in {lists} is {sorted(lists,reverse=True)[0]}')\n",
    "    \n",
    "large()"
   ]
  },
  {
   "cell_type": "code",
   "execution_count": null,
   "id": "fd6505ac",
   "metadata": {},
   "outputs": [],
   "source": [
    "5. Write a Python program to find second largest number in a list?"
   ]
  },
  {
   "cell_type": "code",
   "execution_count": 2,
   "id": "25f66750",
   "metadata": {},
   "outputs": [
    {
     "name": "stdout",
     "output_type": "stream",
     "text": [
      "Enter the no of elements in a list: 5\n",
      "Enter a element: 54\n",
      "Enter a element: 665\n",
      "Enter a element: 6984546\n",
      "Enter a element: 65\n",
      "Enter a element: 6565\n",
      "Teh second largest element in [54, 665, 6984546, 65, 6565] is 6565\n"
     ]
    }
   ],
   "source": [
    "def sl() :\n",
    "    eles = int(input('Enter the no of elements in a list: '))\n",
    "    lists = []\n",
    "    for ele in range(eles) :\n",
    "        lists.append(int(input('Enter a element: ')))\n",
    "    print(f'Teh second largest element in {lists} is {sorted(lists,reverse=True)[1]}')\n",
    "    \n",
    "sl()"
   ]
  },
  {
   "cell_type": "code",
   "execution_count": null,
   "id": "37ce77c2",
   "metadata": {},
   "outputs": [],
   "source": [
    "6. Write a Python program to find N largest elements from a list?"
   ]
  },
  {
   "cell_type": "code",
   "execution_count": 3,
   "id": "9e4aa383",
   "metadata": {},
   "outputs": [
    {
     "name": "stdout",
     "output_type": "stream",
     "text": [
      "Enter the no of elements in a list10\n",
      "Enter the element: 545\n",
      "Enter the element: 656\n",
      "Enter the element: 54\n",
      "Enter the element: 5\n",
      "Enter the element: 1\n",
      "Enter the element: 5\n",
      "Enter the element: 54\n",
      "Enter the element: 51\n",
      "Enter the element: 545\n",
      "Enter the element: 45\n",
      "The 4 largest element in [545, 656, 54, 5, 1, 5, 54, 51, 545, 45] is [656, 545, 545, 54]\n"
     ]
    }
   ],
   "source": [
    "def nlm(k) :\n",
    "    eles = int(input('Enter the no of elements in a list'))\n",
    "    lists = []\n",
    "    for ele in range(eles) :\n",
    "        lists.append(int(input('Enter the element: ')))\n",
    "    print(f'The {k} largest element in {lists} is {sorted(lists,reverse=True)[0:k]}')\n",
    "    \n",
    "nlm(4)"
   ]
  },
  {
   "cell_type": "code",
   "execution_count": null,
   "id": "4fb96e45",
   "metadata": {},
   "outputs": [],
   "source": [
    "7. Write a Python program to print even numbers in a list?"
   ]
  },
  {
   "cell_type": "code",
   "execution_count": 4,
   "id": "a0a6a4bd",
   "metadata": {},
   "outputs": [
    {
     "name": "stdout",
     "output_type": "stream",
     "text": [
      "Enter the no of elements in a list: 6\n",
      "Enter a element: 1\n",
      "Enter a element: 2\n",
      "Enter a element: 3\n",
      "Enter a element: 45\n",
      "Enter a element: 56\n",
      "Enter a element: 4\n",
      "The even elements in [1, 2, 3, 45, 56, 4] are [2, 56, 4]\n"
     ]
    }
   ],
   "source": [
    "def even() :\n",
    "    eles = int(input('Enter the no of elements in a list: '))\n",
    "    lists = []\n",
    "    evl = []\n",
    "    for ele in range(eles) :\n",
    "        lists.append(int(input('Enter a element: ')))\n",
    "    for ele in lists :\n",
    "        if ele%2==0 :\n",
    "            evl.append(ele)\n",
    "    print(f'The even elements in {lists} are {evl}')\n",
    "    \n",
    "even()"
   ]
  },
  {
   "cell_type": "code",
   "execution_count": null,
   "id": "afa97c49",
   "metadata": {},
   "outputs": [],
   "source": [
    "8. Write a Python program to print odd numbers in a List?"
   ]
  },
  {
   "cell_type": "code",
   "execution_count": 6,
   "id": "a5f97689",
   "metadata": {},
   "outputs": [
    {
     "name": "stdout",
     "output_type": "stream",
     "text": [
      "Enter the no of elements in a list: 6\n",
      "Enter a element: 8\n",
      "Enter a element: 5\n",
      "Enter a element: 4\n",
      "Enter a element: 61\n",
      "Enter a element: 92\n",
      "Enter a element: 52\n",
      "The even elements in [8, 5, 4, 61, 92, 52] are [5, 61]\n"
     ]
    }
   ],
   "source": [
    "def odd() :\n",
    "    eles = int(input('Enter the no of elements in a list: '))\n",
    "    lists = []\n",
    "    odds = []\n",
    "    for ele in range(eles) :\n",
    "        lists.append(int(input('Enter a element: ')))\n",
    "    for ele in lists :\n",
    "        if ele%2 != 0 :\n",
    "            odds.append(ele)\n",
    "            \n",
    "    print(f'The even elements in {lists} are {odds}')\n",
    "    \n",
    "odd()"
   ]
  },
  {
   "cell_type": "code",
   "execution_count": null,
   "id": "bc9d040c",
   "metadata": {},
   "outputs": [],
   "source": [
    "9. Write a Python program to Remove empty List from List?"
   ]
  },
  {
   "cell_type": "code",
   "execution_count": 12,
   "id": "d63a9308",
   "metadata": {},
   "outputs": [
    {
     "name": "stdout",
     "output_type": "stream",
     "text": [
      "Enter all elements of the lists: [1,1,5,6,8,2,5,83,[],26,6,5]\n",
      "There is any empty list in [1, 1, 5, 6, 8, 2, 5, 83, [], 26, 6, 5] at position [1, 1, 5, 6, 8, 2, 5, 83, [], 26, 6, 5] at Position 8\n",
      "The list after removing [] is [1, 1, 5, 6, 8, 2, 5, 83, 26, 6, 5]\n"
     ]
    }
   ],
   "source": [
    "def check() :\n",
    "    lists = eval(input('Enter all elements of the lists: '))\n",
    "    if [] in lists :\n",
    "        print(f'There is any empty list in {lists} at position {lists} at Position {lists.index([])}')\n",
    "        lists.remove([])\n",
    "        print(f'The list after removing [] is {lists}')\n",
    "    else :\n",
    "        print(f\"There is no [] list in the list {lists}\")\n",
    "\n",
    "check()"
   ]
  },
  {
   "cell_type": "code",
   "execution_count": null,
   "id": "a8ea7909",
   "metadata": {},
   "outputs": [],
   "source": [
    "10. Write a Python program to Cloning or Copying a list?"
   ]
  },
  {
   "cell_type": "code",
   "execution_count": 13,
   "id": "dd4e9069",
   "metadata": {},
   "outputs": [
    {
     "name": "stdout",
     "output_type": "stream",
     "text": [
      "Enter the list [1,2,3,52,65,35,25,2]\n",
      "[1, 2, 3, 52, 65, 35, 25, 2] 1543106197056\n",
      "[1, 2, 3, 52, 65, 35, 25, 2] 1543106431232\n"
     ]
    }
   ],
   "source": [
    "import copy \n",
    "\n",
    "def clonelist() :\n",
    "    lists = eval(input('Enter the list '))\n",
    "    print(lists,id(lists))\n",
    "    cloned = lists.copy()\n",
    "    print(cloned,id(cloned))\n",
    "    \n",
    "clonelist()"
   ]
  },
  {
   "cell_type": "code",
   "execution_count": null,
   "id": "a6787f3c",
   "metadata": {},
   "outputs": [],
   "source": [
    "11. Write a Python program to Count occurrences of an element in a list?"
   ]
  },
  {
   "cell_type": "code",
   "execution_count": 14,
   "id": "6ec496c1",
   "metadata": {},
   "outputs": [
    {
     "name": "stdout",
     "output_type": "stream",
     "text": [
      "Enter the elements of the list: [1,2,12,3,5,32,5,3,5,3,2,3,82,8,2,86,56,6]\n",
      "Enter trhe element to find: 3\n",
      "There are 4 occurences of 3 in [1, 2, 12, 3, 5, 32, 5, 3, 5, 3, 2, 3, 82, 8, 2, 86, 56, 6]\n"
     ]
    }
   ],
   "source": [
    "def checx() :\n",
    "    lists = eval(input('Enter the elements of the list: '))\n",
    "    num = eval(input('Enter trhe element to find: '))\n",
    "    count = 0\n",
    "    if num in lists :\n",
    "        for ele in lists :\n",
    "            if ele == num :\n",
    "                count = count+1\n",
    "                \n",
    "    print(f'There are {count} occurences of {num} in {lists}')\n",
    "    \n",
    "checx()"
   ]
  }
 ],
 "metadata": {
  "kernelspec": {
   "display_name": "Python 3 (ipykernel)",
   "language": "python",
   "name": "python3"
  },
  "language_info": {
   "codemirror_mode": {
    "name": "ipython",
    "version": 3
   },
   "file_extension": ".py",
   "mimetype": "text/x-python",
   "name": "python",
   "nbconvert_exporter": "python",
   "pygments_lexer": "ipython3",
   "version": "3.9.12"
  }
 },
 "nbformat": 4,
 "nbformat_minor": 5
}
