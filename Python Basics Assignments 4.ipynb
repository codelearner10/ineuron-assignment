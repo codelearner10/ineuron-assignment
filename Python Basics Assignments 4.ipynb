{
 "cells": [
  {
   "cell_type": "code",
   "execution_count": null,
   "id": "a76158e9",
   "metadata": {},
   "outputs": [],
   "source": [
    "1. What exactly is []?\n",
    "Ans : It represents the empty list means it contains no items."
   ]
  },
  {
   "cell_type": "code",
   "execution_count": null,
   "id": "990a9859",
   "metadata": {},
   "outputs": [],
   "source": [
    "2. In a list of values stored in a variable called spam, how would you assign the value 'hello' as the\n",
    "third value? (Assume [2, 4, 6, 8, 10] are in spam.)"
   ]
  },
  {
   "cell_type": "code",
   "execution_count": 2,
   "id": "929fefc0",
   "metadata": {},
   "outputs": [
    {
     "data": {
      "text/plain": [
       "[2, 4, 6, 8, 10]"
      ]
     },
     "execution_count": 2,
     "metadata": {},
     "output_type": "execute_result"
    }
   ],
   "source": [
    "spam = [2,4,6,8,10]\n",
    "spam"
   ]
  },
  {
   "cell_type": "code",
   "execution_count": 3,
   "id": "c2018e32",
   "metadata": {},
   "outputs": [],
   "source": [
    "spam[2] = 'hello'"
   ]
  },
  {
   "cell_type": "code",
   "execution_count": 4,
   "id": "602beacc",
   "metadata": {},
   "outputs": [
    {
     "data": {
      "text/plain": [
       "[2, 4, 'hello', 8, 10]"
      ]
     },
     "execution_count": 4,
     "metadata": {},
     "output_type": "execute_result"
    }
   ],
   "source": [
    "spam"
   ]
  },
  {
   "cell_type": "code",
   "execution_count": null,
   "id": "4b3ec9f6",
   "metadata": {},
   "outputs": [],
   "source": [
    "Let's pretend the spam includes the list ['a','b','c',d'] for the next three queries."
   ]
  },
  {
   "cell_type": "code",
   "execution_count": 5,
   "id": "94d1071b",
   "metadata": {},
   "outputs": [
    {
     "data": {
      "text/plain": [
       "['a', 'b', 'c', 'd']"
      ]
     },
     "execution_count": 5,
     "metadata": {},
     "output_type": "execute_result"
    }
   ],
   "source": [
    "spam = ['a' , 'b' , 'c' , 'd']\n",
    "spam"
   ]
  },
  {
   "cell_type": "code",
   "execution_count": null,
   "id": "af04bf59",
   "metadata": {},
   "outputs": [],
   "source": [
    "3. What is the value of spam[int(int('3'*2) / 11)]?"
   ]
  },
  {
   "cell_type": "code",
   "execution_count": 8,
   "id": "d644afc8",
   "metadata": {},
   "outputs": [],
   "source": [
    "Ans : spam[int(int('3'*2)/11)] = spam[3]"
   ]
  },
  {
   "cell_type": "code",
   "execution_count": 9,
   "id": "107e13cf",
   "metadata": {},
   "outputs": [
    {
     "data": {
      "text/plain": [
       "'d'"
      ]
     },
     "execution_count": 9,
     "metadata": {},
     "output_type": "execute_result"
    }
   ],
   "source": [
    "spam[3]"
   ]
  },
  {
   "cell_type": "code",
   "execution_count": null,
   "id": "11ac9f96",
   "metadata": {},
   "outputs": [],
   "source": [
    "4. What is the value of spam[-1]?"
   ]
  },
  {
   "cell_type": "code",
   "execution_count": 12,
   "id": "95ee7e7f",
   "metadata": {},
   "outputs": [
    {
     "data": {
      "text/plain": [
       "'d'"
      ]
     },
     "execution_count": 12,
     "metadata": {},
     "output_type": "execute_result"
    }
   ],
   "source": [
    "spam[-1]"
   ]
  },
  {
   "cell_type": "code",
   "execution_count": null,
   "id": "867486b6",
   "metadata": {},
   "outputs": [],
   "source": [
    "5. What is the value of spam[:2]?"
   ]
  },
  {
   "cell_type": "code",
   "execution_count": 13,
   "id": "29cc492a",
   "metadata": {},
   "outputs": [
    {
     "data": {
      "text/plain": [
       "['a', 'b']"
      ]
     },
     "execution_count": 13,
     "metadata": {},
     "output_type": "execute_result"
    }
   ],
   "source": [
    "spam[:2]"
   ]
  },
  {
   "cell_type": "code",
   "execution_count": null,
   "id": "c1d219fa",
   "metadata": {},
   "outputs": [],
   "source": [
    "Let's pretend bacon has the list [3.14,'cat',11,'cat',True] for the next three question"
   ]
  },
  {
   "cell_type": "code",
   "execution_count": 14,
   "id": "5da33854",
   "metadata": {},
   "outputs": [
    {
     "data": {
      "text/plain": [
       "[3.14, 'cat', 11, 'cat', True]"
      ]
     },
     "execution_count": 14,
     "metadata": {},
     "output_type": "execute_result"
    }
   ],
   "source": [
    "bacon = [3.14 , 'cat' , 11 , 'cat' ,True]\n",
    "bacon"
   ]
  },
  {
   "cell_type": "code",
   "execution_count": null,
   "id": "afc006c2",
   "metadata": {},
   "outputs": [],
   "source": [
    "6. What is the value of bacon.index('cat')?"
   ]
  },
  {
   "cell_type": "code",
   "execution_count": 15,
   "id": "f1c30b2e",
   "metadata": {},
   "outputs": [
    {
     "data": {
      "text/plain": [
       "1"
      ]
     },
     "execution_count": 15,
     "metadata": {},
     "output_type": "execute_result"
    }
   ],
   "source": [
    "bacon.index('cat')"
   ]
  },
  {
   "cell_type": "code",
   "execution_count": null,
   "id": "e9c76fe3",
   "metadata": {},
   "outputs": [],
   "source": [
    "7. How does bacon.append(99) change the look of the list value in bacon?"
   ]
  },
  {
   "cell_type": "code",
   "execution_count": 16,
   "id": "8ffa51c6",
   "metadata": {},
   "outputs": [
    {
     "data": {
      "text/plain": [
       "[3.14, 'cat', 11, 'cat', True]"
      ]
     },
     "execution_count": 16,
     "metadata": {},
     "output_type": "execute_result"
    }
   ],
   "source": [
    "bacon"
   ]
  },
  {
   "cell_type": "code",
   "execution_count": 4,
   "id": "6aba7d7f",
   "metadata": {},
   "outputs": [],
   "source": [
    "bacon = [3.14 , 'cat' , 11 , 'cat' ,True]"
   ]
  },
  {
   "cell_type": "code",
   "execution_count": 6,
   "id": "b11bab2b",
   "metadata": {},
   "outputs": [],
   "source": [
    "bacon.append(99)\n"
   ]
  },
  {
   "cell_type": "code",
   "execution_count": 7,
   "id": "d07d3347",
   "metadata": {},
   "outputs": [
    {
     "name": "stdout",
     "output_type": "stream",
     "text": [
      "[3.14, 'cat', 11, 'cat', True, 99]\n"
     ]
    }
   ],
   "source": [
    "print(bacon) # by append the length of bacon is change form 6 to 7 "
   ]
  },
  {
   "cell_type": "code",
   "execution_count": null,
   "id": "cdaeab98",
   "metadata": {},
   "outputs": [],
   "source": [
    "8. How does bacon.remove('cat') change the look of the list in bacon?"
   ]
  },
  {
   "cell_type": "code",
   "execution_count": 11,
   "id": "ed917412",
   "metadata": {},
   "outputs": [
    {
     "data": {
      "text/plain": [
       "[3.14, 'cat', 11, 'cat', True, 99]"
      ]
     },
     "execution_count": 11,
     "metadata": {},
     "output_type": "execute_result"
    }
   ],
   "source": [
    "bacon"
   ]
  },
  {
   "cell_type": "code",
   "execution_count": 12,
   "id": "942d925d",
   "metadata": {},
   "outputs": [],
   "source": [
    "bacon.remove('cat')"
   ]
  },
  {
   "cell_type": "code",
   "execution_count": 13,
   "id": "621e5857",
   "metadata": {},
   "outputs": [
    {
     "data": {
      "text/plain": [
       "[3.14, 11, 'cat', True, 99]"
      ]
     },
     "execution_count": 13,
     "metadata": {},
     "output_type": "execute_result"
    }
   ],
   "source": [
    "bacon"
   ]
  },
  {
   "cell_type": "code",
   "execution_count": null,
   "id": "1a99b0d3",
   "metadata": {},
   "outputs": [],
   "source": [
    "9. What are the list concatenation and list replication operators?"
   ]
  },
  {
   "cell_type": "code",
   "execution_count": null,
   "id": "7e58c5cd",
   "metadata": {},
   "outputs": [],
   "source": [
    "Ans : For the list concatenation operator is + \n",
    "      For the list replication operatorr is *"
   ]
  },
  {
   "cell_type": "code",
   "execution_count": 15,
   "id": "d8c7b5e9",
   "metadata": {},
   "outputs": [
    {
     "name": "stdout",
     "output_type": "stream",
     "text": [
      "[7, 8, 5, 3, 3, 2, 6, 8]\n"
     ]
    }
   ],
   "source": [
    "l1 = [7,8,5,3]   #list concatenation \n",
    "l2 = [3,2,6,8]\n",
    "print(l1+l2)"
   ]
  },
  {
   "cell_type": "code",
   "execution_count": 18,
   "id": "5336d858",
   "metadata": {},
   "outputs": [
    {
     "name": "stdout",
     "output_type": "stream",
     "text": [
      "[7, 8, 5, 3, 7, 8, 5, 3]\n"
     ]
    }
   ],
   "source": [
    "print(l1*2)     #list replication"
   ]
  },
  {
   "cell_type": "code",
   "execution_count": null,
   "id": "8c67a2b6",
   "metadata": {},
   "outputs": [],
   "source": [
    "10. What is difference between the list methods append() and insert()?"
   ]
  },
  {
   "cell_type": "code",
   "execution_count": null,
   "id": "45391475",
   "metadata": {},
   "outputs": [],
   "source": [
    "And : In method append the element is add at the last index of the list you can't choose the index but in insert you can \n",
    "      choose the index by your choice\n",
    "    "
   ]
  },
  {
   "cell_type": "code",
   "execution_count": 23,
   "id": "20ab5246",
   "metadata": {},
   "outputs": [
    {
     "name": "stdout",
     "output_type": "stream",
     "text": [
      "[4, 6, 35, 6, 9]\n"
     ]
    }
   ],
   "source": [
    "l3 = [4,6,35,6]\n",
    "l3.append(9)\n",
    "print(l3)"
   ]
  },
  {
   "cell_type": "code",
   "execution_count": 26,
   "id": "1cb7cd6a",
   "metadata": {},
   "outputs": [
    {
     "name": "stdout",
     "output_type": "stream",
     "text": [
      "[5, 74, 'cat', 67, 47]\n"
     ]
    }
   ],
   "source": [
    "l4 = [5,74,67,47]\n",
    "l4.insert(2,\"cat\")\n",
    "print(l4)"
   ]
  },
  {
   "cell_type": "code",
   "execution_count": null,
   "id": "c4622484",
   "metadata": {},
   "outputs": [],
   "source": [
    "11. What are the two methods for removing items from a list?\n",
    "Ans : pop() and remove() are the methods for removing items from lists"
   ]
  },
  {
   "cell_type": "code",
   "execution_count": 29,
   "id": "3403486f",
   "metadata": {},
   "outputs": [
    {
     "name": "stdout",
     "output_type": "stream",
     "text": [
      "[55, 5345, 353, 53]\n"
     ]
    }
   ],
   "source": [
    "L1 = [55,5345,353,53,\"study\",]\n",
    "L1.remove(\"study\")\n",
    "print(L1)"
   ]
  },
  {
   "cell_type": "code",
   "execution_count": 30,
   "id": "8e4c9cd7",
   "metadata": {},
   "outputs": [
    {
     "name": "stdout",
     "output_type": "stream",
     "text": [
      "[55, 353, 53]\n"
     ]
    }
   ],
   "source": [
    "L1.pop(1)   #(1) is the index \n",
    "print(L1)"
   ]
  },
  {
   "cell_type": "code",
   "execution_count": null,
   "id": "c4046b77",
   "metadata": {},
   "outputs": [],
   "source": [
    "12. Describe how list values and string values are identical.\n",
    "Ans : 1- Both list and string can passed to len()\n",
    "      2- Have indexes and slices\n",
    "      3- Both can be used in for loop\n",
    "      4- Both can be concatenated and replicated "
   ]
  },
  {
   "cell_type": "code",
   "execution_count": null,
   "id": "5a531bac",
   "metadata": {},
   "outputs": [],
   "source": [
    "13. What's the difference between tuples and lists?\n",
    "Ans : Tuples are immutable : It can not be change at all. Tuples are written in round brackets()\n",
    "      Lists are mutable : They have value added, removed or changed. Lists are written in square brackets[]"
   ]
  },
  {
   "cell_type": "code",
   "execution_count": null,
   "id": "1de1ca8f",
   "metadata": {},
   "outputs": [],
   "source": [
    "14. How do you type a tuple value that only contains the integer 42?"
   ]
  },
  {
   "cell_type": "code",
   "execution_count": 6,
   "id": "af7b0af9",
   "metadata": {},
   "outputs": [
    {
     "name": "stdout",
     "output_type": "stream",
     "text": [
      "<class 'tuple'>\n"
     ]
    }
   ],
   "source": [
    "tup2 = (42,)\n",
    "print(type(tup2))"
   ]
  },
  {
   "cell_type": "code",
   "execution_count": null,
   "id": "0c939d0e",
   "metadata": {},
   "outputs": [],
   "source": [
    "15. How do you get a list value's tuple form? How do you get a tuple value's list form?"
   ]
  },
  {
   "cell_type": "code",
   "execution_count": null,
   "id": "edef8b03",
   "metadata": {},
   "outputs": [],
   "source": [
    "Ans : Use tuple() to get tuple vlaue from list and list[] for the list vlaue from tuple."
   ]
  },
  {
   "cell_type": "code",
   "execution_count": null,
   "id": "895e6f29",
   "metadata": {},
   "outputs": [],
   "source": [
    "16. Variables that \"contain\" list values are not necessarily lists themselves. Instead, what do they\n",
    "contain?"
   ]
  },
  {
   "cell_type": "code",
   "execution_count": null,
   "id": "79809ff0",
   "metadata": {},
   "outputs": [],
   "source": [
    "They contains refrences to the list value"
   ]
  },
  {
   "cell_type": "code",
   "execution_count": null,
   "id": "86287c83",
   "metadata": {},
   "outputs": [],
   "source": [
    "17. How do you distinguish between copy.copy() and copy.deepcopy()?"
   ]
  },
  {
   "cell_type": "code",
   "execution_count": null,
   "id": "c13feab8",
   "metadata": {},
   "outputs": [],
   "source": [
    "Asns : The copy.copy() will do the shallow copy of the list but copy.deepcopy() will do the deep copy of the list. Only\n",
    "       copy.deepcopy() will duplicate any list inside the list. "
   ]
  },
  {
   "cell_type": "code",
   "execution_count": null,
   "id": "72018ef1",
   "metadata": {},
   "outputs": [],
   "source": []
  },
  {
   "cell_type": "code",
   "execution_count": null,
   "id": "e2f79515",
   "metadata": {},
   "outputs": [],
   "source": []
  }
 ],
 "metadata": {
  "kernelspec": {
   "display_name": "Python 3 (ipykernel)",
   "language": "python",
   "name": "python3"
  },
  "language_info": {
   "codemirror_mode": {
    "name": "ipython",
    "version": 3
   },
   "file_extension": ".py",
   "mimetype": "text/x-python",
   "name": "python",
   "nbconvert_exporter": "python",
   "pygments_lexer": "ipython3",
   "version": "3.10.0"
  }
 },
 "nbformat": 4,
 "nbformat_minor": 5
}
