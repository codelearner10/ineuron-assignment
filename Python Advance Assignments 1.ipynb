{
 "cells": [
  {
   "cell_type": "code",
   "execution_count": null,
   "id": "3e738707",
   "metadata": {},
   "outputs": [],
   "source": [
    "Q1. What is the purpose of Python's OOP?"
   ]
  },
  {
   "cell_type": "code",
   "execution_count": null,
   "id": "9f96c753",
   "metadata": {},
   "outputs": [],
   "source": [
    "Ans : Object oriented programming is a programming paradigm that provides a means of structuring program so that properties \n",
    "      and behaviours are bundled in to individual objects\n",
    "\n",
    "1 - In python object oriented programming(OOPs) uses objects and classes in programming \n",
    "2 - It aims to implement real-world entities like inheritance,polymorphismp,encapsulation,etc in the programming\n",
    "3 - The main concept of OOPs is to bind the sata and the function that work on that together as a single unit so that no other\n",
    "     part of the code can access this data."
   ]
  },
  {
   "cell_type": "code",
   "execution_count": null,
   "id": "7aed65d9",
   "metadata": {},
   "outputs": [],
   "source": [
    "Q2. Where does an inheritance search look for an attribute?"
   ]
  },
  {
   "cell_type": "code",
   "execution_count": null,
   "id": "7f1b78ff",
   "metadata": {},
   "outputs": [],
   "source": [
    "Ans : Python searches for an attribute in an upward tree of attributes.It first searches for the attribute in its instance and \n",
    "      then looks in the class it is generated from to all super classes listed in its class header."
   ]
  },
  {
   "cell_type": "code",
   "execution_count": null,
   "id": "ae68abc6",
   "metadata": {},
   "outputs": [],
   "source": [
    "Q3. How do you distinguish between a class object and an instance object?"
   ]
  },
  {
   "cell_type": "code",
   "execution_count": null,
   "id": "d9b21163",
   "metadata": {},
   "outputs": [],
   "source": [
    "Ans : Class is a template for creating objects where as object is an intance of class\n",
    "      Seperate memory is allocated for each object whenever an object is created but for a class this does not happens\n",
    "      A class is created once. Many objects are created using a class\n",
    "      As Classes have no allocated memory. They can't be manipulated but objects can be maipulated."
   ]
  },
  {
   "cell_type": "code",
   "execution_count": null,
   "id": "0f9847a8",
   "metadata": {},
   "outputs": [],
   "source": [
    "Q4. What makes the first argument in a class’s method function special?"
   ]
  },
  {
   "cell_type": "code",
   "execution_count": null,
   "id": "0044c888",
   "metadata": {},
   "outputs": [],
   "source": [
    "Ans : Instance Method (object level methods)\n",
    "      Class Methods (class level methods)\n",
    "      Static Methods (general utility methods)\n",
    "      self is the first argument for the instance methds, which refers to the object itself\n",
    "      cls is the first argument for the class methods which refers to the class itself"
   ]
  },
  {
   "cell_type": "code",
   "execution_count": null,
   "id": "4ff7a2cc",
   "metadata": {},
   "outputs": [],
   "source": [
    "Q5. What is the purpose of the __init__ method?"
   ]
  },
  {
   "cell_type": "code",
   "execution_count": null,
   "id": "4be7159f",
   "metadata": {},
   "outputs": [],
   "source": [
    "Ans : __init__ is a reserved method in python classes. It serves the role of a constructor in object oriented terminology.\n",
    "     This method is called when an objet is created from a class and it allows the class to initialize the attributes of \n",
    "     the class"
   ]
  },
  {
   "cell_type": "code",
   "execution_count": null,
   "id": "e3370006",
   "metadata": {},
   "outputs": [],
   "source": [
    "Q6. What is the process for creating a class instance?"
   ]
  },
  {
   "cell_type": "code",
   "execution_count": null,
   "id": "d1bdb978",
   "metadata": {},
   "outputs": [],
   "source": [
    "Ans : To create a class instance we need to call by its name and pass the arguments to the class, which its __init__ method\n",
    "      accepts.\n",
    "    "
   ]
  },
  {
   "cell_type": "code",
   "execution_count": null,
   "id": "240b26fa",
   "metadata": {},
   "outputs": [],
   "source": [
    "my_name = my_classI(\"Mano\" , \"Vishnu\"), here my_name is an instance of the class my_name with attribute \"Mano\" and \"Vishnu\""
   ]
  },
  {
   "cell_type": "code",
   "execution_count": null,
   "id": "ad7f64fb",
   "metadata": {},
   "outputs": [],
   "source": [
    "Q7. What is the process for creating a class?"
   ]
  },
  {
   "cell_type": "code",
   "execution_count": null,
   "id": "b5a8b530",
   "metadata": {},
   "outputs": [],
   "source": [
    "Ans : class keyword is used to created a class in python. The syntax to create a class in python is class<classname>\n",
    "    "
   ]
  },
  {
   "cell_type": "code",
   "execution_count": null,
   "id": "d217c7ee",
   "metadata": {},
   "outputs": [],
   "source": [
    "class Car : this creates a class called Car"
   ]
  },
  {
   "cell_type": "code",
   "execution_count": null,
   "id": "b7823e69",
   "metadata": {},
   "outputs": [],
   "source": [
    "Q8. How would you define the superclasses of a class?"
   ]
  },
  {
   "cell_type": "code",
   "execution_count": null,
   "id": "201f17c1",
   "metadata": {},
   "outputs": [],
   "source": [
    "Ans : Superclass/Parent class is given as an argument to the child class"
   ]
  },
  {
   "cell_type": "code",
   "execution_count": null,
   "id": "a0c838db",
   "metadata": {},
   "outputs": [],
   "source": [
    "class Employee(Person) : here Employee is the child class which inherit the attributes and methods from the Parent class Person "
   ]
  },
  {
   "cell_type": "code",
   "execution_count": null,
   "id": "4db1a3ef",
   "metadata": {},
   "outputs": [],
   "source": []
  },
  {
   "cell_type": "code",
   "execution_count": null,
   "id": "34e54a7e",
   "metadata": {},
   "outputs": [],
   "source": []
  },
  {
   "cell_type": "code",
   "execution_count": null,
   "id": "c387aeea",
   "metadata": {},
   "outputs": [],
   "source": []
  },
  {
   "cell_type": "code",
   "execution_count": null,
   "id": "66574f1a",
   "metadata": {},
   "outputs": [],
   "source": []
  },
  {
   "cell_type": "code",
   "execution_count": null,
   "id": "0f1abc93",
   "metadata": {},
   "outputs": [],
   "source": []
  }
 ],
 "metadata": {
  "kernelspec": {
   "display_name": "Python 3 (ipykernel)",
   "language": "python",
   "name": "python3"
  },
  "language_info": {
   "codemirror_mode": {
    "name": "ipython",
    "version": 3
   },
   "file_extension": ".py",
   "mimetype": "text/x-python",
   "name": "python",
   "nbconvert_exporter": "python",
   "pygments_lexer": "ipython3",
   "version": "3.10.0"
  }
 },
 "nbformat": 4,
 "nbformat_minor": 5
}
