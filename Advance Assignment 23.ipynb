{
 "cells": [
  {
   "cell_type": "code",
   "execution_count": null,
   "id": "85629de8",
   "metadata": {},
   "outputs": [],
   "source": [
    "Q1. If you have any, what are your choices for increasing the comparison between different figures on\n",
    "the same graph?"
   ]
  },
  {
   "cell_type": "code",
   "execution_count": null,
   "id": "bf8913fb",
   "metadata": {},
   "outputs": [],
   "source": [
    "Matplotlib provides a convenient method called subplots for increasing the comparison between different figures on the\n",
    "same graph. Subplots mean a group of smaller axes\n"
   ]
  },
  {
   "cell_type": "code",
   "execution_count": null,
   "id": "5fc0816c",
   "metadata": {},
   "outputs": [],
   "source": [
    "Q2. Can you explain the benefit of compound interest over a higher rate of interest that does not\n",
    "compound after reading this chapter?"
   ]
  },
  {
   "cell_type": "code",
   "execution_count": null,
   "id": "ed9d4184",
   "metadata": {},
   "outputs": [],
   "source": [
    "Compound intereset makes a sum of money grow at a faster rate than simple interest, because in addtion t earning returns\n",
    "on the money you invest,you also earn returns on those returns at the end of every compounding period, which could be daily\n",
    ",monthly, quarterly or annualy"
   ]
  },
  {
   "cell_type": "code",
   "execution_count": null,
   "id": "6f628be8",
   "metadata": {},
   "outputs": [],
   "source": [
    "Q3. What is a histogram, exactly? Name a numpy method for creating such a graph."
   ]
  },
  {
   "cell_type": "code",
   "execution_count": null,
   "id": "55e91495",
   "metadata": {},
   "outputs": [],
   "source": [
    "Histogram shows total values of X wrt Y. Which means at any particular position of X,Y value shows the total number of\n",
    "counts or data below that value of X numpy.histogram() is the built in function used"
   ]
  },
  {
   "cell_type": "code",
   "execution_count": null,
   "id": "1902d05f",
   "metadata": {},
   "outputs": [],
   "source": [
    "Q4. If necessary, how do you change the aspect ratios between the X and Y axes?"
   ]
  },
  {
   "cell_type": "code",
   "execution_count": null,
   "id": "ac3988fb",
   "metadata": {},
   "outputs": [],
   "source": [
    "We can use figure(figsize=(10,8)) function inside the matplot.pyplot library which we scale down or up the graph"
   ]
  },
  {
   "cell_type": "code",
   "execution_count": null,
   "id": "48ded505",
   "metadata": {},
   "outputs": [],
   "source": [
    "Q5. Compare and contrast the three types of array multiplication between two numpy arrays: dot\n",
    "product, outer product, and regular multiplication of two numpy arrays."
   ]
  },
  {
   "cell_type": "code",
   "execution_count": null,
   "id": "3d1adbe0",
   "metadata": {},
   "outputs": [],
   "source": [
    "In regular multiplication values of same index get multiplied\n",
    "\n",
    "In dot product there is row wise multiplication, row of one array with column of second array and so on\n",
    "In outer multiplication every element of first array a1 will be multiply by every element of other array a2 such the \n",
    "number of columns will be equal to the number of element in another array a2"
   ]
  },
  {
   "cell_type": "code",
   "execution_count": null,
   "id": "bc10d618",
   "metadata": {},
   "outputs": [],
   "source": [
    "Q6. Before you buy a home, which numpy function will you use to measure your monthly mortgage\n",
    "payment?"
   ]
  },
  {
   "cell_type": "code",
   "execution_count": null,
   "id": "fc8fcff3",
   "metadata": {},
   "outputs": [],
   "source": [
    "np.pmt(rate, nper, py) function we will be using in order to calculate monthly mortgage payment before you puchase a house\n",
    "\n",
    "rate - the periodic interest rate\n",
    "nper - The number of payment periods\n",
    "pv - The total value of the mortgage loan"
   ]
  },
  {
   "cell_type": "code",
   "execution_count": null,
   "id": "2c2fa625",
   "metadata": {},
   "outputs": [],
   "source": [
    "Q7. Can string data be stored in numpy arrays? If so, list at least one restriction that applies to this\n",
    "data."
   ]
  },
  {
   "cell_type": "code",
   "execution_count": null,
   "id": "60d95e1e",
   "metadata": {},
   "outputs": [],
   "source": [
    "Yes an array can store the string. The limitaiton which imposed on the string data is, whenever we store the data of string\n",
    "type then should keep in mind that the string which is having the maximum length is the limit."
   ]
  }
 ],
 "metadata": {
  "kernelspec": {
   "display_name": "Python 3 (ipykernel)",
   "language": "python",
   "name": "python3"
  },
  "language_info": {
   "codemirror_mode": {
    "name": "ipython",
    "version": 3
   },
   "file_extension": ".py",
   "mimetype": "text/x-python",
   "name": "python",
   "nbconvert_exporter": "python",
   "pygments_lexer": "ipython3",
   "version": "3.9.12"
  }
 },
 "nbformat": 4,
 "nbformat_minor": 5
}
