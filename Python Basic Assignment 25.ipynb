{
 "cells": [
  {
   "cell_type": "code",
   "execution_count": null,
   "id": "2ad7abad",
   "metadata": {},
   "outputs": [],
   "source": [
    "1) . What is the difference between enclosing a list comprehension in square brackets and\n",
    "parentheses?"
   ]
  },
  {
   "cell_type": "code",
   "execution_count": null,
   "id": "dad78441",
   "metadata": {},
   "outputs": [],
   "source": [
    "Enclosing a list comprehension in square brackets returns a list but where as enclosing a list comprehension in paranthesis\n",
    "returns a generator object"
   ]
  },
  {
   "cell_type": "code",
   "execution_count": 1,
   "id": "1eb2939c",
   "metadata": {},
   "outputs": [
    {
     "name": "stdout",
     "output_type": "stream",
     "text": [
      "[0, 1, 2, 3, 4, 5, 6, 7, 8, 9] <class 'list'>\n",
      "<generator object <genexpr> at 0x000001AE71CB1820> <class 'generator'>\n"
     ]
    }
   ],
   "source": [
    "l = [ele for ele in range(10)]\n",
    "print(l, type(l))\n",
    "g = (ele for ele in range(10))\n",
    "print(g, type(g))"
   ]
  },
  {
   "cell_type": "code",
   "execution_count": null,
   "id": "05b920b0",
   "metadata": {},
   "outputs": [],
   "source": [
    "2) What is the relationship between generators and iterators?"
   ]
  },
  {
   "cell_type": "code",
   "execution_count": null,
   "id": "dfeb3a35",
   "metadata": {},
   "outputs": [],
   "source": [
    "An iterator is an object which contains a countable number of values and it is used to iterate over iterable objects like\n",
    "list,tuple,sets etc. Iterators are implement using a class. It follows lazy evaluation where the evaluation of the \n",
    "expression will be on hold and stored in the memory until the item is called specifically which helps us to avoid repeated\n",
    "evaluation.As lazy evaluation is implemented, it requires only 1 memory location to process the value and when we are using\n",
    "a large dataset then,wastage RAM space will be reduced to needed to load the entire datadet at the same time will not be \n",
    "there. For an iterator\n",
    "\n",
    "iter() keyword is used to create an iterator containing an iterable object. next() keyword is used to call the next element\n",
    "in the iterable object.\n",
    "\n",
    "Similarly Generators are an another way of creating iterators in a simple way where it uses the keyword yield statement\n",
    "instead of return statement in a defined function. Generators are implemented using function. Just as iterators,generators\n",
    "also follow lazy evaluation. Here, the yield function returns the data without affecting or exiting the function. It will\n",
    "return a sequence of data in an iterable format where we need to iterate over the sequence to use the data ad they won't \n",
    "store the entire sequence in the memory."
   ]
  },
  {
   "cell_type": "code",
   "execution_count": 2,
   "id": "b22937bc",
   "metadata": {},
   "outputs": [
    {
     "name": "stdout",
     "output_type": "stream",
     "text": [
      "<class 'list_iterator'>\n",
      "iNeuron\n",
      "Full\n",
      "Stack\n",
      "Data Science\n",
      "<list_iterator object at 0x000001AE71D6C0D0>\n",
      "0\n",
      "1\n",
      "8\n",
      "27\n",
      "64\n"
     ]
    }
   ],
   "source": [
    "iter_str = iter(['iNeuron','Full','Stack','Data Science'])\n",
    "print(type(iter_str))\n",
    "print(next(iter_str))\n",
    "print(next(iter_str))\n",
    "print(next(iter_str))\n",
    "print(next(iter_str))\n",
    "print(iter_str)\n",
    "\n",
    "def cube_numbers(in_num) :\n",
    "    for ele in range(in_num+1) :\n",
    "        yield ele**3\n",
    "        \n",
    "out_num = cube_numbers(4)\n",
    "print(next(out_num))\n",
    "print(next(out_num))\n",
    "print(next(out_num))\n",
    "print(next(out_num))\n",
    "print(next(out_num))\n"
   ]
  },
  {
   "cell_type": "code",
   "execution_count": null,
   "id": "622ab34c",
   "metadata": {},
   "outputs": [],
   "source": [
    "3) What are the signs that a function is a generator function?"
   ]
  },
  {
   "cell_type": "code",
   "execution_count": null,
   "id": "45ceb0fe",
   "metadata": {},
   "outputs": [],
   "source": [
    "A generator function uses a yield statement instead of a return statement. A generator function will always return a \n",
    "iterable object called generator,where as normal function can function a string/lsit/tuple/dict/NoneType"
   ]
  },
  {
   "cell_type": "code",
   "execution_count": null,
   "id": "0c182d94",
   "metadata": {},
   "outputs": [],
   "source": [
    "The yield statement suspends function's execution and sends a value back to the caller,but retains enough state to enable\n",
    "function to resume where it is left off.When resumed, the function continues execution immediately after the last yield run\n",
    "this allows its code to produce a series of values over time,rather than computing them at once and sending them back like\n",
    "a list."
   ]
  },
  {
   "cell_type": "code",
   "execution_count": null,
   "id": "21f459f2",
   "metadata": {},
   "outputs": [],
   "source": [
    "1-List comprehension is more concise and easier to read as compared to map\n",
    "2-List comprehension allows filtering. In map we have no such facility. For example to print all odd numbers in range in \n",
    "range of 50, we can write[n for n in range(50) if n%2 !=0]. There is no alternate for it in map\n",
    "3-List comprehension are used when a list of results is required as final output but map only returns a map object it \n",
    "needs \n",
    "to be explicitly converted to desired datatype\n",
    "4-List comprehension is faster than map when we need to evaluate expression that are too long or complicated to express\n",
    "5-Map is faster in case of calling an already defined function on a set of vlaues"
   ]
  }
 ],
 "metadata": {
  "kernelspec": {
   "display_name": "Python 3 (ipykernel)",
   "language": "python",
   "name": "python3"
  },
  "language_info": {
   "codemirror_mode": {
    "name": "ipython",
    "version": 3
   },
   "file_extension": ".py",
   "mimetype": "text/x-python",
   "name": "python",
   "nbconvert_exporter": "python",
   "pygments_lexer": "ipython3",
   "version": "3.9.12"
  }
 },
 "nbformat": 4,
 "nbformat_minor": 5
}
