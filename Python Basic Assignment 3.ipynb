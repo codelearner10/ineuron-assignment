{
 "cells": [
  {
   "cell_type": "code",
   "execution_count": null,
   "id": "d2d4d0c0",
   "metadata": {},
   "outputs": [],
   "source": [
    "1. Why are functions advantageous to have in your programs?\n",
    "Ans : The main advantage is that it reduce the duplicacy in the programs. If we declare the function for the particular code so we can use that function n times we don't have to write same code again and again, we just have to write the fnction name and the code which is lie under the function will execute. So it reduce the time as well.\n",
    "\n",
    "2. When does the code in a function run: when it's specified or when it's called?\n",
    "Ans : Code in a function run when it's called \n",
    "\n",
    "3. What statement creates a function?\n",
    "Ans : The def statement creates a function.\n",
    "Syntax : def function_name(parameter) :\n",
    "\n",
    "4. What is the difference between a function and a function call?\n",
    "Ans : Functionn is the block of code that does the particular operation and returns the result while function call is used to pass to control to a function.Using the function to perform the particular task at any point in the program is called function call.\n",
    "\n",
    "5. How many global scopes are there in a Python program? How many local scopes?\n",
    "Ans : There is only one gloabal and local scope in the python program whenever the function is define.\n",
    "\n",
    "6. What happens to variables in a local scope when the function call returns?\n",
    "Ans : Variable in local scope is destroyed when the function call returns.\n",
    "\n",
    "7. What is the concept of a return value? Is it possible to have a return value in an expression?\n",
    "Ans : Return value is the value that functiion call evaluates to. Return value can be use as the part of an expression. \n",
    "\n",
    "8. If a function does not have a return statement, what is the return value of a call to that function?\n",
    "Ans : If a function does not have the return value, the return value is None\n",
    "\n",
    "9. How do you make a function variable refer to the global variable?\n",
    "Ans : By using the keyword global which variable are global. \n"
   ]
  },
  {
   "cell_type": "code",
   "execution_count": 4,
   "id": "4907c971",
   "metadata": {},
   "outputs": [],
   "source": [
    "x = 5 \n",
    "def myfun(a,b) :\n",
    "    global x \n",
    "    x = 10\n",
    "    return a*b/x"
   ]
  },
  {
   "cell_type": "code",
   "execution_count": 5,
   "id": "2baa6c3d",
   "metadata": {},
   "outputs": [
    {
     "data": {
      "text/plain": [
       "300.0"
      ]
     },
     "execution_count": 5,
     "metadata": {},
     "output_type": "execute_result"
    }
   ],
   "source": [
    "myfun(60,50)"
   ]
  },
  {
   "cell_type": "code",
   "execution_count": null,
   "id": "4f2063c6",
   "metadata": {},
   "outputs": [],
   "source": [
    "10. What is the data type of None?\n",
    "Ans : Data type of none is None\n",
    "\n",
    "11. What does the sentence import areallyourpetsnamederic do?\n",
    "Ans : The import statement imports the module named areallyourpetsnamederic.\n",
    "\n",
    "12. If you had a bacon() feature in a spam module, what would you call it after importing spam?\n",
    "Ans : The function can be called with spam.bacon()\n",
    "    \n",
    "13. What can you do to save a programme from crashing if it encounters an error?\n",
    "Ans : Place the line code that have the error in a try clause and use the except block to handle the error.\n",
    "    \n",
    "14. What is the purpose of the try clause? What is the purpose of the except clause?\n",
    "Ans : Try clause helps you to test the code for errors on the other hand except block helps you to handle the errors."
   ]
  },
  {
   "cell_type": "code",
   "execution_count": null,
   "id": "0062e847",
   "metadata": {},
   "outputs": [],
   "source": []
  },
  {
   "cell_type": "code",
   "execution_count": null,
   "id": "7b74ef26",
   "metadata": {},
   "outputs": [],
   "source": []
  },
  {
   "cell_type": "code",
   "execution_count": null,
   "id": "289bca3c",
   "metadata": {},
   "outputs": [],
   "source": []
  }
 ],
 "metadata": {
  "kernelspec": {
   "display_name": "Python 3 (ipykernel)",
   "language": "python",
   "name": "python3"
  },
  "language_info": {
   "codemirror_mode": {
    "name": "ipython",
    "version": 3
   },
   "file_extension": ".py",
   "mimetype": "text/x-python",
   "name": "python",
   "nbconvert_exporter": "python",
   "pygments_lexer": "ipython3",
   "version": "3.10.0"
  }
 },
 "nbformat": 4,
 "nbformat_minor": 5
}
