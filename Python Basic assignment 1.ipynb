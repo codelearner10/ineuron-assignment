{
 "cells": [
  {
   "cell_type": "code",
   "execution_count": null,
   "id": "2cdc98f9",
   "metadata": {},
   "outputs": [],
   "source": [
    "1. In the below elements which of them are values or an expression? eg:- values can be\n",
    "integer or string and expressions will be mathematical operators.\n",
    "*\n",
    "&\n",
    "'hello'\n",
    "-87.8\n",
    "-\n",
    "/\n",
    "+\n",
    "6\n",
    "Ans 1 : Operators : -,*,/,+\n",
    "        Expressions :'hello' , -87.8 , 6"
   ]
  },
  {
   "cell_type": "code",
   "execution_count": null,
   "id": "9d4f2a01",
   "metadata": {},
   "outputs": [],
   "source": [
    "2. What is the difference between string and variable?\n",
    "Ans : Variable is used to store the information and string is the type of information which is stored in variable. String is the\n",
    "      group of character or a  single character which enclosed in \" \" , ' '."
   ]
  },
  {
   "cell_type": "code",
   "execution_count": null,
   "id": "432e382f",
   "metadata": {},
   "outputs": [],
   "source": [
    "3. Describe three different data types.\n",
    "Ans : Int data type - we can use int data type to represent whole numbers.\n",
    "      Float data type - we can use float data type to represent floating point values(decimal values). \n",
    "      Complex data type -we can use complex data type to represent complex class (real part + imaginay part : 4+7j) "
   ]
  },
  {
   "cell_type": "code",
   "execution_count": null,
   "id": "4078f5a2",
   "metadata": {},
   "outputs": [],
   "source": [
    "4. What is an expression made up of? What do all expressions do?\n",
    "Ans : An expression is the combination of values operators and call to function. Expression is need to be evaluated. If we ask the python\n",
    "      to print the expression then interpretator evaluates the expression and display the result."
   ]
  },
  {
   "cell_type": "code",
   "execution_count": 1,
   "id": "dd009c54",
   "metadata": {},
   "outputs": [
    {
     "data": {
      "text/plain": [
       "9.6"
      ]
     },
     "execution_count": 1,
     "metadata": {},
     "output_type": "execute_result"
    }
   ],
   "source": [
    "4*12/5 #expression and the result"
   ]
  },
  {
   "cell_type": "code",
   "execution_count": null,
   "id": "fb69513f",
   "metadata": {},
   "outputs": [],
   "source": [
    "4. This assignment statements, like spam = 10. What is the difference between an expression and a statement?\n",
    "Ans : An expression is a combination of operators and operands that interpreted to produce some other values but statement is \n",
    "      an instruction that a interpreter can execute. \n",
    "      Example : \n",
    "      "
   ]
  },
  {
   "cell_type": "code",
   "execution_count": 5,
   "id": "ac2efd69",
   "metadata": {},
   "outputs": [
    {
     "name": "stdout",
     "output_type": "stream",
     "text": [
      "Full Stack Data Science\n"
     ]
    }
   ],
   "source": [
    "Course_name = \"Full Stack Data Scinece\" #statement\n",
    "print(\"Full Stack Data Science\") #expression"
   ]
  },
  {
   "cell_type": "code",
   "execution_count": null,
   "id": "cd8aa637",
   "metadata": {},
   "outputs": [],
   "source": [
    "6. After running the following code, what does the variable bacon contain?\n",
    "bacon = 22\n",
    "bacon + 1\n",
    "Ans : It means bacon is set to 22, bacon+1 doesn't increase the value. "
   ]
  },
  {
   "cell_type": "code",
   "execution_count": 7,
   "id": "2a23d4ff",
   "metadata": {},
   "outputs": [
    {
     "name": "stdout",
     "output_type": "stream",
     "text": [
      "23\n"
     ]
    }
   ],
   "source": [
    "bacon = 22\n",
    "bacon + 1 # doesn't increase the \n",
    "bacon =  bacon + 1\n",
    "print(bacon)\n"
   ]
  },
  {
   "cell_type": "code",
   "execution_count": null,
   "id": "36ba9172",
   "metadata": {},
   "outputs": [],
   "source": [
    "What should the values of the following two terms be?\n",
    "'spam' + 'spamspam'\n",
    "'spam'*3\n",
    "Ans : Both give the same value of 'spamspamspam'. The first one is the string concatenation while the other is the string \n",
    "      multiplication"
   ]
  },
  {
   "cell_type": "code",
   "execution_count": 8,
   "id": "20f74a1d",
   "metadata": {},
   "outputs": [
    {
     "data": {
      "text/plain": [
       "'spamspamspam'"
      ]
     },
     "execution_count": 8,
     "metadata": {},
     "output_type": "execute_result"
    }
   ],
   "source": [
    "'spam' + 'spamspam' # string concatenation"
   ]
  },
  {
   "cell_type": "code",
   "execution_count": 9,
   "id": "62e0de63",
   "metadata": {},
   "outputs": [
    {
     "data": {
      "text/plain": [
       "'spamspamspam'"
      ]
     },
     "execution_count": 9,
     "metadata": {},
     "output_type": "execute_result"
    }
   ],
   "source": [
    "'spam' *3 # string multiplication"
   ]
  },
  {
   "cell_type": "code",
   "execution_count": null,
   "id": "1e686082",
   "metadata": {},
   "outputs": [],
   "source": [
    "8. Why is eggs a valid variable name while 100 is invalid?\n",
    "Ans : There is the some parameter for the valid variable name :\n",
    "      Variable name should not be start with the integer always start with the letter\n",
    "    Due to this parameter 100 is in valid variable name and eggs is valid"
   ]
  },
  {
   "cell_type": "code",
   "execution_count": null,
   "id": "1ff28753",
   "metadata": {},
   "outputs": [],
   "source": [
    "9. What three functions can be used to get the integer, floating-point number, or string\n",
    "version of a value?\n",
    "Ans : int() - evaluate the integer version of the vlaue\n",
    "      flaot() - evaluate the floating-point number\n",
    "      str() - evaluate the string version of a vlaue"
   ]
  },
  {
   "cell_type": "code",
   "execution_count": 18,
   "id": "693214a1",
   "metadata": {},
   "outputs": [
    {
     "name": "stdout",
     "output_type": "stream",
     "text": [
      "Integer value of 10.0 -> 10\n",
      "Float vlaue of 10 -> 10.0\n",
      "String version of 10 -> 10\n"
     ]
    }
   ],
   "source": [
    "print('Integer value of 10.0 ->' , int(10))\n",
    "print('Float vlaue of 10 ->' , float(10))\n",
    "print('String version of 10 ->' , str(10))"
   ]
  },
  {
   "cell_type": "code",
   "execution_count": null,
   "id": "0bf52556",
   "metadata": {},
   "outputs": [],
   "source": [
    "10. Why does this expression cause an error? How can you fix it?\n",
    "'I have eaten'+99+'burritos'\n",
    "Ans : While executing this expression we face the error because only the string can concatenate with string. String never \n",
    "      concatenate with the integer, so we have to typecast the 99 with string."
   ]
  },
  {
   "cell_type": "code",
   "execution_count": 29,
   "id": "48c8ebcf",
   "metadata": {},
   "outputs": [
    {
     "data": {
      "text/plain": [
       "'I have eaten 99 burritos.'"
      ]
     },
     "execution_count": 29,
     "metadata": {},
     "output_type": "execute_result"
    }
   ],
   "source": [
    "'I have eaten ' +str(99)+ ' burritos.'"
   ]
  },
  {
   "cell_type": "code",
   "execution_count": null,
   "id": "84d23792",
   "metadata": {},
   "outputs": [],
   "source": []
  }
 ],
 "metadata": {
  "kernelspec": {
   "display_name": "Python 3 (ipykernel)",
   "language": "python",
   "name": "python3"
  },
  "language_info": {
   "codemirror_mode": {
    "name": "ipython",
    "version": 3
   },
   "file_extension": ".py",
   "mimetype": "text/x-python",
   "name": "python",
   "nbconvert_exporter": "python",
   "pygments_lexer": "ipython3",
   "version": "3.10.0"
  }
 },
 "nbformat": 4,
 "nbformat_minor": 5
}
