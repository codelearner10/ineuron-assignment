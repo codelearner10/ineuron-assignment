{
 "cells": [
  {
   "cell_type": "code",
   "execution_count": null,
   "id": "4135ac98",
   "metadata": {},
   "outputs": [],
   "source": [
    "Q1. Does assigning a value to a string's indexed character violate Python&'s string immutability?"
   ]
  },
  {
   "cell_type": "code",
   "execution_count": null,
   "id": "571e05d9",
   "metadata": {},
   "outputs": [],
   "source": [
    "string's indexed character cannot to be assigned a new value, as strings are immutable"
   ]
  },
  {
   "cell_type": "code",
   "execution_count": null,
   "id": "b107c99d",
   "metadata": {},
   "outputs": [],
   "source": [
    "name = \"Reinforcement\"\n",
    "print(id(name)) = #73472\n",
    "name[0] = 'V' # Raises TypeError"
   ]
  },
  {
   "cell_type": "code",
   "execution_count": null,
   "id": "3b80f34d",
   "metadata": {},
   "outputs": [],
   "source": [
    "Q2. Does using the += operator to concatenate strings violate Python's string immutability? Why or\n",
    "why not?"
   ]
  },
  {
   "cell_type": "code",
   "execution_count": null,
   "id": "363904b3",
   "metadata": {},
   "outputs": [],
   "source": [
    "+= operator is used to concatenate strings it does not violate Python's string immutability Property. Because doing se\n",
    "new create a new association with data and variable e.g. srtr_1='a' and str_1+='b' effect of this statements to create \n",
    "string ab and ressign it to variable str_1 any string data is not actually modified"
   ]
  },
  {
   "cell_type": "code",
   "execution_count": 1,
   "id": "2dbc0181",
   "metadata": {},
   "outputs": [
    {
     "name": "stdout",
     "output_type": "stream",
     "text": [
      "1730461943152\n",
      "1730542464304\n"
     ]
    }
   ],
   "source": [
    "str_1 = 'a'\n",
    "print(id(str_1))\n",
    "str_1 += 'b'\n",
    "print(id(str_1))"
   ]
  },
  {
   "cell_type": "code",
   "execution_count": null,
   "id": "067861ff",
   "metadata": {},
   "outputs": [],
   "source": [
    "Q3. In Python, how many different ways are there to index a character?"
   ]
  },
  {
   "cell_type": "code",
   "execution_count": null,
   "id": "87a82068",
   "metadata": {},
   "outputs": [],
   "source": [
    "A character in string can be used indexed using string name followed by index number of character in square bracket. \n",
    "Positive Indexing i.e. first index is 0 an so on or Negative Indexing i.e. last is -1 and so on can be used to index a\n",
    "character"
   ]
  },
  {
   "cell_type": "code",
   "execution_count": 4,
   "id": "f29bf9e0",
   "metadata": {},
   "outputs": [
    {
     "name": "stdout",
     "output_type": "stream",
     "text": [
      "u F l e\n",
      "e i c\n"
     ]
    }
   ],
   "source": [
    "in_string = \"iNeuron Full Stack Data Science\"\n",
    "print(in_string[9],in_string[8],in_string[10],in_string[2])\n",
    "print(in_string[-1],in_string[-5],in_string[-2])"
   ]
  },
  {
   "cell_type": "code",
   "execution_count": null,
   "id": "d3633c58",
   "metadata": {},
   "outputs": [],
   "source": [
    "Q4. What is the relationship between indexing and slicing?"
   ]
  },
  {
   "cell_type": "code",
   "execution_count": null,
   "id": "9f0e4081",
   "metadata": {},
   "outputs": [],
   "source": [
    "we can access elements of sequence datatypes by using slicing and indexing.Indexing is used to obtaining individual element\n",
    "while slicing for sequence of elements"
   ]
  },
  {
   "cell_type": "code",
   "execution_count": 6,
   "id": "da2b8352",
   "metadata": {},
   "outputs": [
    {
     "name": "stdout",
     "output_type": "stream",
     "text": [
      "e r  \n",
      "Neuron Full St\n"
     ]
    }
   ],
   "source": [
    "s = \"iNeuron Full Stack Data Science\"\n",
    "print(s[2],s[4],s[7]) # Indexing\n",
    "print(s[1:15]) #slicing"
   ]
  },
  {
   "cell_type": "code",
   "execution_count": null,
   "id": "777463da",
   "metadata": {},
   "outputs": [],
   "source": [
    "Q5. What is an indexed character's exact data type? What is the data form of a slicing-generated\n",
    "substring?"
   ]
  },
  {
   "cell_type": "code",
   "execution_count": null,
   "id": "3ef62132",
   "metadata": {},
   "outputs": [],
   "source": [
    "indexed character and sliced substrings have datatype string"
   ]
  },
  {
   "cell_type": "code",
   "execution_count": 7,
   "id": "d38d3e8a",
   "metadata": {},
   "outputs": [
    {
     "name": "stdout",
     "output_type": "stream",
     "text": [
      "<class 'str'>\n",
      "<class 'str'>\n"
     ]
    }
   ],
   "source": [
    "s = \"iNeuron Full Stack Data Science\"\n",
    "print(type(s[3]))\n",
    "print(type(s[1:16]))"
   ]
  },
  {
   "cell_type": "code",
   "execution_count": null,
   "id": "822c1385",
   "metadata": {},
   "outputs": [],
   "source": [
    "Q6. What is the relationship between string and character &quot;types&quot; in Python?"
   ]
  },
  {
   "cell_type": "code",
   "execution_count": null,
   "id": "5b3e3837",
   "metadata": {},
   "outputs": [],
   "source": [
    "object that contains sequence of character datatypes are called String"
   ]
  },
  {
   "cell_type": "code",
   "execution_count": null,
   "id": "09cee063",
   "metadata": {},
   "outputs": [],
   "source": [
    "Q7. Identify at least two operators and one method that allow you to combine one or more smaller\n",
    "strings to create a larger string."
   ]
  },
  {
   "cell_type": "code",
   "execution_count": null,
   "id": "3a6eb304",
   "metadata": {},
   "outputs": [],
   "source": [
    "+,+= and * allow to combine one or more smaller strings to create a larger string <string>.join(<sep>) method joins element\n",
    "of iterable type like list and tuple to get a combined string."
   ]
  },
  {
   "cell_type": "code",
   "execution_count": 9,
   "id": "d89f1bbc",
   "metadata": {},
   "outputs": [
    {
     "name": "stdout",
     "output_type": "stream",
     "text": [
      "iNeuron Full Stack Data ScienceFSDS\n",
      "FSDS FSDS FSDS \n",
      "I N E U R O N\n",
      "i n e u r o n\n"
     ]
    }
   ],
   "source": [
    "in_strings = 'iNeuron'\n",
    "in_strings += 'Full Stack Data Science'\n",
    "print(in_string + 'FSDS')\n",
    "print('FSDS '*3)\n",
    "print(\" \".join(['I','N','E','U','R','O','N']))\n",
    "print(\" \".join((['I','N','E','U','R','O','N'])).lower())"
   ]
  },
  {
   "cell_type": "code",
   "execution_count": null,
   "id": "380a6403",
   "metadata": {},
   "outputs": [],
   "source": [
    "Q8. What is the benefit of first checking the target string with in or not in before using the index\n",
    "method to find a substring?"
   ]
  },
  {
   "cell_type": "code",
   "execution_count": null,
   "id": "c9e13d21",
   "metadata": {},
   "outputs": [],
   "source": [
    "Checking the target string with in or not. Operator before using the index method to find substring just helps confirming\n",
    "availability of substring and thus avoid raising of ValueError"
   ]
  },
  {
   "cell_type": "code",
   "execution_count": null,
   "id": "41bf4955",
   "metadata": {},
   "outputs": [],
   "source": [
    "in_string = 'ineuron'\n",
    "in_string.index('X')  # Raises ValueError\n",
    "in_string.index('u')  # 3"
   ]
  },
  {
   "cell_type": "code",
   "execution_count": null,
   "id": "47a888ad",
   "metadata": {},
   "outputs": [],
   "source": [
    "Q9. Which operators and built-in string methods produce simple Boolean (true/false) results?"
   ]
  },
  {
   "cell_type": "code",
   "execution_count": null,
   "id": "cabf8126",
   "metadata": {},
   "outputs": [],
   "source": [
    "in \n",
    "out\n",
    "<string>.isalpha()\n",
    "<string>.isalnum()\n",
    "<string>.isdecimal()\n",
    "<string>.isdigit()\n",
    "<string>.islower()\n",
    "<string>.isnumeric()\n",
    "<string>.isprintable()\n",
    "<string>.isspace()\n",
    "<string>.istitle()\n"
   ]
  }
 ],
 "metadata": {
  "kernelspec": {
   "display_name": "Python 3 (ipykernel)",
   "language": "python",
   "name": "python3"
  },
  "language_info": {
   "codemirror_mode": {
    "name": "ipython",
    "version": 3
   },
   "file_extension": ".py",
   "mimetype": "text/x-python",
   "name": "python",
   "nbconvert_exporter": "python",
   "pygments_lexer": "ipython3",
   "version": "3.9.12"
  }
 },
 "nbformat": 4,
 "nbformat_minor": 5
}
