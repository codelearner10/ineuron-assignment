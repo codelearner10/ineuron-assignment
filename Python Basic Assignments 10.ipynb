{
 "cells": [
  {
   "cell_type": "code",
   "execution_count": null,
   "id": "99f5f4dc",
   "metadata": {},
   "outputs": [],
   "source": [
    "1. How do you distinguish between shutil.copy() and shutil.copytree()?"
   ]
  },
  {
   "cell_type": "code",
   "execution_count": null,
   "id": "09caf0ee",
   "metadata": {},
   "outputs": [],
   "source": [
    "Ans : shutil.copy() method is used to copy the contents of a file from one file to another file/folder, it primary takes\n",
    "arguments srs,dest\n",
    "\n",
    "shutil.copytree() function is used to copy the entire contents of a folder. it also takes two arguments src & dest it \n",
    "copies all the content recursively and stores in the dest."
   ]
  },
  {
   "cell_type": "code",
   "execution_count": null,
   "id": "39bbe92a",
   "metadata": {},
   "outputs": [],
   "source": [
    "2. What function is used to rename files??"
   ]
  },
  {
   "cell_type": "code",
   "execution_count": null,
   "id": "2c3c7914",
   "metadata": {},
   "outputs": [],
   "source": [
    "Ans : os.rename() function is used to renanme files or directories using a python program, this function takes two \n",
    "arguments src and dest, src represents the name file/directory which we want to rename, whereas dest represents the new \n",
    "name of the file/directory"
   ]
  },
  {
   "cell_type": "code",
   "execution_count": null,
   "id": "bd04ffc1",
   "metadata": {},
   "outputs": [],
   "source": [
    "3. What is the difference between the delete functions in the send2trash and shutil modules?"
   ]
  },
  {
   "cell_type": "code",
   "execution_count": null,
   "id": "63f5225c",
   "metadata": {},
   "outputs": [],
   "source": [
    "Ans : Shutil module provides a function called as shutil.rmtree() which deletes a directory and all its contents.\n",
    "send2trash module provides a function called send2trash.send2trash() to delete a file/directory these methods move the file\n",
    "/directories to the trash folder instead of permanent deleting them."
   ]
  },
  {
   "cell_type": "code",
   "execution_count": null,
   "id": "f065e4f3",
   "metadata": {},
   "outputs": [],
   "source": [
    "4.ZipFile objects have a close() method just like File objects’ close() method. What ZipFile method is\n",
    "equivalent to File objects’ open() method?"
   ]
  },
  {
   "cell_type": "code",
   "execution_count": null,
   "id": "09243d39",
   "metadata": {},
   "outputs": [],
   "source": [
    "Ans : ZipFile Module provides a method called as zipfile.ZipFile() to read and write zipFiles. It takes arguments like \n",
    "filename and mode etc"
   ]
  },
  {
   "cell_type": "code",
   "execution_count": null,
   "id": "dfbf20bc",
   "metadata": {},
   "outputs": [],
   "source": [
    "5. Create a programme that searches a folder tree for files with a certain file extension (such as .pdf\n",
    "or .jpg). Copy these files from whatever location they are in to a new folder."
   ]
  },
  {
   "cell_type": "code",
   "execution_count": 3,
   "id": "754d39a8",
   "metadata": {},
   "outputs": [],
   "source": [
    "import os \n",
    "import shutil\n",
    "\n",
    "def search_and_copy(source,destination,extensions) :\n",
    "    source = os.path.abspath(source)\n",
    "    destination = os.path.abspath(destination)\n",
    "    for foldername, subfolder, filename in os.walk(source) :\n",
    "        print(f'Folder Name -> {foldername}', end = '\\n\\n')\n",
    "        print(f'Sub Folders -> {subfolder}', end = '\\n\\n')\n",
    "        print(f'Files -> {filenames}', end = '\\n\\n')\n",
    "        for filename in filenames :\n",
    "            fileName,extension = os.path.splitext(filename)\n",
    "            if extension in extensions : \n",
    "                targetFile = foldername+os.path.sep+fileName+extension\n",
    "                shutil.copy(targetFile, destination)\n",
    "        print(f'Files copied successfully form{source} to {destination}')\n",
    "extensions = ['.pdf','.jpg','.ipynb']\n",
    "source = 'Dummy Source'\n",
    "destination = 'Dummy Destination'\n",
    "search_and_copy(source, destination, extensions)"
   ]
  },
  {
   "cell_type": "code",
   "execution_count": null,
   "id": "db18c4d9",
   "metadata": {},
   "outputs": [],
   "source": []
  },
  {
   "cell_type": "code",
   "execution_count": null,
   "id": "3c3af1a4",
   "metadata": {},
   "outputs": [],
   "source": []
  },
  {
   "cell_type": "code",
   "execution_count": null,
   "id": "6c515eb4",
   "metadata": {},
   "outputs": [],
   "source": []
  },
  {
   "cell_type": "code",
   "execution_count": null,
   "id": "ac70a995",
   "metadata": {},
   "outputs": [],
   "source": []
  },
  {
   "cell_type": "code",
   "execution_count": null,
   "id": "a29b8932",
   "metadata": {},
   "outputs": [],
   "source": []
  },
  {
   "cell_type": "code",
   "execution_count": null,
   "id": "b24db324",
   "metadata": {},
   "outputs": [],
   "source": []
  }
 ],
 "metadata": {
  "kernelspec": {
   "display_name": "Python 3 (ipykernel)",
   "language": "python",
   "name": "python3"
  },
  "language_info": {
   "codemirror_mode": {
    "name": "ipython",
    "version": 3
   },
   "file_extension": ".py",
   "mimetype": "text/x-python",
   "name": "python",
   "nbconvert_exporter": "python",
   "pygments_lexer": "ipython3",
   "version": "3.9.12"
  }
 },
 "nbformat": 4,
 "nbformat_minor": 5
}
