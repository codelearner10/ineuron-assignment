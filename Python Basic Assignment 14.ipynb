{
 "cells": [
  {
   "cell_type": "code",
   "execution_count": null,
   "id": "dbd49d7b",
   "metadata": {},
   "outputs": [],
   "source": [
    "1. What does RGBA stand for?"
   ]
  },
  {
   "cell_type": "code",
   "execution_count": null,
   "id": "3596b8a9",
   "metadata": {},
   "outputs": [],
   "source": [
    "Ans : RGBA is a four-channel format cotaining data for Red, Green,Blue and an Alpha value. Where Alpha Represents the \n",
    "Capacity"
   ]
  },
  {
   "cell_type": "code",
   "execution_count": null,
   "id": "d363dcd6",
   "metadata": {},
   "outputs": [],
   "source": [
    "2. From the Pillow module, how do you get the RGBA value of any images?"
   ]
  },
  {
   "cell_type": "code",
   "execution_count": null,
   "id": "acf99724",
   "metadata": {},
   "outputs": [],
   "source": [
    "Ans : ImageColor.getcolor() gives rgba value of any image"
   ]
  },
  {
   "cell_type": "code",
   "execution_count": null,
   "id": "644ba867",
   "metadata": {},
   "outputs": [],
   "source": [
    "3. What is a box tuple, and how does it work?"
   ]
  },
  {
   "cell_type": "code",
   "execution_count": null,
   "id": "6f64506c",
   "metadata": {},
   "outputs": [],
   "source": [
    "Ans : A box tuple is a tuple of four integers: the left edge x-coordinate, the top-edge y-coordinate, the width and the \n",
    "height, respectively"
   ]
  },
  {
   "cell_type": "code",
   "execution_count": null,
   "id": "55059666",
   "metadata": {},
   "outputs": [],
   "source": [
    "4. Use your image and load in notebook then, How can you find out the width and height of an\n",
    "Image object?"
   ]
  },
  {
   "cell_type": "code",
   "execution_count": 1,
   "id": "e9c4080e",
   "metadata": {},
   "outputs": [
    {
     "name": "stdout",
     "output_type": "stream",
     "text": [
      "Width, Height -> (480, 853)\n",
      "Width, Height ->480,853\n",
      "Width, Height -> 480,853\n"
     ]
    }
   ],
   "source": [
    "from PIL import Image\n",
    "pic = Image.open('shivaji.jpg')\n",
    "print(f'Width, Height -> {pic.size}')\n",
    "print(f'Width, Height ->{pic.width},{pic.height}')\n",
    "width,height = pic.size\n",
    "print(f'Width, Height -> {width},{height}')"
   ]
  },
  {
   "cell_type": "code",
   "execution_count": null,
   "id": "3a5f3d82",
   "metadata": {},
   "outputs": [],
   "source": [
    "5. What method would you call to get Image object for a 100×100 image, excluding the lower-left\n",
    "quarter of it?"
   ]
  },
  {
   "cell_type": "code",
   "execution_count": null,
   "id": "a78776f8",
   "metadata": {},
   "outputs": [],
   "source": [
    "for PIL import Image\n",
    "pic = Image.open('pic.jpg')\n",
    "new_img = img.crop((0,50,50,50))"
   ]
  },
  {
   "cell_type": "code",
   "execution_count": null,
   "id": "a5395b87",
   "metadata": {},
   "outputs": [],
   "source": [
    "6. After making changes to an Image object, how could you save it as an image file?"
   ]
  },
  {
   "cell_type": "code",
   "execution_count": null,
   "id": "6da805a1",
   "metadata": {},
   "outputs": [],
   "source": [
    "from PIL import Image\n",
    "pic = Image.open('pic.jpg')\n",
    "pic.save('pic.jpg')"
   ]
  },
  {
   "cell_type": "code",
   "execution_count": null,
   "id": "ff241163",
   "metadata": {},
   "outputs": [],
   "source": [
    "7. What module contains Pillow’s shape-drawing code?"
   ]
  },
  {
   "cell_type": "code",
   "execution_count": null,
   "id": "22966769",
   "metadata": {},
   "outputs": [],
   "source": [
    "Ans : Pillow ImageDraw module contains Shape drawing methods."
   ]
  },
  {
   "cell_type": "code",
   "execution_count": null,
   "id": "a41c49dc",
   "metadata": {},
   "outputs": [],
   "source": [
    "8. Image objects do not have drawing methods. What kind of object does? How do you get this kind\n",
    "of object?"
   ]
  },
  {
   "cell_type": "code",
   "execution_count": null,
   "id": "41783812",
   "metadata": {},
   "outputs": [],
   "source": [
    "Ans : ImageDraw objects have shape-drawing methods such as point() , line() , or rectangle(). The are returned by passing\n",
    "the Image object to the ImageDraw.Draw() fuction."
   ]
  }
 ],
 "metadata": {
  "kernelspec": {
   "display_name": "Python 3 (ipykernel)",
   "language": "python",
   "name": "python3"
  },
  "language_info": {
   "codemirror_mode": {
    "name": "ipython",
    "version": 3
   },
   "file_extension": ".py",
   "mimetype": "text/x-python",
   "name": "python",
   "nbconvert_exporter": "python",
   "pygments_lexer": "ipython3",
   "version": "3.9.12"
  }
 },
 "nbformat": 4,
 "nbformat_minor": 5
}
