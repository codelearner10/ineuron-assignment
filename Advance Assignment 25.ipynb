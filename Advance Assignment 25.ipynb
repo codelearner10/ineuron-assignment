{
 "cells": [
  {
   "cell_type": "code",
   "execution_count": null,
   "id": "dd4111c6",
   "metadata": {},
   "outputs": [],
   "source": [
    "Q1. What is the distinction between a numpy array and a pandas data frame? Is there a way to\n",
    "convert between the two if there is?"
   ]
  },
  {
   "cell_type": "code",
   "execution_count": null,
   "id": "d8073975",
   "metadata": {},
   "outputs": [],
   "source": [
    "Numpy Ndarray provides a lot of convenient and optimized methods for performing several mathematical operations on vectors\n",
    "\n",
    "Pandas Dataframe is an in-memory 2-dimensional tabular representation of data. In simpler words, it can be seen as a \n",
    "spreadsheet having rows and columns"
   ]
  },
  {
   "cell_type": "code",
   "execution_count": null,
   "id": "327b23e5",
   "metadata": {},
   "outputs": [],
   "source": [
    "Q3. Identify some of the plotting techniques that are used to produce a stock-market chart."
   ]
  },
  {
   "cell_type": "code",
   "execution_count": null,
   "id": "6b579e02",
   "metadata": {},
   "outputs": [],
   "source": [
    "Bar chart, Line chart are used for plotting"
   ]
  },
  {
   "cell_type": "code",
   "execution_count": null,
   "id": "b201bec1",
   "metadata": {},
   "outputs": [],
   "source": [
    "Q4. Why is it essential to print a legend on a stock market chart?"
   ]
  },
  {
   "cell_type": "code",
   "execution_count": null,
   "id": "0337d01f",
   "metadata": {},
   "outputs": [],
   "source": [
    "Legend will help comparision between different stocks so wil be essential on a stock market chart"
   ]
  },
  {
   "cell_type": "code",
   "execution_count": null,
   "id": "fd9ad978",
   "metadata": {},
   "outputs": [],
   "source": [
    "Q5. What is the best way to limit the length of a pandas data frame to less than a year?"
   ]
  },
  {
   "cell_type": "code",
   "execution_count": null,
   "id": "140376ba",
   "metadata": {},
   "outputs": [],
   "source": [
    "We can use start and end parameters for that. In start we write the date from where we are starting and at the end we write\n",
    "the end date. So with in this span we can restric the duration. Also we can use the parameters like periods for how much\n",
    "times we need the duration and we can also use the frequency parameter"
   ]
  },
  {
   "cell_type": "code",
   "execution_count": null,
   "id": "dc975c43",
   "metadata": {},
   "outputs": [],
   "source": [
    "Q6. What is the definition of a 180-day moving average?"
   ]
  },
  {
   "cell_type": "code",
   "execution_count": null,
   "id": "41736ae4",
   "metadata": {},
   "outputs": [],
   "source": [
    "The 180-day moving average is represented as a line on charts and represents the average price over the past 180 days\n",
    "The moving average can give traders a sense regarding whether the trend is up or down, while also identifying potential \n",
    "support or resistance areas."
   ]
  },
  {
   "cell_type": "code",
   "execution_count": null,
   "id": "f0788f43",
   "metadata": {},
   "outputs": [],
   "source": []
  },
  {
   "cell_type": "code",
   "execution_count": null,
   "id": "634f8b4e",
   "metadata": {},
   "outputs": [],
   "source": []
  },
  {
   "cell_type": "code",
   "execution_count": null,
   "id": "71014116",
   "metadata": {},
   "outputs": [],
   "source": []
  },
  {
   "cell_type": "code",
   "execution_count": null,
   "id": "650dd459",
   "metadata": {},
   "outputs": [],
   "source": []
  },
  {
   "cell_type": "code",
   "execution_count": null,
   "id": "594d7999",
   "metadata": {},
   "outputs": [],
   "source": []
  },
  {
   "cell_type": "code",
   "execution_count": null,
   "id": "74ae1a8b",
   "metadata": {},
   "outputs": [],
   "source": []
  },
  {
   "cell_type": "code",
   "execution_count": null,
   "id": "df08a457",
   "metadata": {},
   "outputs": [],
   "source": []
  },
  {
   "cell_type": "code",
   "execution_count": null,
   "id": "17dbaa5c",
   "metadata": {},
   "outputs": [],
   "source": []
  },
  {
   "cell_type": "code",
   "execution_count": null,
   "id": "fbb3806a",
   "metadata": {},
   "outputs": [],
   "source": []
  },
  {
   "cell_type": "code",
   "execution_count": null,
   "id": "73f27d78",
   "metadata": {},
   "outputs": [],
   "source": []
  },
  {
   "cell_type": "code",
   "execution_count": null,
   "id": "612deaad",
   "metadata": {},
   "outputs": [],
   "source": []
  },
  {
   "cell_type": "code",
   "execution_count": null,
   "id": "75a8a3d7",
   "metadata": {},
   "outputs": [],
   "source": []
  }
 ],
 "metadata": {
  "kernelspec": {
   "display_name": "Python 3 (ipykernel)",
   "language": "python",
   "name": "python3"
  },
  "language_info": {
   "codemirror_mode": {
    "name": "ipython",
    "version": 3
   },
   "file_extension": ".py",
   "mimetype": "text/x-python",
   "name": "python",
   "nbconvert_exporter": "python",
   "pygments_lexer": "ipython3",
   "version": "3.9.12"
  }
 },
 "nbformat": 4,
 "nbformat_minor": 5
}
