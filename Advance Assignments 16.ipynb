{
 "cells": [
  {
   "cell_type": "code",
   "execution_count": null,
   "id": "52ab6bd8",
   "metadata": {},
   "outputs": [],
   "source": [
    "Q1. What is the benefit of regular expressions?"
   ]
  },
  {
   "cell_type": "code",
   "execution_count": null,
   "id": "5da7e7ae",
   "metadata": {},
   "outputs": [],
   "source": [
    "Regular Expression also known as regex or regexp are use to match strings of text such as paricular characters, words\n",
    "or patterns of character.It means that we can match and extract any string pattern form the text with help fo regular \n",
    "expression. it helps the programmers to Write less and cleaner code. It also avoids multiple use of if/she statements"
   ]
  },
  {
   "cell_type": "code",
   "execution_count": null,
   "id": "6890806e",
   "metadata": {},
   "outputs": [],
   "source": [
    "Q2. Describe the difference between the effects of\"(ab)c+\" and\"a(bc)+\"  Which of these, if any, is the\n",
    "unqualified pattern\"abc+\"?"
   ]
  },
  {
   "cell_type": "code",
   "execution_count": null,
   "id": "db85ee27",
   "metadata": {},
   "outputs": [],
   "source": [
    "Both (ab)c+ and a(bc)+ are valid patterns. the difference between both these pattern is in (ab)c+ ab is group whereas in\n",
    "a(bc)+ bc is a group"
   ]
  },
  {
   "cell_type": "code",
   "execution_count": null,
   "id": "75a51cc0",
   "metadata": {},
   "outputs": [],
   "source": [
    "Q3. How much do you need to use the following sentence while using regular expressions?\n",
    "import re"
   ]
  },
  {
   "cell_type": "code",
   "execution_count": null,
   "id": "9c17cc74",
   "metadata": {},
   "outputs": [],
   "source": [
    "import re statement always has to imported before using regular expression"
   ]
  },
  {
   "cell_type": "code",
   "execution_count": null,
   "id": "0ba2803a",
   "metadata": {},
   "outputs": [],
   "source": [
    "Q4. Which characters have special significance in square brackets when expressing a range, and\n",
    "under what circumstances?"
   ]
  },
  {
   "cell_type": "code",
   "execution_count": null,
   "id": "f5ce1e01",
   "metadata": {},
   "outputs": [],
   "source": [
    "The Characters .*?^or() have a special significance when used with square brackets. They need not to be explicitly escaped\n",
    "by \\ as in case of pattern texts in a raw string"
   ]
  },
  {
   "cell_type": "code",
   "execution_count": null,
   "id": "51044343",
   "metadata": {},
   "outputs": [],
   "source": [
    "Q5. How does compiling a regular-expression object benefit you?"
   ]
  },
  {
   "cell_type": "code",
   "execution_count": null,
   "id": "4f51b8ba",
   "metadata": {},
   "outputs": [],
   "source": [
    "We can combine a regular expression pattern into pattern objects. Which can be used for pattern matching it also helps\n",
    "search a pattern again without rewritting it."
   ]
  },
  {
   "cell_type": "code",
   "execution_count": null,
   "id": "ad594762",
   "metadata": {},
   "outputs": [],
   "source": [
    "Q6. What are some examples of how to use the match object returned by re.match and re.search?"
   ]
  },
  {
   "cell_type": "code",
   "execution_count": null,
   "id": "a58a2224",
   "metadata": {},
   "outputs": [],
   "source": [
    "The re.search() and re.match() both are function of re module in python. These functions are very efficient and fast for \n",
    "searching in strings. The function searches for some sustring in a string and returns a match object if found, else it\n",
    "returns none.\n",
    "\n",
    "re.match() searches only from the beginnig of the string and return match object\n",
    "\n",
    "While re.search() searches for the whole string even if the string contains multi-lines adn tries to find a match of the\n",
    "substring in all the lines of string"
   ]
  },
  {
   "cell_type": "code",
   "execution_count": 4,
   "id": "227efbd6",
   "metadata": {},
   "outputs": [
    {
     "name": "stdout",
     "output_type": "stream",
     "text": [
      "None\n",
      "None\n",
      "None\n",
      "None\n"
     ]
    }
   ],
   "source": [
    "import re\n",
    "Substring = 'string'\n",
    "String1 = \"We are learning DATA SCIENCE\"\n",
    "String2 = \"WE are learning DATA SCIENCE from iNeuron\"\n",
    "print(re.search(Substring, String1, re.IGNORECASE))\n",
    "print(re.match(Substring, String1, re.IGNORECASE))\n",
    "print(re.search(Substring, String2, re.IGNORECASE))\n",
    "print(re.match(Substring, String2, re.IGNORECASE))\n"
   ]
  },
  {
   "cell_type": "code",
   "execution_count": null,
   "id": "35f59174",
   "metadata": {},
   "outputs": [],
   "source": [
    "Q7. What is the difference between using a vertical bar (|) as an alteration and using square brackets\n",
    "as a character set?"
   ]
  },
  {
   "cell_type": "code",
   "execution_count": null,
   "id": "7e8cb523",
   "metadata": {},
   "outputs": [],
   "source": [
    "When | us used then patterns searches for or option i.e. <pattern_1>|<pattern_2> means it searches as <pattern_1> or \n",
    "<pattern_2> in the searched string teh first occurance of matched string will be returned as the Match. Object using \n",
    "character set in square Brackets searches for all the character set in the square bracket and if match is found, it returns\n",
    "it"
   ]
  },
  {
   "cell_type": "code",
   "execution_count": null,
   "id": "bfe2e645",
   "metadata": {},
   "outputs": [],
   "source": [
    "Q8. In regular-expression search patterns, why is it necessary to use the raw-string indicator (r)? In  \n",
    "replacement strings?"
   ]
  },
  {
   "cell_type": "code",
   "execution_count": null,
   "id": "77a903fa",
   "metadata": {},
   "outputs": [],
   "source": [
    "Raw strings ar used in the regular-expression search patterns. so that blacklashes donot have to be escaped"
   ]
  }
 ],
 "metadata": {
  "kernelspec": {
   "display_name": "Python 3 (ipykernel)",
   "language": "python",
   "name": "python3"
  },
  "language_info": {
   "codemirror_mode": {
    "name": "ipython",
    "version": 3
   },
   "file_extension": ".py",
   "mimetype": "text/x-python",
   "name": "python",
   "nbconvert_exporter": "python",
   "pygments_lexer": "ipython3",
   "version": "3.9.12"
  }
 },
 "nbformat": 4,
 "nbformat_minor": 5
}
