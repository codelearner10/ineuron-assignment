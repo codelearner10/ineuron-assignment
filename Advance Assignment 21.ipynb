{
 "cells": [
  {
   "cell_type": "code",
   "execution_count": null,
   "id": "aa397ae4",
   "metadata": {},
   "outputs": [],
   "source": [
    "Q1. What is a probability distribution, exactly? If the values are meant to be random, how can you\n",
    "predict them at all?"
   ]
  },
  {
   "cell_type": "code",
   "execution_count": null,
   "id": "6deed0d6",
   "metadata": {},
   "outputs": [],
   "source": [
    "A probability distribution describes how a random variable is distributed"
   ]
  },
  {
   "cell_type": "code",
   "execution_count": null,
   "id": "21f985ab",
   "metadata": {},
   "outputs": [],
   "source": [
    "Q2. Is there a distinction between true random numbers and pseudo-random numbers, if there is\n",
    "one? Why are the latter considered “good enough”?"
   ]
  },
  {
   "cell_type": "code",
   "execution_count": null,
   "id": "1e7bb56c",
   "metadata": {},
   "outputs": [],
   "source": [
    "True Random Numbers are tuple physical values while pseudo-random numbers are generated internally by a program\n",
    "Latter is considered good enough as they have sort of uniform distribution"
   ]
  },
  {
   "cell_type": "code",
   "execution_count": null,
   "id": "b7c5cfa8",
   "metadata": {},
   "outputs": [],
   "source": [
    "Q3. What are the two main factors that influence the behaviour of a &quot;normal&quot; probability distribution?"
   ]
  },
  {
   "cell_type": "code",
   "execution_count": null,
   "id": "03689030",
   "metadata": {},
   "outputs": [],
   "source": [
    "Normal Probability Distribution are influenced by two factors mean and variance"
   ]
  },
  {
   "cell_type": "code",
   "execution_count": null,
   "id": "9b0277ea",
   "metadata": {},
   "outputs": [],
   "source": [
    "Q4. Provide a real-life example of a normal distribution."
   ]
  },
  {
   "cell_type": "code",
   "execution_count": null,
   "id": "2eb20bc3",
   "metadata": {},
   "outputs": [],
   "source": [
    "A real-life example of a normal distribution are heights or blood pressure measurements"
   ]
  },
  {
   "cell_type": "code",
   "execution_count": null,
   "id": "ee7018d1",
   "metadata": {},
   "outputs": [],
   "source": [
    "Q5. In the short term, how can you expect a probability distribution to behave? What do you think will\n",
    "happen as the number of trials grows?"
   ]
  },
  {
   "cell_type": "code",
   "execution_count": null,
   "id": "a405c744",
   "metadata": {},
   "outputs": [],
   "source": [
    "Variance will decrease with number of trials"
   ]
  },
  {
   "cell_type": "code",
   "execution_count": null,
   "id": "5d1c4acd",
   "metadata": {},
   "outputs": [],
   "source": [
    "Q6. What kind of object can be shuffled by using random.shuffle?"
   ]
  },
  {
   "cell_type": "code",
   "execution_count": null,
   "id": "7f08cd54",
   "metadata": {},
   "outputs": [],
   "source": [
    "lists(list), strings(str) and (tuple) objects can be shuffled by using random.shuffle"
   ]
  },
  {
   "cell_type": "code",
   "execution_count": null,
   "id": "fb0cc8e7",
   "metadata": {},
   "outputs": [],
   "source": [
    "Q7. Describe the math package's general categories of functions."
   ]
  },
  {
   "cell_type": "code",
   "execution_count": null,
   "id": "3c0ee101",
   "metadata": {},
   "outputs": [],
   "source": [
    "Trignometric functions\n",
    "Quadratic functions\n",
    "Exponential functions\n",
    "Hyperbolic functions\n",
    "Periodic functions\n",
    "Arthmetic functions\n",
    "Logarithimic functions\n",
    "Conversion functions"
   ]
  },
  {
   "cell_type": "code",
   "execution_count": null,
   "id": "c84fa1b3",
   "metadata": {},
   "outputs": [],
   "source": [
    "Q8. What is the relationship between exponentiation and logarithms?"
   ]
  },
  {
   "cell_type": "code",
   "execution_count": null,
   "id": "dbe52391",
   "metadata": {},
   "outputs": [],
   "source": [
    "Exponentiation and Logarithims are inverse of each other"
   ]
  },
  {
   "cell_type": "code",
   "execution_count": null,
   "id": "7bc0a5bf",
   "metadata": {},
   "outputs": [],
   "source": [
    "Q9. What are the three logarithmic functions that Python supports?"
   ]
  },
  {
   "cell_type": "code",
   "execution_count": null,
   "id": "d071bd08",
   "metadata": {},
   "outputs": [],
   "source": [
    "log2(x) -  logarithmic value of x to base 2\n",
    "log10(x) - logarithmic value of x to base 10\n",
    "log1p(a) - This function is used to complete logarithm(1+a)"
   ]
  }
 ],
 "metadata": {
  "kernelspec": {
   "display_name": "Python 3 (ipykernel)",
   "language": "python",
   "name": "python3"
  },
  "language_info": {
   "codemirror_mode": {
    "name": "ipython",
    "version": 3
   },
   "file_extension": ".py",
   "mimetype": "text/x-python",
   "name": "python",
   "nbconvert_exporter": "python",
   "pygments_lexer": "ipython3",
   "version": "3.9.12"
  }
 },
 "nbformat": 4,
 "nbformat_minor": 5
}
