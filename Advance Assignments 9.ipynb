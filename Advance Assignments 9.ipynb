{
 "cells": [
  {
   "cell_type": "code",
   "execution_count": null,
   "id": "83b1f172",
   "metadata": {},
   "outputs": [],
   "source": [
    "Q1. In Python 3.X, what are the names and functions of string object types?"
   ]
  },
  {
   "cell_type": "code",
   "execution_count": null,
   "id": "0d59840c",
   "metadata": {},
   "outputs": [],
   "source": [
    "The folowing function are the names and function of strings object types i Python 3.X\n",
    "https://www.w3schools.com/python/python_ref_string.asp"
   ]
  },
  {
   "cell_type": "code",
   "execution_count": null,
   "id": "8b3011ec",
   "metadata": {},
   "outputs": [],
   "source": [
    "Q2. How do the string forms in Python 3.X vary in terms of operations?"
   ]
  },
  {
   "cell_type": "code",
   "execution_count": null,
   "id": "64d96000",
   "metadata": {},
   "outputs": [],
   "source": [
    "In python 3 default format of strings in unicode where as in python2 we need to explicitly mention unicode value using u"
   ]
  },
  {
   "cell_type": "code",
   "execution_count": null,
   "id": "5b78b5c4",
   "metadata": {},
   "outputs": [],
   "source": [
    "Q3. In 3.X, how do you put non-ASCII Unicode characters in a string?"
   ]
  },
  {
   "cell_type": "code",
   "execution_count": null,
   "id": "ac8e2f5b",
   "metadata": {},
   "outputs": [],
   "source": [
    "in Python 3.x unicode() method from unidecode library can be used to put non-ASCII Unicode characters in a string"
   ]
  },
  {
   "cell_type": "code",
   "execution_count": null,
   "id": "5c27dda3",
   "metadata": {},
   "outputs": [],
   "source": [
    "Q4. In Python 3.X, what are the key differences between text-mode and binary-mode files?"
   ]
  },
  {
   "cell_type": "code",
   "execution_count": null,
   "id": "32dd3710",
   "metadata": {},
   "outputs": [],
   "source": [
    "The major differemce between these two is that a text file contains textual information in the form of alphabets,digits and\n",
    "special character or symbols on the other hand binary file bytes or a compiled version of a text file."
   ]
  },
  {
   "cell_type": "code",
   "execution_count": null,
   "id": "b52c60bb",
   "metadata": {},
   "outputs": [],
   "source": [
    "Q5. How can you interpret a Unicode text file containing text encoded in a different encoding than\n",
    "your platform's default?"
   ]
  },
  {
   "cell_type": "code",
   "execution_count": null,
   "id": "86f5e11c",
   "metadata": {},
   "outputs": [],
   "source": [
    "use of encode() and decode() method can be used to you interpret a unicode text file containing text encoded in a \n",
    "different encoding than your platform's default encoding parameter is UTF-8"
   ]
  },
  {
   "cell_type": "code",
   "execution_count": null,
   "id": "f1d00ce1",
   "metadata": {},
   "outputs": [],
   "source": [
    "Q6. What is the best way to make a Unicode text file in a particular encoding format?"
   ]
  },
  {
   "cell_type": "code",
   "execution_count": null,
   "id": "bdf61b07",
   "metadata": {},
   "outputs": [],
   "source": [
    "default encoding format is UTF-18\n",
    "\n",
    "call str.encode(encoding) with encoding set to utf8 to encode str.\n",
    "call open(file,mode) to open a file with mode set wb. wb. writes to files in binary mode & preserves UTF-8format\n",
    "call file.write(data) to write data to the file"
   ]
  },
  {
   "cell_type": "code",
   "execution_count": null,
   "id": "f67655c8",
   "metadata": {},
   "outputs": [],
   "source": [
    "Q7. What qualifies ASCII text as a form of Unicode text?"
   ]
  },
  {
   "cell_type": "code",
   "execution_count": null,
   "id": "90ea27eb",
   "metadata": {},
   "outputs": [],
   "source": [
    "Unicode represents most written languages in the world ASCII has its equivalent in unicode. The difference between ASCII \n",
    "and Unicode is that ASCII represents lowercase letters (a-z) , uppercase letters (A-Z) , digits (0-9) and symbols such as\n",
    "punctuation marks while unicode represents letters of English , Arabic, Greek etc covering a wide range of character than\n",
    "ASCII"
   ]
  },
  {
   "cell_type": "code",
   "execution_count": null,
   "id": "7abc434c",
   "metadata": {},
   "outputs": [],
   "source": [
    "Q8. How much of an effect does the change in string types in Python 3.X have on your code?"
   ]
  },
  {
   "cell_type": "code",
   "execution_count": null,
   "id": "7df27705",
   "metadata": {},
   "outputs": [],
   "source": [
    "Python 3 stores strings as unicode by default where as Python 2 requires you ti make a string with a u if you wnat to store\n",
    "it as unicode"
   ]
  }
 ],
 "metadata": {
  "kernelspec": {
   "display_name": "Python 3 (ipykernel)",
   "language": "python",
   "name": "python3"
  },
  "language_info": {
   "codemirror_mode": {
    "name": "ipython",
    "version": 3
   },
   "file_extension": ".py",
   "mimetype": "text/x-python",
   "name": "python",
   "nbconvert_exporter": "python",
   "pygments_lexer": "ipython3",
   "version": "3.9.12"
  }
 },
 "nbformat": 4,
 "nbformat_minor": 5
}
