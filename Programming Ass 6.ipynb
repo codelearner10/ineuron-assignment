{
 "cells": [
  {
   "cell_type": "code",
   "execution_count": null,
   "id": "348fd096",
   "metadata": {},
   "outputs": [],
   "source": [
    "1. Write a Python Program to Display Fibonacci Sequence Using Recursion?"
   ]
  },
  {
   "cell_type": "code",
   "execution_count": 1,
   "id": "f1ac11ec",
   "metadata": {},
   "outputs": [
    {
     "name": "stdout",
     "output_type": "stream",
     "text": [
      "Enter the length of series: 30\n",
      "0,1,3,5,8,13,21,34,55,89,144,233,377,610,987,1597,2584,4181,6765,10946,17711,28657,46368,75025,121393,196418,317811,514229,832040,1346269,2178309,3524578,"
     ]
    }
   ],
   "source": [
    "def genFibonacci(n,a,b) :\n",
    "    if n == 0 :\n",
    "        return 1\n",
    "    else :\n",
    "        result = a+b\n",
    "        print(result,end=',')\n",
    "        genFibonacci(n-1,b,result)\n",
    "in_num = int(input('Enter the length of series: '))\n",
    "print('0,1',end=',')\n",
    "genFibonacci(in_num,1,2)"
   ]
  },
  {
   "cell_type": "code",
   "execution_count": null,
   "id": "3f23cef1",
   "metadata": {},
   "outputs": [],
   "source": [
    "2. Write a Python Program to Find Factorial of Number Using Recursion?"
   ]
  },
  {
   "cell_type": "code",
   "execution_count": 2,
   "id": "31f5577e",
   "metadata": {},
   "outputs": [
    {
     "name": "stdout",
     "output_type": "stream",
     "text": [
      "Enter a number: 5\n",
      "The Factorial of 5 is 120\n"
     ]
    }
   ],
   "source": [
    "def factorial(num) :\n",
    "    if(num<1) :\n",
    "        return 1\n",
    "    else :\n",
    "        return num*factorial(num-1)\n",
    "num = int(input('Enter a number: '))\n",
    "value = factorial(num)\n",
    "print(f'The Factorial of {num} is {value}')"
   ]
  },
  {
   "cell_type": "code",
   "execution_count": null,
   "id": "5f91007b",
   "metadata": {},
   "outputs": [],
   "source": [
    "3. Write a Python Program to calculate your Body Mass Index?"
   ]
  },
  {
   "cell_type": "code",
   "execution_count": 6,
   "id": "3b2d2327",
   "metadata": {},
   "outputs": [
    {
     "name": "stdout",
     "output_type": "stream",
     "text": [
      "Enter your weight(kgs): 70\n",
      "Enter your height(mts): 1.8\n",
      "you're BMI is 21.604938271604937 and status is healthy\n"
     ]
    }
   ],
   "source": [
    "def bmi() :\n",
    "    weight = eval(input('Enter your weight(kgs): '))\n",
    "    height = eval(input('Enter your height(mts): '))\n",
    "    cal = weight/pow(height,2)\n",
    "    if (cal < 18.5) :\n",
    "        status = 'Underweight'\n",
    "    elif(cal>=18.5 and cal<24.9):\n",
    "        status = 'healthy'\n",
    "    elif (cal >= 24.9 and cal < 30) :\n",
    "        status = \"Overweight\"\n",
    "    elif (cal >= 30) :\n",
    "        status = 'suffering from obesity'\n",
    "    print(f\"you're BMI is {cal} and status is {status}\")\n",
    "    \n",
    "bmi()"
   ]
  },
  {
   "cell_type": "code",
   "execution_count": null,
   "id": "cc5bfbbe",
   "metadata": {},
   "outputs": [],
   "source": [
    "4. Write a Python Program to calculate the natural logarithm of any number?"
   ]
  },
  {
   "cell_type": "code",
   "execution_count": 7,
   "id": "5c5a2bca",
   "metadata": {},
   "outputs": [
    {
     "name": "stdout",
     "output_type": "stream",
     "text": [
      "Enter a number: 45\n",
      "3.4011973816621555\n"
     ]
    }
   ],
   "source": [
    "import math \n",
    "def genNatlog() :\n",
    "    num = eval(input(\"Enter a number: \"))\n",
    "    print(math.log(in_num))\n",
    "genNatlog()"
   ]
  },
  {
   "cell_type": "code",
   "execution_count": null,
   "id": "9566589d",
   "metadata": {},
   "outputs": [],
   "source": [
    "5. Write a Python Program for cube sum of first n natural numbers?"
   ]
  },
  {
   "cell_type": "code",
   "execution_count": 1,
   "id": "34a93f0f",
   "metadata": {},
   "outputs": [
    {
     "name": "stdout",
     "output_type": "stream",
     "text": [
      "Enter the no of Natural Number6\n",
      "The cube sum of first 6 Natural Number is 441.0\n"
     ]
    }
   ],
   "source": [
    "def cube():\n",
    "    num = int(input(\"Enter the no of Natural Number\"))\n",
    "    result = pow(((num*(num+1))/2),2)\n",
    "    print(f'The cube sum of first {num} Natural Number is {result}')\n",
    "\n",
    "cube()"
   ]
  }
 ],
 "metadata": {
  "kernelspec": {
   "display_name": "Python 3 (ipykernel)",
   "language": "python",
   "name": "python3"
  },
  "language_info": {
   "codemirror_mode": {
    "name": "ipython",
    "version": 3
   },
   "file_extension": ".py",
   "mimetype": "text/x-python",
   "name": "python",
   "nbconvert_exporter": "python",
   "pygments_lexer": "ipython3",
   "version": "3.9.12"
  }
 },
 "nbformat": 4,
 "nbformat_minor": 5
}
