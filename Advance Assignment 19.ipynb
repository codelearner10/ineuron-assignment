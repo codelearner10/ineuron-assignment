{
 "cells": [
  {
   "cell_type": "code",
   "execution_count": null,
   "id": "7e7f0973",
   "metadata": {},
   "outputs": [],
   "source": [
    "Q1. Define the relationship between a class and its instances. Is it a one-to-one or a one-to-many\n",
    "partnership, for example?"
   ]
  },
  {
   "cell_type": "code",
   "execution_count": null,
   "id": "18a8ca2d",
   "metadata": {},
   "outputs": [],
   "source": [
    "Relationship between a class and its instances is a one to many partnership"
   ]
  },
  {
   "cell_type": "code",
   "execution_count": null,
   "id": "c44e4185",
   "metadata": {},
   "outputs": [],
   "source": [
    "Q2. What kind of data is held only in an instance?"
   ]
  },
  {
   "cell_type": "code",
   "execution_count": null,
   "id": "07113d22",
   "metadata": {},
   "outputs": [],
   "source": [
    "Instance objects contains the instance variables which are specific to that specific instance objects"
   ]
  },
  {
   "cell_type": "code",
   "execution_count": null,
   "id": "713c87e0",
   "metadata": {},
   "outputs": [],
   "source": [
    "Q3. What kind of knowledge is stored in a class?"
   ]
  },
  {
   "cell_type": "code",
   "execution_count": null,
   "id": "f818eef0",
   "metadata": {},
   "outputs": [],
   "source": [
    "Class creates a user-defined data structre, which holds its own data members and member function,which can be accessed\n",
    "and used by creating an instance of that class. A class is like a buleprint for an object"
   ]
  },
  {
   "cell_type": "code",
   "execution_count": null,
   "id": "8899600a",
   "metadata": {},
   "outputs": [],
   "source": [
    "Q4. What exactly is a method, and how is it different from a regular function?"
   ]
  },
  {
   "cell_type": "code",
   "execution_count": null,
   "id": "32c3ef61",
   "metadata": {},
   "outputs": [],
   "source": [
    "The methods with a class can be used to access the instance variables of its instance. So the object's state can be \n",
    "modified by its method. Function can't access the attributes of an instance of a class or can't modify th state of the \n",
    "object"
   ]
  },
  {
   "cell_type": "code",
   "execution_count": null,
   "id": "24605c15",
   "metadata": {},
   "outputs": [],
   "source": [
    "Q5. Is inheritance supported in Python, and if so, what is the syntax?"
   ]
  },
  {
   "cell_type": "code",
   "execution_count": null,
   "id": "c7b718df",
   "metadata": {},
   "outputs": [],
   "source": [
    "Yes, Python support inheritance. The Types of inheritance supported by python are\n",
    "\n",
    "Simple Inheritance\n",
    "Multiple Inheritance\n",
    "Multilevel Inheritance\n",
    "Hybrid Inheritance\n",
    "Hierracial Inheritance"
   ]
  },
  {
   "cell_type": "code",
   "execution_count": null,
   "id": "faa8df1a",
   "metadata": {},
   "outputs": [],
   "source": [
    "Q6. How much encapsulation (making instance or class variables private) does Python support?"
   ]
  },
  {
   "cell_type": "code",
   "execution_count": null,
   "id": "abc71af9",
   "metadata": {},
   "outputs": [],
   "source": [
    "Encapsulation describes the idea of wrapping data and the methods that work on data within one unit. This puts restrictions\n",
    "on accessing variable and methods directly and can prevent the acidental modification of data. to prevent accidental \n",
    "change, an objects variable can only changed by an objects method"
   ]
  },
  {
   "cell_type": "code",
   "execution_count": null,
   "id": "0d9cfb3b",
   "metadata": {},
   "outputs": [],
   "source": [
    "Q7. How do you distinguish between a class variable and an instance variable?"
   ]
  },
  {
   "cell_type": "code",
   "execution_count": null,
   "id": "da1d680a",
   "metadata": {},
   "outputs": [],
   "source": [
    "The Class Attribute is available to all the instance objects of that class. Where as Instance Attribute are accessible only\n",
    "to the obejct/or instance of that class"
   ]
  },
  {
   "cell_type": "code",
   "execution_count": null,
   "id": "dafdf198",
   "metadata": {},
   "outputs": [],
   "source": [
    "Q8. When, if ever, can self be included in a class's method definitions?"
   ]
  },
  {
   "cell_type": "code",
   "execution_count": null,
   "id": "c9d4cd61",
   "metadata": {},
   "outputs": [],
   "source": [
    "Yes self can included in class method definations to access the instance vriables inside class methods"
   ]
  },
  {
   "cell_type": "code",
   "execution_count": null,
   "id": "5d1aa54a",
   "metadata": {},
   "outputs": [],
   "source": [
    "Q9. What is the difference between the _ _add_ _ and the _ _radd_ _ methods?"
   ]
  },
  {
   "cell_type": "code",
   "execution_count": null,
   "id": "80e6bef3",
   "metadata": {},
   "outputs": [],
   "source": [
    "Entering __radd__ Python will try __add__() and if that returns not implemented python will check if the right hand operand\n",
    "implements __radd__ and if it does, it will call __radd__() rather than raising a TypeError"
   ]
  },
  {
   "cell_type": "code",
   "execution_count": null,
   "id": "0f6bf4bd",
   "metadata": {},
   "outputs": [],
   "source": [
    "Q10. When is it necessary to use a reflection method? When do you not need it, even though you\n",
    "support the operation in question?"
   ]
  },
  {
   "cell_type": "code",
   "execution_count": null,
   "id": "d52c068a",
   "metadata": {},
   "outputs": [],
   "source": [
    "Reflection method we often encounter the requirement that a method in the executing or a variable in the calling object\n",
    "or a field of the object should be assigned, while the method name of can not be determined when encoding the code, and \n",
    "need to be input in the from of passing strings through parameters"
   ]
  },
  {
   "cell_type": "code",
   "execution_count": null,
   "id": "969a0ec4",
   "metadata": {},
   "outputs": [],
   "source": [
    "Q11. What is the _ _iadd_ _ method called?"
   ]
  },
  {
   "cell_type": "code",
   "execution_count": null,
   "id": "a5884894",
   "metadata": {},
   "outputs": [],
   "source": [
    "__iadd__ method is called when we use implementation like a+=b which is a.__iadd__(b)"
   ]
  },
  {
   "cell_type": "code",
   "execution_count": null,
   "id": "0cd60b31",
   "metadata": {},
   "outputs": [],
   "source": [
    "Q12. Is the _ _init_ _ method inherited by subclasses? What do you do if you need to customize its\n",
    "behavior within a subclass?"
   ]
  },
  {
   "cell_type": "code",
   "execution_count": null,
   "id": "0ee4f48a",
   "metadata": {},
   "outputs": [],
   "source": [
    "Yes, __init__ method will be inherited by subscriber. if we want to customize its behaviour with in subclass we can use \n",
    "super() method."
   ]
  }
 ],
 "metadata": {
  "kernelspec": {
   "display_name": "Python 3 (ipykernel)",
   "language": "python",
   "name": "python3"
  },
  "language_info": {
   "codemirror_mode": {
    "name": "ipython",
    "version": 3
   },
   "file_extension": ".py",
   "mimetype": "text/x-python",
   "name": "python",
   "nbconvert_exporter": "python",
   "pygments_lexer": "ipython3",
   "version": "3.9.12"
  }
 },
 "nbformat": 4,
 "nbformat_minor": 5
}
