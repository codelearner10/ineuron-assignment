{
 "cells": [
  {
   "cell_type": "code",
   "execution_count": null,
   "id": "24b87081",
   "metadata": {},
   "outputs": [],
   "source": [
    "Q1. Describe the differences between text and binary files in a single paragraph."
   ]
  },
  {
   "cell_type": "code",
   "execution_count": null,
   "id": "893c5609",
   "metadata": {},
   "outputs": [],
   "source": [
    "The differnces between Text files and binary files are\n",
    "\n",
    "Text Files are special subset of binary files that are used to store human readable cahrachter as a rich text document or\n",
    "plain text document. Text files also store data in sequential bytes but bits in text file represents charachters"
   ]
  },
  {
   "cell_type": "code",
   "execution_count": null,
   "id": "7fbc5040",
   "metadata": {},
   "outputs": [],
   "source": [
    "Q2. What are some scenarios where using text files will be the better option? When would you like to\n",
    "use binary files instead of text files?"
   ]
  },
  {
   "cell_type": "code",
   "execution_count": null,
   "id": "6a84254b",
   "metadata": {},
   "outputs": [],
   "source": [
    "text files are loss prone to get corrupted as any undesired change may just show up once the file is opened and then can\n",
    "easily be removed. Whereas use binary files instead of text files for image data."
   ]
  },
  {
   "cell_type": "code",
   "execution_count": null,
   "id": "93e6b0ef",
   "metadata": {},
   "outputs": [],
   "source": [
    "Q3. What are some of the issues with using binary operations to read and write a Python integer\n",
    "directly to disc?"
   ]
  },
  {
   "cell_type": "code",
   "execution_count": null,
   "id": "f080e828",
   "metadata": {},
   "outputs": [],
   "source": [
    "When we read or white a python integer using binary operations\n",
    "\n",
    "Binary operations deal wit raw data\n",
    "One needs to identify how many bytes one would read or write"
   ]
  },
  {
   "cell_type": "code",
   "execution_count": null,
   "id": "809289d2",
   "metadata": {},
   "outputs": [],
   "source": [
    "Q4. Describe a benefit of using the with keyword instead of explicitly opening a file."
   ]
  },
  {
   "cell_type": "code",
   "execution_count": null,
   "id": "6d75851c",
   "metadata": {},
   "outputs": [],
   "source": [
    "When a file is opened using the with keyword, if some exceptions occur after opening a file or at the end of the file\n",
    "it automatically does the closing of the file. There by not leaving an file in open mode and there would no need to \n",
    "explicitly close a file"
   ]
  },
  {
   "cell_type": "code",
   "execution_count": null,
   "id": "60c30989",
   "metadata": {},
   "outputs": [],
   "source": [
    "Q5. Does Python have the trailing newline while reading a line of text? Does Python append a\n",
    "newline when you write a line of text?"
   ]
  },
  {
   "cell_type": "code",
   "execution_count": null,
   "id": "6dae9d8f",
   "metadata": {},
   "outputs": [],
   "source": [
    "Yes, Python have the trailing newline while reading a line of text. When we write a newline has to be provided in python\n",
    "explicitly"
   ]
  },
  {
   "cell_type": "code",
   "execution_count": null,
   "id": "04bf97c6",
   "metadata": {},
   "outputs": [],
   "source": [
    "Q6. What file operations enable for random-access operation?"
   ]
  },
  {
   "cell_type": "code",
   "execution_count": null,
   "id": "6c0b8aa9",
   "metadata": {},
   "outputs": [],
   "source": [
    "The  file operations enable for random-access operation are seek() and tell()"
   ]
  },
  {
   "cell_type": "code",
   "execution_count": null,
   "id": "7dd63f3c",
   "metadata": {},
   "outputs": [],
   "source": [
    "Q7. When do you think you'll use the struct package the most?"
   ]
  },
  {
   "cell_type": "code",
   "execution_count": null,
   "id": "c3440a97",
   "metadata": {},
   "outputs": [],
   "source": [
    "The struct package is mostly used while converting a common python types in to C language types"
   ]
  },
  {
   "cell_type": "code",
   "execution_count": null,
   "id": "8040fa8a",
   "metadata": {},
   "outputs": [],
   "source": [
    "Q8. When is pickling the best option?"
   ]
  },
  {
   "cell_type": "code",
   "execution_count": null,
   "id": "a826ec68",
   "metadata": {},
   "outputs": [],
   "source": [
    "Pickling is te best option for creating a new binary file using python"
   ]
  },
  {
   "cell_type": "code",
   "execution_count": null,
   "id": "9ed83898",
   "metadata": {},
   "outputs": [],
   "source": [
    "Q9. When will it be best to use the shelve package?"
   ]
  },
  {
   "cell_type": "code",
   "execution_count": null,
   "id": "6914fa72",
   "metadata": {},
   "outputs": [],
   "source": [
    "Shelve package is used to pickle data but treats the entire file as dictionary "
   ]
  },
  {
   "cell_type": "code",
   "execution_count": null,
   "id": "60466676",
   "metadata": {},
   "outputs": [],
   "source": [
    "Q10. What is a special restriction when using the shelve package, as opposed to using other data\n",
    "dictionaries?"
   ]
  },
  {
   "cell_type": "code",
   "execution_count": null,
   "id": "5c9114d0",
   "metadata": {},
   "outputs": [],
   "source": [
    "Only string data type can used as key in this special dictionary object, whereas any picklable Python object can be used as\n",
    "value."
   ]
  }
 ],
 "metadata": {
  "kernelspec": {
   "display_name": "Python 3 (ipykernel)",
   "language": "python",
   "name": "python3"
  },
  "language_info": {
   "codemirror_mode": {
    "name": "ipython",
    "version": 3
   },
   "file_extension": ".py",
   "mimetype": "text/x-python",
   "name": "python",
   "nbconvert_exporter": "python",
   "pygments_lexer": "ipython3",
   "version": "3.9.12"
  }
 },
 "nbformat": 4,
 "nbformat_minor": 5
}
