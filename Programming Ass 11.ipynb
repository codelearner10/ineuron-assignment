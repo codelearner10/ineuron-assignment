{
 "cells": [
  {
   "cell_type": "code",
   "execution_count": 1,
   "id": "ae4ac6d7",
   "metadata": {},
   "outputs": [
    {
     "name": "stdout",
     "output_type": "stream",
     "text": [
      "Enter the string: Ineuron full stack data science\n",
      "Enter the length of the string: 3\n",
      "Ineuron,full,stack,data,science\n"
     ]
    }
   ],
   "source": [
    "def check() :\n",
    "    string = input('Enter the string: ')\n",
    "    length = int(input('Enter the length of the string: '))\n",
    "    out = []\n",
    "    for string in string.split(\" \") :\n",
    "        if len(string) > length :\n",
    "            out.append(string)\n",
    "    print(','.join(out))\n",
    "    \n",
    "check()"
   ]
  },
  {
   "cell_type": "code",
   "execution_count": null,
   "id": "290f35a0",
   "metadata": {},
   "outputs": [],
   "source": [
    "2. Write a Python program for removing i-th character from a string?"
   ]
  },
  {
   "cell_type": "code",
   "execution_count": 2,
   "id": "b7124082",
   "metadata": {},
   "outputs": [
    {
     "name": "stdout",
     "output_type": "stream",
     "text": [
      "Enter the String: Ineuron\n",
      "Enter the ith Character: 2\n",
      " Inuron\n"
     ]
    }
   ],
   "source": [
    "def rem() :\n",
    "    string = input(\"Enter the String: \")\n",
    "    num = int(input('Enter the ith Character: '))\n",
    "    out = \" \"\n",
    "    for ele in range(len(string)) :\n",
    "        if ele != num :\n",
    "            out = out + string[ele]\n",
    "    print(out)\n",
    "    \n",
    "rem()"
   ]
  },
  {
   "cell_type": "code",
   "execution_count": null,
   "id": "bee0dd93",
   "metadata": {},
   "outputs": [],
   "source": [
    "3. Write a Python program to split and join a string?"
   ]
  },
  {
   "cell_type": "code",
   "execution_count": 3,
   "id": "3ae3f434",
   "metadata": {},
   "outputs": [
    {
     "name": "stdout",
     "output_type": "stream",
     "text": [
      "Enter the stringIneuron full stack data sceince course\n",
      "Split String: ['Ineuron', 'full', 'stack', 'data', 'sceince', 'course']\n",
      "Join String: Ineuron full stack data sceince course\n"
     ]
    }
   ],
   "source": [
    "def sjs() :\n",
    "    string = input('Enter the string')\n",
    "    print(f'Split String: {string.split(\" \")}')\n",
    "    print(f'Join String: {\" \".join(string.split(\" \"))}')\n",
    "sjs()"
   ]
  },
  {
   "cell_type": "code",
   "execution_count": null,
   "id": "b84b39d1",
   "metadata": {},
   "outputs": [],
   "source": [
    "4. Write a Python to check if a given string is binary string or not?"
   ]
  },
  {
   "cell_type": "code",
   "execution_count": 4,
   "id": "bd084959",
   "metadata": {},
   "outputs": [
    {
     "name": "stdout",
     "output_type": "stream",
     "text": [
      "Enter the string: 2545\n",
      "2545 is not a binart string\n",
      "Enter the string: 1010101\n",
      "1010101 is a binary string\n"
     ]
    }
   ],
   "source": [
    "def check() :\n",
    "    string = input('Enter the string: ')\n",
    "    stun = 0\n",
    "    for ele in string :\n",
    "        if ele in ['0','1'] :\n",
    "            stun = 1\n",
    "            continue\n",
    "        else :\n",
    "            stun = 0\n",
    "            break\n",
    "    statement = 'is a binary string' if stun == 1 else 'is not a binart string'\n",
    "    print(f'{string} {statement}')\n",
    "    \n",
    "check()\n",
    "check()"
   ]
  },
  {
   "cell_type": "code",
   "execution_count": null,
   "id": "dca3c5a0",
   "metadata": {},
   "outputs": [],
   "source": [
    "5. Write a Python program to find uncommon words from two Strings?"
   ]
  },
  {
   "cell_type": "code",
   "execution_count": 5,
   "id": "98202496",
   "metadata": {},
   "outputs": [
    {
     "name": "stdout",
     "output_type": "stream",
     "text": [
      "Enter the string 1: Supervised learning\n",
      "Enter the string 2: Unsupervised learning\n",
      "{'Supervised', 'Unsupervised'}\n"
     ]
    }
   ],
   "source": [
    "def unc() :\n",
    "    string1 = set(input('Enter the string 1: ').split(' '))\n",
    "    string2 = set(input('Enter the string 2: ').split(' '))\n",
    "    out = (string1.union(string2)).difference(string1.intersection(string2))\n",
    "    print(out)\n",
    "    \n",
    "unc()"
   ]
  },
  {
   "cell_type": "code",
   "execution_count": null,
   "id": "ad48cc44",
   "metadata": {},
   "outputs": [],
   "source": [
    "6. Write a Python to find all duplicate characters in string?"
   ]
  },
  {
   "cell_type": "code",
   "execution_count": 7,
   "id": "8c617c59",
   "metadata": {},
   "outputs": [
    {
     "name": "stdout",
     "output_type": "stream",
     "text": [
      "Enter the stringfull stack data science course\n",
      "Duplicate characters are: [' ', 'c', 't', 'l', 's', 'u', 'a', 'e']\n"
     ]
    }
   ],
   "source": [
    "  def dup() :\n",
    "        string = input('Enter the string')\n",
    "        nstring = []\n",
    "        dstring = []\n",
    "        for ele in string :\n",
    "            if ele not in nstring :\n",
    "                nstring.append(ele)\n",
    "            else :\n",
    "                dstring.append(ele)\n",
    "        print(f\"Duplicate characters are: {list(set(dstring))}\")\n",
    "        \n",
    "dup()"
   ]
  },
  {
   "cell_type": "code",
   "execution_count": null,
   "id": "736f1769",
   "metadata": {},
   "outputs": [],
   "source": [
    "7. Write a Python Program to check if a string contains any special character?"
   ]
  },
  {
   "cell_type": "code",
   "execution_count": 15,
   "id": "020c5a86",
   "metadata": {},
   "outputs": [
    {
     "name": "stdout",
     "output_type": "stream",
     "text": [
      "Enter the string: ds @ineuron by ! sudhanshu & krish\n",
      "There are 3 special charachters in ds @ineuron by ! sudhanshu & krish which are ['@', '!', '&']\n"
     ]
    }
   ],
   "source": [
    "def check() :\n",
    "    chars = '[@_!#$%^&*()<>?/\\|}{~:]'\n",
    "    num = input('Enter the string: ')\n",
    "    count = 0\n",
    "    charl = []\n",
    "    for ele in num :\n",
    "        if ele in chars :\n",
    "            charl.append(ele)\n",
    "            count = count + 1\n",
    "    print(f'There are {count} special charachters in {num} which are {charl}')\n",
    "    \n",
    "check()"
   ]
  }
 ],
 "metadata": {
  "kernelspec": {
   "display_name": "Python 3 (ipykernel)",
   "language": "python",
   "name": "python3"
  },
  "language_info": {
   "codemirror_mode": {
    "name": "ipython",
    "version": 3
   },
   "file_extension": ".py",
   "mimetype": "text/x-python",
   "name": "python",
   "nbconvert_exporter": "python",
   "pygments_lexer": "ipython3",
   "version": "3.9.12"
  }
 },
 "nbformat": 4,
 "nbformat_minor": 5
}
