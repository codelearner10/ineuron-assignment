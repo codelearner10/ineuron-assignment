{
 "cells": [
  {
   "cell_type": "code",
   "execution_count": null,
   "id": "5a84634f",
   "metadata": {},
   "outputs": [],
   "source": [
    "1. What are the new features added in Python 3.8 version?"
   ]
  },
  {
   "cell_type": "code",
   "execution_count": null,
   "id": "bd0265f8",
   "metadata": {},
   "outputs": [],
   "source": [
    "Warlus Operator : This operator is used to assign and return a value in the same expression. This remove the need for \n",
    "initializing the variable upfront. The major benefit of this its saves some lines of code. It is also known as The Warlus\n",
    "Operator due to its similarity to the eyes and tusks of a warlus\n",
    "\n",
    "Yield and Return statements do not require paratheses to return multiple values\n",
    "\n",
    "Reversed works with a dicitonary. The built-in method reversed() can be used for accessing the elements in the reverse \n",
    "order of insertion\n",
    "\n",
    "Dict comprehension have been modified so that the key is computed first and the value second"
   ]
  },
  {
   "cell_type": "code",
   "execution_count": null,
   "id": "79d5caf0",
   "metadata": {},
   "outputs": [],
   "source": [
    "2. What is monkey patching in Python?"
   ]
  },
  {
   "cell_type": "code",
   "execution_count": null,
   "id": "6da30fca",
   "metadata": {},
   "outputs": [],
   "source": [
    "In Python, the term monkey patch refers to making dynamic(or-runtime) modification to class or module. in python we can\n",
    "actually change the behaviour of code at run-time"
   ]
  },
  {
   "cell_type": "code",
   "execution_count": 1,
   "id": "7b4287c9",
   "metadata": {},
   "outputs": [
    {
     "name": "stdout",
     "output_type": "stream",
     "text": [
      "monkey_f() is being called\n"
     ]
    }
   ],
   "source": [
    "class A :\n",
    "    def func(self) :\n",
    "        print(\"func() is being called\")\n",
    "        \n",
    "def monkey_f(self) :\n",
    "    print(\"monkey_f() is being called\")\n",
    "    \n",
    "A.func = monkey_f\n",
    "some_object = A()\n",
    "some_object.func()"
   ]
  },
  {
   "cell_type": "code",
   "execution_count": null,
   "id": "a202eb25",
   "metadata": {},
   "outputs": [],
   "source": [
    "3. What is the difference between a shallow copy and deep copy?"
   ]
  },
  {
   "cell_type": "code",
   "execution_count": null,
   "id": "46c94760",
   "metadata": {},
   "outputs": [],
   "source": [
    "The difference between a Shaloow Copy and deep copy are as follows :\n",
    "\n",
    "When an object is copied using copy() it is called shallow copy as changes made in copied object will also make \n",
    "corresponding changes in original object, because both the objects will be refrencing same address location\n",
    "\n",
    "When an object is copied using deepcopy(), it is called deep copy as changes made in copied object will not make \n",
    "corresponding changes in original object, because both the objects will not be refrencing same address location"
   ]
  },
  {
   "cell_type": "code",
   "execution_count": 2,
   "id": "9a2b6ad0",
   "metadata": {},
   "outputs": [
    {
     "name": "stdout",
     "output_type": "stream",
     "text": [
      "Original Elements of each List\n",
      "[1, 2, [3, 4], 5, 6]\n",
      "[1, 2, [3, 4], 5, 6]\n",
      "[1, 2, [3, 4], 5, 6]\n",
      "New Elements of each List\n",
      "[1, 2, [3, 4], 5, 20]\n",
      "[10, 2, [3, 4], 5, 6]\n",
      "[1, 2, [3, 4], 5, 20]\n"
     ]
    }
   ],
   "source": [
    "from copy import deepcopy,copy\n",
    "l_one = [1,2,[3,4],5,6]\n",
    "l_two = deepcopy(l_one)\n",
    "l_three = l_one\n",
    "print(f'Original Elements of each List\\n{l_one}\\n{l_two}\\n{l_three}')\n",
    "l_two[0] = 10\n",
    "l_three[-1] = 20 \n",
    "print(f'New Elements of each List\\n{l_one}\\n{l_two}\\n{l_three}')"
   ]
  },
  {
   "cell_type": "code",
   "execution_count": null,
   "id": "d8d8bf5d",
   "metadata": {},
   "outputs": [],
   "source": [
    "4. What is the maximum possible length of an identifier?"
   ]
  },
  {
   "cell_type": "code",
   "execution_count": null,
   "id": "e2aa237e",
   "metadata": {},
   "outputs": [],
   "source": [
    "In python the highest possible length of an identifier is 79 characters. Python is a high level programming language. it's\n",
    "also a complex from and collect of waste\n",
    "\n",
    "Python,particularity when combined with identifiers, is case-sensitive\n",
    "When writing or using identifiers in python, it has a maximum of 79 characters.\n",
    "Unlikely, Python gives the identifiers unlimited length\n",
    "However, the layout of PEP-8 prevents th user from breaking the rules and includes a 79-character limit "
   ]
  },
  {
   "cell_type": "code",
   "execution_count": null,
   "id": "e52e98a1",
   "metadata": {},
   "outputs": [],
   "source": [
    "5. What is generator comprehension?"
   ]
  },
  {
   "cell_type": "code",
   "execution_count": null,
   "id": "bbfdabca",
   "metadata": {},
   "outputs": [],
   "source": [
    "A genrator comprehension is a single-line specification for definig a generation ion Python\n",
    "\n",
    "It is absolutely essential t learn this syntax in order to write and readable code \n",
    "Generator comprehension uses round bracket unlike square bracket in list comprehension\n",
    "The generator yields one item at a time and geerates item only when in demand. Where as in a list comprehension, Python \n",
    "reserves memory for the whole list. Thus we can say that the generator expression are memory effiicient than the lists"
   ]
  },
  {
   "cell_type": "code",
   "execution_count": 4,
   "id": "478f1e6b",
   "metadata": {},
   "outputs": [
    {
     "name": "stdout",
     "output_type": "stream",
     "text": [
      "[0, 1, 2, 3, 4, 5, 6, 7, 8, 9]\n",
      "<generator object <genexpr> at 0x0000014B1BCE8E40>\n",
      "0 2 4 6 8 "
     ]
    }
   ],
   "source": [
    "in_list = [x for x in range(10)]\n",
    "print(in_list)\n",
    "out_gen = (x for x in in_list if x%2 == 0)\n",
    "print(out_gen)\n",
    "for ele in out_gen :\n",
    "    print(ele, end = \" \")"
   ]
  }
 ],
 "metadata": {
  "kernelspec": {
   "display_name": "Python 3 (ipykernel)",
   "language": "python",
   "name": "python3"
  },
  "language_info": {
   "codemirror_mode": {
    "name": "ipython",
    "version": 3
   },
   "file_extension": ".py",
   "mimetype": "text/x-python",
   "name": "python",
   "nbconvert_exporter": "python",
   "pygments_lexer": "ipython3",
   "version": "3.9.12"
  }
 },
 "nbformat": 4,
 "nbformat_minor": 5
}
