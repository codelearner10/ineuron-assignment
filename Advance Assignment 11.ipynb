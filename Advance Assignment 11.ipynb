{
 "cells": [
  {
   "cell_type": "code",
   "execution_count": null,
   "id": "4c4201e2",
   "metadata": {},
   "outputs": [],
   "source": [
    "Q1. What is the concept of a metaclass?"
   ]
  },
  {
   "cell_type": "code",
   "execution_count": null,
   "id": "1d92a3a5",
   "metadata": {},
   "outputs": [],
   "source": [
    "Metaclass in python is a class of a class that defines how a class behaves. A class is itself a instance of Metaclass and\n",
    "any instance of class in python is an instance of type metaclass. e.g. type of int, str, float, list, tuple, and many more\n",
    "is of metaclass type"
   ]
  },
  {
   "cell_type": "code",
   "execution_count": null,
   "id": "2d9c4a27",
   "metadata": {},
   "outputs": [],
   "source": [
    "Q2. What is the best way to declare a class&#39;s metaclass?"
   ]
  },
  {
   "cell_type": "code",
   "execution_count": null,
   "id": "560a9b25",
   "metadata": {},
   "outputs": [],
   "source": [
    "by using metaclass keyword in class definition"
   ]
  },
  {
   "cell_type": "code",
   "execution_count": 1,
   "id": "0cea3642",
   "metadata": {},
   "outputs": [
    {
     "name": "stdout",
     "output_type": "stream",
     "text": [
      "<class 'type'>\n",
      "<class '__main__.meta'>\n"
     ]
    }
   ],
   "source": [
    "class meta(type) :\n",
    "    pass\n",
    "class class_meta(metaclass=meta) :\n",
    "    pass\n",
    "print(type(meta))\n",
    "print(type(class_meta))"
   ]
  },
  {
   "cell_type": "code",
   "execution_count": null,
   "id": "d51f58de",
   "metadata": {},
   "outputs": [],
   "source": [
    "Q3. How do class decorators overlap with metaclasses for handling classes?"
   ]
  },
  {
   "cell_type": "code",
   "execution_count": null,
   "id": "93b13609",
   "metadata": {},
   "outputs": [],
   "source": [
    "Anyhting you can do with a class decorator you can of course do with a custom metaclasses(jsut apply the functionality of\n",
    "the \"decorator function\",i.e. the one that takes a class object and modifies it,in the course of the metaclass's __new__\n",
    "or __init__ that makes the class object )"
   ]
  },
  {
   "cell_type": "code",
   "execution_count": null,
   "id": "290ce187",
   "metadata": {},
   "outputs": [],
   "source": [
    "Q4. How do class decorators overlap with metaclasses for handling instances?"
   ]
  },
  {
   "cell_type": "code",
   "execution_count": null,
   "id": "33b047e4",
   "metadata": {},
   "outputs": [],
   "source": [
    "Anyhting you can do with a class decorator you can of course do with a custom metaclasses(jsut apply the functionality of\n",
    "the \"decorator function\",i.e. the one that takes a class object and modifies it,in the course of the metaclass's __new__\n",
    "or __init__ that makes the class object )"
   ]
  }
 ],
 "metadata": {
  "kernelspec": {
   "display_name": "Python 3 (ipykernel)",
   "language": "python",
   "name": "python3"
  },
  "language_info": {
   "codemirror_mode": {
    "name": "ipython",
    "version": 3
   },
   "file_extension": ".py",
   "mimetype": "text/x-python",
   "name": "python",
   "nbconvert_exporter": "python",
   "pygments_lexer": "ipython3",
   "version": "3.9.12"
  }
 },
 "nbformat": 4,
 "nbformat_minor": 5
}
