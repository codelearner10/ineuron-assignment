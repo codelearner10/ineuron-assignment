{
 "cells": [
  {
   "cell_type": "code",
   "execution_count": null,
   "id": "8dd8517d",
   "metadata": {},
   "outputs": [],
   "source": [
    "Q1. Is an assignment operator like += only for show? Is it possible that it would lead to faster results\n",
    "at the runtime?"
   ]
  },
  {
   "cell_type": "code",
   "execution_count": null,
   "id": "489f5027",
   "metadata": {},
   "outputs": [],
   "source": [
    "A=A+1 evalutes to finding A, adding 1 to it. Then storing the value again in variable A. This expression makes Python\n",
    "to look for memory holder of a twice. But A+1 simply value of A is to incremented by 1. As memory address has to be \n",
    "identified once, += leads to faster operation"
   ]
  },
  {
   "cell_type": "code",
   "execution_count": null,
   "id": "1e5d4c1f",
   "metadata": {},
   "outputs": [],
   "source": [
    "Q2. What is the smallest number of statements you'd have to write in most programming languages to\n",
    "replace the Python expression a, b = a + b, a?"
   ]
  },
  {
   "cell_type": "code",
   "execution_count": null,
   "id": "b7b56da9",
   "metadata": {},
   "outputs": [],
   "source": [
    "Minimum number of lines required to write above code in languages other Python will be 4 two for assigning initial values\n",
    "for values a and b and two for reassignment i.e. a=a+b and b=a"
   ]
  },
  {
   "cell_type": "code",
   "execution_count": null,
   "id": "1040c4f6",
   "metadata": {},
   "outputs": [],
   "source": [
    "Q3. In Python, what is the most effective way to set a list of 100 integers to 0?"
   ]
  },
  {
   "cell_type": "code",
   "execution_count": null,
   "id": "2e07144e",
   "metadata": {},
   "outputs": [],
   "source": [
    "The most effective way to set a list of 100 integer to 0 in python is by using repition operator (*) or by using list \n",
    "comprehension"
   ]
  },
  {
   "cell_type": "code",
   "execution_count": 2,
   "id": "ae5ade81",
   "metadata": {},
   "outputs": [
    {
     "name": "stdout",
     "output_type": "stream",
     "text": [
      "[0, 0, 0, 0, 0, 0, 0, 0, 0, 0, 0, 0, 0, 0, 0, 0, 0, 0, 0, 0, 0, 0, 0, 0, 0, 0, 0, 0, 0, 0, 0, 0, 0, 0, 0, 0, 0, 0, 0, 0, 0, 0, 0, 0, 0, 0, 0, 0, 0, 0, 0, 0, 0, 0, 0, 0, 0, 0, 0, 0, 0, 0, 0, 0, 0, 0, 0, 0, 0, 0, 0, 0, 0, 0, 0, 0, 0, 0, 0, 0, 0, 0, 0, 0, 0, 0, 0, 0, 0, 0, 0, 0, 0, 0, 0, 0, 0, 0, 0, 0]\n",
      "[0, 0, 0, 0, 0, 0, 0, 0, 0, 0, 0, 0, 0, 0, 0, 0, 0, 0, 0, 0, 0, 0, 0, 0, 0, 0, 0, 0, 0, 0, 0, 0, 0, 0, 0, 0, 0, 0, 0, 0, 0, 0, 0, 0, 0, 0, 0, 0, 0, 0, 0, 0, 0, 0, 0, 0, 0, 0, 0, 0, 0, 0, 0, 0, 0, 0, 0, 0, 0, 0, 0, 0, 0, 0, 0, 0, 0, 0, 0, 0, 0, 0, 0, 0, 0, 0, 0, 0, 0, 0, 0, 0, 0, 0, 0, 0, 0, 0, 0, 0]\n"
     ]
    }
   ],
   "source": [
    "list_zero = [0]*100\n",
    "print(list_zero)\n",
    "zero_list = [0 for x in range(100)]\n",
    "print(zero_list)"
   ]
  },
  {
   "cell_type": "code",
   "execution_count": null,
   "id": "96bdba74",
   "metadata": {},
   "outputs": [],
   "source": [
    "Q4. What is the most effective way to initialise a list of 99 integers that repeats the sequence 1, 2, 3?\n",
    "S If necessary, show step-by-step instructions on how to accomplish this."
   ]
  },
  {
   "cell_type": "code",
   "execution_count": 3,
   "id": "1d2b573f",
   "metadata": {},
   "outputs": [
    {
     "name": "stdout",
     "output_type": "stream",
     "text": [
      "[1, 2, 3, 1, 2, 3, 1, 2, 3, 1, 2, 3, 1, 2, 3, 1, 2, 3, 1, 2, 3, 1, 2, 3, 1, 2, 3, 1, 2, 3, 1, 2, 3, 1, 2, 3, 1, 2, 3, 1, 2, 3, 1, 2, 3, 1, 2, 3, 1, 2, 3, 1, 2, 3, 1, 2, 3, 1, 2, 3, 1, 2, 3, 1, 2, 3, 1, 2, 3, 1, 2, 3, 1, 2, 3, 1, 2, 3, 1, 2, 3, 1, 2, 3, 1, 2, 3, 1, 2, 3, 1, 2, 3, 1, 2, 3, 1, 2, 3]\n"
     ]
    }
   ],
   "source": [
    "my_list = [1,2,3] *33\n",
    "print(my_list)"
   ]
  },
  {
   "cell_type": "code",
   "execution_count": null,
   "id": "57ed65f5",
   "metadata": {},
   "outputs": [],
   "source": [
    "Q5. If you're using IDLE to run a Python application, explain how to print a multidimensional list as\n",
    "efficiently?"
   ]
  },
  {
   "cell_type": "code",
   "execution_count": 4,
   "id": "25257db9",
   "metadata": {},
   "outputs": [
    {
     "name": "stdout",
     "output_type": "stream",
     "text": [
      "1 1 2 2 3 3 4 4 5 5 "
     ]
    }
   ],
   "source": [
    "my_list = [[1,1],[2,2],[3,3],[4,4],[5,5]]\n",
    "for x in range(len(my_list)) :\n",
    "    for y in range(len(my_list[x])) :\n",
    "        print(my_list[x][y],end = \" \")"
   ]
  },
  {
   "cell_type": "code",
   "execution_count": null,
   "id": "122f316f",
   "metadata": {},
   "outputs": [],
   "source": [
    "Q6. Is it possible to use list comprehension with a string? If so, how can you go about doing it?"
   ]
  },
  {
   "cell_type": "code",
   "execution_count": null,
   "id": "284860a9",
   "metadata": {},
   "outputs": [],
   "source": [
    "List comprehension with string is possible"
   ]
  },
  {
   "cell_type": "code",
   "execution_count": 5,
   "id": "b515286d",
   "metadata": {},
   "outputs": [
    {
     "name": "stdout",
     "output_type": "stream",
     "text": [
      "['i', 'n', 'e', 'u', 'r', 'o', 'n']\n"
     ]
    }
   ],
   "source": [
    "my_list = [ele for ele in 'ineuron']\n",
    "print(my_list)"
   ]
  },
  {
   "cell_type": "code",
   "execution_count": null,
   "id": "0deed72f",
   "metadata": {},
   "outputs": [],
   "source": [
    "Q7. From the command line, how do you get support with a user-written Python programme? Is this\n",
    "possible from inside IDLE?"
   ]
  },
  {
   "cell_type": "code",
   "execution_count": null,
   "id": "d14148cb",
   "metadata": {},
   "outputs": [],
   "source": [
    "get support with a user-written Python Programme : Start a command prompt (Windows) or terminal window(Linux/Mac). If the \n",
    "current working directory is the same as the location in which you saved the file you can simply specify the filename as a\n",
    "command-line argument to the Python interpreter\n",
    "\n",
    "get support with a user-written Python Program for the IDLE : You can also create script files and run them in IDLE. From\n",
    "the shell window menu,select file->new file.That should open an additional editing window. Type in the code to be executed\n",
    ". From the menu in that window, select file -> save or file -> save as... and save the file to dis. Then select run->\n",
    "run model. The output should appear back in the interpreter"
   ]
  },
  {
   "cell_type": "code",
   "execution_count": null,
   "id": "50c23115",
   "metadata": {},
   "outputs": [],
   "source": [
    "Q8. Functions are said to be “first-class objects” in Python but not in most other languages, such as\n",
    "C++ or Java."
   ]
  },
  {
   "cell_type": "code",
   "execution_count": null,
   "id": "edfca46d",
   "metadata": {},
   "outputs": [],
   "source": [
    "A function is an instance of the Object type\n",
    "A can store the function in a variable\n",
    "You can pass the function as a parameter to another function\n",
    "You can return the function from a function\n",
    "You can store them in data structures such as hash tables lists"
   ]
  },
  {
   "cell_type": "code",
   "execution_count": null,
   "id": "73e1b165",
   "metadata": {},
   "outputs": [],
   "source": [
    "Q9. How do you distinguish between a wrapper, a wrapped feature, and a decorator?"
   ]
  },
  {
   "cell_type": "code",
   "execution_count": null,
   "id": "69720ae0",
   "metadata": {},
   "outputs": [],
   "source": [
    "Wrappers Around the function are known as Decorators."
   ]
  },
  {
   "cell_type": "code",
   "execution_count": null,
   "id": "feca292c",
   "metadata": {},
   "outputs": [],
   "source": [
    "Q10. If a function is a generator function, what does it return?"
   ]
  },
  {
   "cell_type": "code",
   "execution_count": null,
   "id": "808c67c8",
   "metadata": {},
   "outputs": [],
   "source": [
    "Generator function are a special kind of function that return a lazy iterator. These are objects that you can loop over\n",
    "like a list. However unlike lists lazy iterators do not store their contents in memory"
   ]
  },
  {
   "cell_type": "code",
   "execution_count": null,
   "id": "a8a51c8e",
   "metadata": {},
   "outputs": [],
   "source": [
    "Q11. What is the one improvement that must be made to a function in order for it to become a\n",
    "generator function in the Python language?"
   ]
  },
  {
   "cell_type": "code",
   "execution_count": null,
   "id": "1e82c26b",
   "metadata": {},
   "outputs": [],
   "source": [
    "Generator is a written as normal function but uses yield keyword to return values instead of return keyword"
   ]
  },
  {
   "cell_type": "code",
   "execution_count": null,
   "id": "e8f12878",
   "metadata": {},
   "outputs": [],
   "source": [
    "Q12. Identify at least one benefit of generators."
   ]
  },
  {
   "cell_type": "code",
   "execution_count": null,
   "id": "c4435738",
   "metadata": {},
   "outputs": [],
   "source": [
    "return statement sends a specified value back to its caller where as yield statement can prodouce a sequence of values\n",
    "We should use generator when we want to iterate over a sequence, but don't want to store the entire sequences in memory."
   ]
  }
 ],
 "metadata": {
  "kernelspec": {
   "display_name": "Python 3 (ipykernel)",
   "language": "python",
   "name": "python3"
  },
  "language_info": {
   "codemirror_mode": {
    "name": "ipython",
    "version": 3
   },
   "file_extension": ".py",
   "mimetype": "text/x-python",
   "name": "python",
   "nbconvert_exporter": "python",
   "pygments_lexer": "ipython3",
   "version": "3.9.12"
  }
 },
 "nbformat": 4,
 "nbformat_minor": 5
}
