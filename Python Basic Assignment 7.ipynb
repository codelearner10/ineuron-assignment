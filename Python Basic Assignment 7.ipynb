{
 "cells": [
  {
   "cell_type": "code",
   "execution_count": null,
   "id": "0c451c04",
   "metadata": {},
   "outputs": [],
   "source": [
    "1. What is the name of the feature responsible for generating Regex objects?"
   ]
  },
  {
   "cell_type": "code",
   "execution_count": null,
   "id": "ace07fb8",
   "metadata": {},
   "outputs": [],
   "source": [
    "re.compile() is the feature responsible for generation of Regex objects"
   ]
  },
  {
   "cell_type": "code",
   "execution_count": 3,
   "id": "df1a4c51",
   "metadata": {},
   "outputs": [
    {
     "name": "stdout",
     "output_type": "stream",
     "text": [
      "re.compile('some_random_pattern')\n"
     ]
    }
   ],
   "source": [
    "import re\n",
    "x = re.compile(\"some_random_pattern\")\n",
    "type(x)\n",
    "print(x)"
   ]
  },
  {
   "cell_type": "code",
   "execution_count": null,
   "id": "d4b2ff48",
   "metadata": {},
   "outputs": [],
   "source": [
    "2. Why do raw strings often appear in Regex objects?"
   ]
  },
  {
   "cell_type": "code",
   "execution_count": null,
   "id": "c9a7655e",
   "metadata": {},
   "outputs": [],
   "source": [
    "Ans : Regular expression use the backash character (\"\\\") to indicate special forms (Metecharacter) or to allow special \n",
    "      charaacters (special sequences) to be without invoking their special meaning. This collides with Python's of the same\n",
    "      purpose in string literals. Hence, Raw strings are used (e.g r\"\\n\") so that so that backlash donot have to be escaped"
   ]
  },
  {
   "cell_type": "code",
   "execution_count": null,
   "id": "feb4addf",
   "metadata": {},
   "outputs": [],
   "source": [
    "3. What is the return value of the search() method?"
   ]
  },
  {
   "cell_type": "code",
   "execution_count": null,
   "id": "faf71da1",
   "metadata": {},
   "outputs": [],
   "source": [
    "Ans : The return value of re,.search(pattern,string) method is a match object if the pattern is observed in the string \n",
    "else it returns a None"
   ]
  },
  {
   "cell_type": "code",
   "execution_count": 2,
   "id": "ac08b3da",
   "metadata": {},
   "outputs": [
    {
     "name": "stdout",
     "output_type": "stream",
     "text": [
      "Output :  <re.Match object; span=(0, 1), match='I'>\n",
      "Output :  None\n"
     ]
    }
   ],
   "source": [
    "import re\n",
    "match = re.search('i' , \"Ineuron Full Stack Data Science Program\" , flags = re.IGNORECASE)\n",
    "print(\"Output : \" , match)\n",
    "match = re.search(\"X\" , \"Ineuron Full Stack Data Science Program\" , flags = re.IGNORECASE)\n",
    "print(\"Output : \" , match)"
   ]
  },
  {
   "cell_type": "code",
   "execution_count": null,
   "id": "4af43bbb",
   "metadata": {},
   "outputs": [],
   "source": [
    "4. From a Match item, how do you get the actual strings that match the pattern?"
   ]
  },
  {
   "cell_type": "code",
   "execution_count": null,
   "id": "5e148d16",
   "metadata": {},
   "outputs": [],
   "source": [
    "Ans : For Matched item group() methods returns actual strings that match pattern"
   ]
  },
  {
   "cell_type": "code",
   "execution_count": 3,
   "id": "c4a01189",
   "metadata": {},
   "outputs": [
    {
     "name": "stdout",
     "output_type": "stream",
     "text": [
      "Output :  Ineuron\n"
     ]
    }
   ],
   "source": [
    "import re\n",
    "match = re.search('ineuron' , 'Ineuron full stack data science program' , flags = re.IGNORECASE)\n",
    "print(\"Output : \" , match.group())"
   ]
  },
  {
   "cell_type": "code",
   "execution_count": null,
   "id": "352bb435",
   "metadata": {},
   "outputs": [],
   "source": [
    "5. In the regex which created from the r&#39;(\\d\\d\\d)-(\\d\\d\\d-\\d\\d\\d\\d)&#39;, what does group zero cover?\n",
    "Group 2? Group 1?"
   ]
  },
  {
   "cell_type": "code",
   "execution_count": null,
   "id": "c92c1f74",
   "metadata": {},
   "outputs": [],
   "source": [
    "Ans : In the Regex r'(\\d\\d\\d) - (\\d\\d\\d-\\d\\d\\d\\d)' the zero group covers the entire pattern match where as the first group\n",
    "cover (\\d\\d\\d) and the second group cover (\\d\\d\\d-\\d\\d\\d\\d)"
   ]
  },
  {
   "cell_type": "code",
   "execution_count": 13,
   "id": "56e4fd46",
   "metadata": {},
   "outputs": [
    {
     "name": "stdout",
     "output_type": "stream",
     "text": [
      "('415', '555-4242')\n",
      "415-555-4242\n",
      "415\n",
      "555-4242\n"
     ]
    }
   ],
   "source": [
    "import re \n",
    "phoneNumberRegex = re.compile(r'(\\d\\d\\d)-(\\d\\d\\d-\\d\\d\\d\\d)')\n",
    "mo = phoneNumberRegex.search('My Number is 415-555-4242.')\n",
    "print(mo.groups())\n",
    "print(mo.group())\n",
    "print(mo.group(1))\n",
    "print(mo.group(2))"
   ]
  },
  {
   "cell_type": "code",
   "execution_count": null,
   "id": "2200b905",
   "metadata": {},
   "outputs": [],
   "source": [
    "6. In standard expression syntax, parentheses and intervals have distinct meanings. How can you tell\n",
    "a regex that you want it to fit real parentheses and periods?"
   ]
  },
  {
   "cell_type": "code",
   "execution_count": null,
   "id": "e088beb8",
   "metadata": {},
   "outputs": [],
   "source": [
    "The \\. \\(and\\) escape characters in the raw string passed to re.compile() will match actual parenthesis characters"
   ]
  },
  {
   "cell_type": "code",
   "execution_count": 4,
   "id": "a35cd62b",
   "metadata": {},
   "outputs": [
    {
     "name": "stdout",
     "output_type": "stream",
     "text": [
      "(415) 555-4242\n"
     ]
    }
   ],
   "source": [
    "import re\n",
    "phoneNumberRegex = re.compile(r'(\\(\\d\\d\\d\\)) (\\d\\d\\d-\\d\\d\\d\\d)')\n",
    "mo = phoneNumberRegex.search(\"My Phone Number is (415) 555-4242.\")\n",
    "print(mo.group())"
   ]
  },
  {
   "cell_type": "code",
   "execution_count": null,
   "id": "9cad3c89",
   "metadata": {},
   "outputs": [],
   "source": [
    "7. The findall() method returns a string list or a list of string tuples. What causes it to return one of\n",
    "the two options?"
   ]
  },
  {
   "cell_type": "code",
   "execution_count": null,
   "id": "6f60466e",
   "metadata": {},
   "outputs": [],
   "source": [
    "Ans : If the regex pattern has no groups, a list of strings matched is returned. If the regex pattern has groups, a list\n",
    "of tuple of strings is returned"
   ]
  },
  {
   "cell_type": "code",
   "execution_count": 9,
   "id": "0fed318e",
   "metadata": {},
   "outputs": [
    {
     "name": "stdout",
     "output_type": "stream",
     "text": [
      "[('(415)', '555-4242')]\n",
      "['415-555-4242']\n"
     ]
    }
   ],
   "source": [
    "import re \n",
    "phoneNumRegex = re.compile(r'(\\(\\d\\d\\d\\)) (\\d\\d\\d-\\d\\d\\d\\d)')\n",
    "mo = phoneNumRegex.findall('My phone number is (415) 555-4242.')\n",
    "print(mo)\n",
    "\n",
    "import re\n",
    "phoneNumRegex = re.compile(r'\\d{3}-\\d{3}-\\d{4}')\n",
    "mo = phoneNumRegex.findall('My number is 415-555-4242.')\n",
    "print(mo)\n",
    "\n"
   ]
  },
  {
   "cell_type": "code",
   "execution_count": null,
   "id": "de71249e",
   "metadata": {},
   "outputs": [],
   "source": [
    "8. In standard expressions, what does the | character mean?"
   ]
  },
  {
   "cell_type": "code",
   "execution_count": null,
   "id": "7403174e",
   "metadata": {},
   "outputs": [],
   "source": [
    "Ans : In regular Expression | means OR operator."
   ]
  },
  {
   "cell_type": "code",
   "execution_count": null,
   "id": "c7f138ff",
   "metadata": {},
   "outputs": [],
   "source": [
    "9. In regular expressions, what does the character stand for?"
   ]
  },
  {
   "cell_type": "code",
   "execution_count": null,
   "id": "251a8eba",
   "metadata": {},
   "outputs": [],
   "source": [
    "Ans : In regular expression, ? character represents zero or more match of the preceeding group"
   ]
  },
  {
   "cell_type": "code",
   "execution_count": 10,
   "id": "d4739a0d",
   "metadata": {},
   "outputs": [
    {
     "name": "stdout",
     "output_type": "stream",
     "text": [
      "<re.Match object; span=(0, 6), match='Batman'>\n",
      "<re.Match object; span=(0, 8), match='Batwoman'>\n"
     ]
    }
   ],
   "source": [
    "import re\n",
    "match_1 = re.search(\"Bat(wo)?man\",\"Batman returns\")\n",
    "print(match_1)\n",
    "match_2 = re.search(\"Bat(wo)?man\",\"Batwoman returns\")\n",
    "print(match_2)"
   ]
  },
  {
   "cell_type": "code",
   "execution_count": null,
   "id": "bd65f346",
   "metadata": {},
   "outputs": [],
   "source": [
    "10.In regular expressions, what is the difference between the + and * characters?"
   ]
  },
  {
   "cell_type": "code",
   "execution_count": null,
   "id": "6981c3bb",
   "metadata": {},
   "outputs": [],
   "source": [
    "Ans : In regular expression, * Represents zero or more occurances of the preceeding group, whereas + represents one or \n",
    "more occurances of the preceeding group"
   ]
  },
  {
   "cell_type": "code",
   "execution_count": 12,
   "id": "34ca55cb",
   "metadata": {},
   "outputs": [
    {
     "name": "stdout",
     "output_type": "stream",
     "text": [
      "<re.Match object; span=(0, 6), match='Batman'>\n",
      "None\n"
     ]
    }
   ],
   "source": [
    "import re\n",
    "match_1 = re.search(\"Bat(wo)*man\",\"Batman returns\")\n",
    "print(match_1)\n",
    "match_2 = re.search(\"Bat(wo)+man\",\"Batman returns\")\n",
    "print(match_2)"
   ]
  },
  {
   "cell_type": "code",
   "execution_count": null,
   "id": "f3bbc8dc",
   "metadata": {},
   "outputs": [],
   "source": [
    "11. What is the difference between {4} and {4,5} in regular expression?"
   ]
  },
  {
   "cell_type": "code",
   "execution_count": null,
   "id": "4a04c969",
   "metadata": {},
   "outputs": [],
   "source": [
    "Ans : {4} means that its preceeding group should repeat 4 times. where as {4,5} means that its preceeding group should\n",
    "repeat minimum 4 times and maximum 5 times inclusively"
   ]
  },
  {
   "cell_type": "code",
   "execution_count": 13,
   "id": "03a9fe18",
   "metadata": {},
   "outputs": [
    {
     "name": "stdout",
     "output_type": "stream",
     "text": [
      "HaHaHa\n",
      "None\n"
     ]
    }
   ],
   "source": [
    "import re \n",
    "haRegex = re.compile(r'(Ha){3}')\n",
    "mo1 = haRegex.search('HaHaHa')\n",
    "mo2 = haRegex.search('Ha')\n",
    "print(mo1.group())\n",
    "print(mo2)"
   ]
  },
  {
   "cell_type": "code",
   "execution_count": null,
   "id": "4ee16f0f",
   "metadata": {},
   "outputs": [],
   "source": [
    "12. What do you mean by the \\d, \\w, and \\s shorthand character classes signify in regular\n",
    "expressions?"
   ]
  },
  {
   "cell_type": "code",
   "execution_count": null,
   "id": "3e1d8cdf",
   "metadata": {},
   "outputs": [],
   "source": [
    "Ans : \\d,\\w\\s are special sequences in regular expression in python:\n",
    "\\w - Matches a word character equivlaent to [a-zA-Z0-9]\n",
    "\\d - Matches a digit character equivlaent to [0-9]\n",
    "\\s - Matches whitespace character (space,tab,newline,etc.)"
   ]
  },
  {
   "cell_type": "code",
   "execution_count": null,
   "id": "4559dc2a",
   "metadata": {},
   "outputs": [],
   "source": [
    "13. What do means by \\D, \\W, and \\S shorthand character classes signify in regular expressions?"
   ]
  },
  {
   "cell_type": "code",
   "execution_count": null,
   "id": "3e639adb",
   "metadata": {},
   "outputs": [],
   "source": [
    "Ans : \\D, \\W, and \\S are special sequences i regular expression in python :\n",
    "\n",
    "1 - \\W - Matches any non-alphanumeric character equivalent to[^a-zA-Z0-9_]\n",
    "2 - \\D - Matches any non-digit character, this is equivalent to the set class[^0-9] \n",
    "3 - \\S - Matches any non-whitespace character"
   ]
  },
  {
   "cell_type": "code",
   "execution_count": null,
   "id": "85986901",
   "metadata": {},
   "outputs": [],
   "source": [
    "14. What is the difference between .*? and .*?"
   ]
  },
  {
   "cell_type": "code",
   "execution_count": null,
   "id": "e3330313",
   "metadata": {},
   "outputs": [],
   "source": [
    "Ans : .* is a greedy mode, which returns the longest string that meets the condition. Whereas .*? is a non greedy mode\n",
    "which returns the shortest string that meets the condition."
   ]
  },
  {
   "cell_type": "code",
   "execution_count": null,
   "id": "11767c87",
   "metadata": {},
   "outputs": [],
   "source": [
    "15. What is the syntax for matching both numbers and lowercase letters with a character class?"
   ]
  },
  {
   "cell_type": "code",
   "execution_count": null,
   "id": "b2cb757d",
   "metadata": {},
   "outputs": [],
   "source": [
    "Ans : The Syntax is Either [a-z0-9] or [0-9a-z]"
   ]
  },
  {
   "cell_type": "code",
   "execution_count": null,
   "id": "70c94cd0",
   "metadata": {},
   "outputs": [],
   "source": [
    "16. What is the procedure for making a normal expression in regax case insensitive?"
   ]
  },
  {
   "cell_type": "code",
   "execution_count": null,
   "id": "8d0d30af",
   "metadata": {},
   "outputs": [],
   "source": [
    "Ans : We can pass re.IGNORECASE as a flag to make a normal expression case insensitive"
   ]
  },
  {
   "cell_type": "code",
   "execution_count": null,
   "id": "363c1e29",
   "metadata": {},
   "outputs": [],
   "source": [
    "17. What does the . character normally match? What does it match if re.DOTALL is passed as 2nd\n",
    "argument in re.compile()?"
   ]
  },
  {
   "cell_type": "code",
   "execution_count": null,
   "id": "cdf9245b",
   "metadata": {},
   "outputs": [],
   "source": [
    "Ans : Dot . character matches everything in input except newline character. By passing re.DOTALL as a flag to re.compile ()\n",
    "you can make the dot character match all character including the newline character."
   ]
  },
  {
   "cell_type": "code",
   "execution_count": null,
   "id": "4b96fb1b",
   "metadata": {},
   "outputs": [],
   "source": [
    "18. If numReg = re.compile(r'\\d+'), what will numRegex.sub('X', '11 drummers, 10 pipers, five rings, 4 hen') return?"
   ]
  },
  {
   "cell_type": "code",
   "execution_count": 14,
   "id": "d3a38ac4",
   "metadata": {},
   "outputs": [
    {
     "data": {
      "text/plain": [
       "'X drumers, X pipers, five rings, X hen'"
      ]
     },
     "execution_count": 14,
     "metadata": {},
     "output_type": "execute_result"
    }
   ],
   "source": [
    "import re\n",
    "numReg = re.compile(r'\\d+')\n",
    "numReg.sub('X', '11 drumers, 10 pipers, five rings, 4 hen')"
   ]
  },
  {
   "cell_type": "code",
   "execution_count": null,
   "id": "b1153302",
   "metadata": {},
   "outputs": [],
   "source": [
    "19. What does passing re.VERBOSE as the 2nd argument to re.compile() allow to do?"
   ]
  },
  {
   "cell_type": "code",
   "execution_count": null,
   "id": "86a7bcf0",
   "metadata": {},
   "outputs": [],
   "source": [
    "Ans : re.VERBOSE will allow to add whitespace and comments to string passed to re.compile()"
   ]
  },
  {
   "cell_type": "code",
   "execution_count": 15,
   "id": "b3c38299",
   "metadata": {},
   "outputs": [],
   "source": [
    "#without using VERBOSE\n",
    "regex_email = re.compile(r'^([a-z0-9_\\.-]+)@([0-9a-z\\.-]+)\\.([a-z\\.]{2,6})$', re.IGNORECASE)\n",
    "\n",
    "# Using VERBOSE\n",
    "regex_email = re.compile(r\"\"\"\n",
    "                             ^([a-z0-9_\\.-]+)\n",
    "                             @\n",
    "                             ([0-9a-z\\.-]+)\n",
    "                             \\.\n",
    "                             ([a-z]{2,6})$\n",
    "                             \"\"\",re.VERBOSE | re.IGNORECASE)"
   ]
  },
  {
   "cell_type": "code",
   "execution_count": null,
   "id": "048726b6",
   "metadata": {},
   "outputs": [],
   "source": [
    "20. How would you write a regex that match a number with comma for every three digits? It must\n",
    "match the given following:"
   ]
  },
  {
   "cell_type": "code",
   "execution_count": null,
   "id": "86a44dbe",
   "metadata": {},
   "outputs": [],
   "source": [
    "'42','1,234','6,368,745' but not the following '12,34,567' (which has only two digit between the commas)\n",
    "'1234' (which lacks of commas)"
   ]
  },
  {
   "cell_type": "code",
   "execution_count": 19,
   "id": "e2355e26",
   "metadata": {},
   "outputs": [
    {
     "name": "stdout",
     "output_type": "stream",
     "text": [
      "Output : 42 <re.Match object; span=(0, 2), match='42'>\n",
      "Output : 1,234 <re.Match object; span=(0, 5), match='1,234'>\n",
      "Output : 6,368,745 <re.Match object; span=(0, 9), match='6,368,745'>\n",
      "Output : 12,34,567 None\n",
      "Output : 1234 None\n"
     ]
    }
   ],
   "source": [
    "import re\n",
    "pattern = r'^\\d{1,3}(,\\d{3})*$'\n",
    "pagex = re.compile(pattern)\n",
    "for ele in ['42','1,234','6,368,745','12,34,567','1234']:\n",
    "    print(\"Output :\" ,ele , pagex.search(ele))"
   ]
  },
  {
   "cell_type": "code",
   "execution_count": null,
   "id": "611ec691",
   "metadata": {},
   "outputs": [],
   "source": [
    "21. How would you write a regex that matches the full name of someone whose last name is\n",
    "Watanabe? You can assume that the first name that comes before it will always be one word that\n",
    "begins with a capital letter. The regex must match the following:\n",
    "'Haruto Watanabe'\n",
    "'Alice Watanabe'\n",
    "'RoboCop Watanabe'\n",
    "but not the following:\n",
    "'haruto Watanabe' (where the first name is not capitalized)\n",
    "'Mr. Watanabe'(where the preceding word has a nonletter character)\n",
    "'Watanabe' (which has no first name)\n",
    "'Haruto watanabe' (where Watanabe is not capitalized)"
   ]
  },
  {
   "cell_type": "code",
   "execution_count": null,
   "id": "41f92be6",
   "metadata": {},
   "outputs": [],
   "source": [
    "pattern = r'[A-Z]{1}[a-z]*\\sWatanabe'"
   ]
  },
  {
   "cell_type": "code",
   "execution_count": 26,
   "id": "8ff55bb7",
   "metadata": {},
   "outputs": [
    {
     "name": "stdout",
     "output_type": "stream",
     "text": [
      "Output :  Haruto Watanabe <re.Match object; span=(0, 15), match='Haruto Watanabe'>\n",
      "Output :  Alice Watanabe <re.Match object; span=(0, 14), match='Alice Watanabe'>\n",
      "Output :  RobCop Watanabe <re.Match object; span=(3, 15), match='Cop Watanabe'>\n",
      "Output :  haruto Watanabe None\n",
      "Output :  Mr. Watanabe None\n",
      "Output :  Watanabe None\n",
      "Output :  Haruto watanabe None\n"
     ]
    }
   ],
   "source": [
    "import re \n",
    "pattern = r'[A-Z]{1}[a-z]*\\sWatanabe'\n",
    "namex = re.compile(pattern)\n",
    "for name in ['Haruto Watanabe','Alice Watanabe','RobCop Watanabe','haruto Watanabe','Mr. Watanabe','Watanabe','Haruto watanabe']:\n",
    "    print('Output : ',name, namex.search(name))"
   ]
  },
  {
   "cell_type": "code",
   "execution_count": null,
   "id": "f7846aae",
   "metadata": {},
   "outputs": [],
   "source": []
  }
 ],
 "metadata": {
  "kernelspec": {
   "display_name": "Python 3 (ipykernel)",
   "language": "python",
   "name": "python3"
  },
  "language_info": {
   "codemirror_mode": {
    "name": "ipython",
    "version": 3
   },
   "file_extension": ".py",
   "mimetype": "text/x-python",
   "name": "python",
   "nbconvert_exporter": "python",
   "pygments_lexer": "ipython3",
   "version": "3.9.12"
  }
 },
 "nbformat": 4,
 "nbformat_minor": 5
}
