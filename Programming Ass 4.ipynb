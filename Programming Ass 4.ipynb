{
 "cells": [
  {
   "cell_type": "code",
   "execution_count": null,
   "id": "b07186a8",
   "metadata": {},
   "outputs": [],
   "source": [
    "1. Write a Python Program to Find the Factorial of a Number?"
   ]
  },
  {
   "cell_type": "code",
   "execution_count": 1,
   "id": "e0384147",
   "metadata": {},
   "outputs": [
    {
     "name": "stdout",
     "output_type": "stream",
     "text": [
      "Enter a number: 9\n",
      "The Factorial od 9 is 362880\n"
     ]
    }
   ],
   "source": [
    "def factorial(num) :\n",
    "    if (num < 1) :\n",
    "        return 1\n",
    "    else :\n",
    "        return num*factorial(num-1)\n",
    "num = int(input('Enter a number: '))\n",
    "value = factorial(num)\n",
    "print(f'The Factorial od {num} is {value}')"
   ]
  },
  {
   "cell_type": "code",
   "execution_count": null,
   "id": "aa274a30",
   "metadata": {},
   "outputs": [],
   "source": [
    "2. Write a Python Program to Display the multiplication Table?"
   ]
  },
  {
   "cell_type": "code",
   "execution_count": 3,
   "id": "a771acf2",
   "metadata": {},
   "outputs": [
    {
     "name": "stdout",
     "output_type": "stream",
     "text": [
      "Enter a number: 13\n",
      "Enter no of entries: 10\n",
      "13 X 1 = 13\n",
      "13 X 2 = 26\n",
      "13 X 3 = 39\n",
      "13 X 4 = 52\n",
      "13 X 5 = 65\n",
      "13 X 6 = 78\n",
      "13 X 7 = 91\n",
      "13 X 8 = 104\n",
      "13 X 9 = 117\n",
      "13 X 10 = 130\n"
     ]
    }
   ],
   "source": [
    "def generateTable(base,entries) :\n",
    "    for x in range(1,entries+1) :\n",
    "        print(f'{base} X {x} = {base*x}')\n",
    "        \n",
    "num = int(input('Enter a number: '))\n",
    "values = int(input('Enter no of entries: '))\n",
    "generateTable(num,values)"
   ]
  },
  {
   "cell_type": "code",
   "execution_count": null,
   "id": "95de57c1",
   "metadata": {},
   "outputs": [],
   "source": [
    "3. Write a Python Program to Print the Fibonacci sequence?"
   ]
  },
  {
   "cell_type": "code",
   "execution_count": 4,
   "id": "cdf3ee1e",
   "metadata": {},
   "outputs": [
    {
     "name": "stdout",
     "output_type": "stream",
     "text": [
      "Enter the no of fbonacci sequences you want? 9\n",
      "The First 9 fibonacci series are:  [0, 1, 1, 2, 3, 5, 8, 13, 21]\n"
     ]
    }
   ],
   "source": [
    "s_count = int(input('Enter the no of fbonacci sequences you want? '))\n",
    "initial_list = [0,1]\n",
    "if s_count < 0 :\n",
    "    print('Fibonacci Numbers are not available for Negative Numbers')\n",
    "elif s_count<= 2 and s_count >= 0 :\n",
    "    print(initial_list)\n",
    "else :\n",
    "    for ins in range(s_count) :\n",
    "        if ins >= 2 :\n",
    "            initial_list.append(initial_list[ins-1]+initial_list[ins-2])\n",
    "    print(f'The First {s_count} fibonacci series are: ',initial_list)"
   ]
  },
  {
   "cell_type": "code",
   "execution_count": null,
   "id": "70f9b831",
   "metadata": {},
   "outputs": [],
   "source": [
    "4. Write a Python Program to Check Armstrong Number?"
   ]
  },
  {
   "cell_type": "code",
   "execution_count": 5,
   "id": "8c1cde55",
   "metadata": {},
   "outputs": [
    {
     "name": "stdout",
     "output_type": "stream",
     "text": [
      "Enter a number: 5\n",
      "5 is a Armstrong Number\n",
      "Enter a number: 100\n",
      "100 is a Armstrong Number\n",
      "Enter a number: 51\n",
      "51 is a Armstrong Number\n"
     ]
    }
   ],
   "source": [
    "def checkArmstrongNumber() :\n",
    "    in_num = input('Enter a number: ')\n",
    "    sum = 0\n",
    "    for char in range(len(in_num)) :\n",
    "        sum = sum + pow(int(in_num[char]),3)\n",
    "    if sum == int(in_num) :\n",
    "        print(f'{in_num} is a Armstrong Number')\n",
    "    else :\n",
    "        print(f'{in_num} is a Armstrong Number')\n",
    "        \n",
    "for x in range(3) :\n",
    "    checkArmstrongNumber()"
   ]
  },
  {
   "cell_type": "code",
   "execution_count": null,
   "id": "ff1b56e3",
   "metadata": {},
   "outputs": [],
   "source": [
    "5. Write a Python Program to Find Armstrong Number in an Interval?"
   ]
  },
  {
   "cell_type": "code",
   "execution_count": 9,
   "id": "489b9664",
   "metadata": {},
   "outputs": [
    {
     "name": "stdout",
     "output_type": "stream",
     "text": [
      "Enter the start of the Interval: 1\n",
      "Enter teh End of the Interval: 5411\n",
      "The Armstrong numbers between 1 and 5411 are [1, 153, 370, 371, 407]\n"
     ]
    }
   ],
   "source": [
    "def checkArmstrongNumber(in_num, storage) :\n",
    "    sum = 0 \n",
    "    for char in range(len(in_num)) :\n",
    "        sum = sum + pow(int(in_num[char]),3)\n",
    "    if sum == int(in_num) :\n",
    "        storage.append(int(in_num))\n",
    "        \n",
    "start_interval = int(input('Enter the start of the Interval: '))\n",
    "end_interval = int(input('Enter teh End of the Interval: '))\n",
    "list_of_armstrong = []\n",
    "\n",
    "if start_interval > end_interval :\n",
    "    print('Start Interval Cannot be greater than End Interval')\n",
    "    \n",
    "else :\n",
    "    for number in range(start_interval, end_interval+1) :\n",
    "        checkArmstrongNumber(str(number),list_of_armstrong)\n",
    "    print(f'The Armstrong numbers between {start_interval} and {end_interval} are {list_of_armstrong}')"
   ]
  },
  {
   "cell_type": "code",
   "execution_count": null,
   "id": "7a02fb01",
   "metadata": {},
   "outputs": [],
   "source": [
    "6. Write a Python Program to Find the Sum of Natural Numbers?  "
   ]
  },
  {
   "cell_type": "code",
   "execution_count": 10,
   "id": "37637365",
   "metadata": {},
   "outputs": [
    {
     "name": "stdout",
     "output_type": "stream",
     "text": [
      "Enter a number: 100\n",
      "Sum of 100 natural numbers is 5050.0\n"
     ]
    }
   ],
   "source": [
    "def sums(num) :\n",
    "    sum = num* ((num+1)/2)\n",
    "    print(f'Sum of {num} natural numbers is {sum}')\n",
    "    \n",
    "num = int(input(\"Enter a number: \"))\n",
    "sums(num)"
   ]
  },
  {
   "cell_type": "code",
   "execution_count": null,
   "id": "623c8614",
   "metadata": {},
   "outputs": [],
   "source": []
  },
  {
   "cell_type": "code",
   "execution_count": null,
   "id": "874b41f4",
   "metadata": {},
   "outputs": [],
   "source": []
  },
  {
   "cell_type": "code",
   "execution_count": null,
   "id": "40320b76",
   "metadata": {},
   "outputs": [],
   "source": []
  },
  {
   "cell_type": "code",
   "execution_count": null,
   "id": "93282ef1",
   "metadata": {},
   "outputs": [],
   "source": []
  },
  {
   "cell_type": "code",
   "execution_count": null,
   "id": "9b6bc477",
   "metadata": {},
   "outputs": [],
   "source": []
  },
  {
   "cell_type": "code",
   "execution_count": null,
   "id": "3c4aa4b5",
   "metadata": {},
   "outputs": [],
   "source": []
  }
 ],
 "metadata": {
  "kernelspec": {
   "display_name": "Python 3 (ipykernel)",
   "language": "python",
   "name": "python3"
  },
  "language_info": {
   "codemirror_mode": {
    "name": "ipython",
    "version": 3
   },
   "file_extension": ".py",
   "mimetype": "text/x-python",
   "name": "python",
   "nbconvert_exporter": "python",
   "pygments_lexer": "ipython3",
   "version": "3.9.12"
  }
 },
 "nbformat": 4,
 "nbformat_minor": 5
}
