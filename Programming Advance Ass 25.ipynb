{
 "cells": [
  {
   "cell_type": "code",
   "execution_count": null,
   "id": "2667e5ae",
   "metadata": {},
   "outputs": [],
   "source": [
    "1. Write four functions that directly mutate a list:\n",
    "repeat(lst, n): Repeat lst n times.\n",
    "add(lst, x): Adds x to the end of the lst.\n",
    "remove(lst, m, n): Removes all elements between indices m and n inclusive in lst.\n",
    "concat(lst, x): concatenates lst with x (another list).\n",
    "Examples:\n",
    "lst = [1, 2, 3, 4]\n",
    "repeat(lst, 3) ➞ [1, 2, 3, 4, 1, 2, 3, 4, 1, 2, 3, 4]\n",
    "add(lst, 1) ➞ [1, 2, 3, 4, 1, 2, 3, 4, 1, 2, 3, 4, 1]\n",
    "remove(lst, 1, 12) ➞ [1]\n",
    "concat(lst, [3, 4]) ➞ [1, 3, 4]"
   ]
  },
  {
   "cell_type": "code",
   "execution_count": null,
   "id": "f6044245",
   "metadata": {},
   "outputs": [],
   "source": [
    "lst = [1, 2, 3, 4]\n",
    "\n",
    "def repeat(in_num):\n",
    "    global lst\n",
    "    lst = lst*in_num\n",
    "    return lst\n",
    "\n",
    "def add(in_num):\n",
    "    global lst\n",
    "    lst.append(in_num)\n",
    "    return lst\n",
    "\n",
    "def remove(start,end):\n",
    "    global lst\n",
    "    for ele in lst[start:end+1]:\n",
    "        lst.remove(ele)\n",
    "    return lst\n",
    "\n",
    "def concat(in_list):\n",
    "    global lst\n",
    "    lst = lst+in_list\n",
    "    return lst\n",
    "\n",
    "print(f'repeat(3) ➞ {repeat(3)}')\n",
    "print(f'add(1) ➞ {add(1)}')\n",
    "print(f'remove(lst, 1, 12) ➞ {remove(1,12)}')\n",
    "print(f'concat([3, 4]) ➞ {concat([3, 4])}')"
   ]
  },
  {
   "cell_type": "code",
   "execution_count": null,
   "id": "a162d227",
   "metadata": {},
   "outputs": [],
   "source": [
    "2. The classic game of Mastermind is played on a tray on which the Mastermind conceals a code and the Guesser has 10 tries to guess it. The code is a sequence of 4 (or 6, sometimes more) pegs of different colors. Each guess is a corresponding sequence of 4 (or more) pegs of different colors. A guess is \"correct\" when the color of every peg in the guess exactly matches the corresponding peg in the Mastermind's code.\n",
    "After each guess by the Guesser, the Mastermind will give a score comprising black & white pegs, not arranged in any order:\n",
    "\n",
    "Black peg == guess peg matches the color of a code peg in the same position.\n",
    "White peg == guess peg matches the color of a code peg in another position.\n",
    "Create a function that takes two strings, code and guess as arguments, and returns the score in a dictionary.\n",
    "\n",
    "The code and guess are strings of numeric digits\n",
    "The color of the pegs are represented by numeric digits\n",
    "no \"peg\" may be double-scored\n",
    "Examples:\n",
    "guess_score(\"1423\", \"5678\") ➞ {\"black\": 0, \"white\": 0}\n",
    "guess_score(\"1423\", \"2222\") ➞ {\"black\": 1, \"white\": 0}\n",
    "guess_score(\"1423\", \"1234\") ➞ {\"black\": 1, \"white\": 3}\n",
    "guess_score(\"1423\", \"2211\") ➞ {\"black\": 0, \"white\": 2}"
   ]
  },
  {
   "cell_type": "code",
   "execution_count": null,
   "id": "6624128d",
   "metadata": {},
   "outputs": [],
   "source": [
    "def guess_score(code,guess):\n",
    "    output = {\"black\":0,\"white\":0}\n",
    "    for ele in range(len(code)): \n",
    "        if code[ele] == guess[ele]:\n",
    "            output['black'] += 1\n",
    "        elif code[ele] in guess and ele != guess.index(code[ele]):\n",
    "            output['white'] += 1\n",
    "    print(f'guess_score{code,guess} ➞ {output}')\n",
    "        \n",
    "guess_score(\"1423\", \"5678\")\n",
    "guess_score(\"1423\", \"2222\")\n",
    "guess_score(\"1423\", \"1234\") \n",
    "guess_score(\"1423\", \"2211\")"
   ]
  },
  {
   "cell_type": "code",
   "execution_count": null,
   "id": "fd995f20",
   "metadata": {},
   "outputs": [],
   "source": [
    "3. Create a function that takes a list lst and a number N and returns a list of two integers from lst whose product \n",
    "equals N.\n",
    "Examples:\n",
    "two_product([1, 2, -1, 4, 5], 20) ➞ [4, 5]\n",
    "two_product([1, 2, 3, 4, 5], 10) ➞ [2, 5]\n",
    "two_product([100, 12, 4, 1, 2], 15) ➞ None"
   ]
  },
  {
   "cell_type": "code",
   "execution_count": null,
   "id": "ab93dd2e",
   "metadata": {},
   "outputs": [],
   "source": [
    "def two_product(in_list,in_num):\n",
    "    output = None\n",
    "    for num_1 in in_list:\n",
    "        for num_2 in in_list:\n",
    "            if num_1*num_2 == in_num:\n",
    "                output = sorted([num_1,num_2])\n",
    "                break\n",
    "    print(f'two_product({in_list}) ➞ {output}')\n",
    "    \n",
    "two_product([1, 2, -1, 4, 5], 20)\n",
    "two_product([1, 2, 3, 4, 5], 10)\n",
    "two_product([100, 12, 4, 1, 2], 15)"
   ]
  },
  {
   "cell_type": "code",
   "execution_count": null,
   "id": "6267da7c",
   "metadata": {},
   "outputs": [],
   "source": []
  },
  {
   "cell_type": "code",
   "execution_count": null,
   "id": "7b1a1c4f",
   "metadata": {},
   "outputs": [],
   "source": []
  },
  {
   "cell_type": "code",
   "execution_count": null,
   "id": "2b5e0ee1",
   "metadata": {},
   "outputs": [],
   "source": []
  },
  {
   "cell_type": "code",
   "execution_count": null,
   "id": "26f44b88",
   "metadata": {},
   "outputs": [],
   "source": []
  },
  {
   "cell_type": "code",
   "execution_count": null,
   "id": "9c8b5f43",
   "metadata": {},
   "outputs": [],
   "source": []
  },
  {
   "cell_type": "code",
   "execution_count": null,
   "id": "a36758e9",
   "metadata": {},
   "outputs": [],
   "source": []
  },
  {
   "cell_type": "code",
   "execution_count": null,
   "id": "e1437efc",
   "metadata": {},
   "outputs": [],
   "source": []
  },
  {
   "cell_type": "code",
   "execution_count": null,
   "id": "9722aa84",
   "metadata": {},
   "outputs": [],
   "source": []
  },
  {
   "cell_type": "code",
   "execution_count": null,
   "id": "5df864ca",
   "metadata": {},
   "outputs": [],
   "source": []
  }
 ],
 "metadata": {
  "kernelspec": {
   "display_name": "Python 3 (ipykernel)",
   "language": "python",
   "name": "python3"
  },
  "language_info": {
   "codemirror_mode": {
    "name": "ipython",
    "version": 3
   },
   "file_extension": ".py",
   "mimetype": "text/x-python",
   "name": "python",
   "nbconvert_exporter": "python",
   "pygments_lexer": "ipython3",
   "version": "3.9.12"
  }
 },
 "nbformat": 4,
 "nbformat_minor": 5
}
