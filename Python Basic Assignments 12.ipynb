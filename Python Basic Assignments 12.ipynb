{
 "cells": [
  {
   "cell_type": "code",
   "execution_count": null,
   "id": "ab002afd",
   "metadata": {},
   "outputs": [],
   "source": [
    "1. In what modes should the PdfFileReader() and PdfFileWriter() File objects will be opened?"
   ]
  },
  {
   "cell_type": "code",
   "execution_count": null,
   "id": "88f1fe01",
   "metadata": {},
   "outputs": [],
   "source": [
    "Ans : for PdfFileReader() file object should be opened in rb read binary mode, Whereas for PdfFileWriter() file objets \n",
    "should be opened in wb write binary mode"
   ]
  },
  {
   "cell_type": "code",
   "execution_count": null,
   "id": "f25da5a7",
   "metadata": {},
   "outputs": [],
   "source": [
    "2. From a PdfFileReader object, how do you get a Page object for page 5?"
   ]
  },
  {
   "cell_type": "code",
   "execution_count": null,
   "id": "3039b508",
   "metadata": {},
   "outputs": [],
   "source": [
    "Ans : PdfFileReader class provides a method called getPage(page_no) to get a page object"
   ]
  },
  {
   "cell_type": "code",
   "execution_count": null,
   "id": "3babb556",
   "metadata": {},
   "outputs": [],
   "source": [
    "3. What PdfFileReader variable stores the number of pages in the PDF document?"
   ]
  },
  {
   "cell_type": "code",
   "execution_count": null,
   "id": "a9b596aa",
   "metadata": {},
   "outputs": [],
   "source": [
    "Ans : getNumPages() method of PdfFileReader class stores the no pages in PDF document"
   ]
  },
  {
   "cell_type": "code",
   "execution_count": null,
   "id": "e6a6680c",
   "metadata": {},
   "outputs": [],
   "source": [
    "4. If a PdfFileReader object’s PDF is encrypted with the password swordfish, what must you do\n",
    "before you can obtain Page objects from it?"
   ]
  },
  {
   "cell_type": "code",
   "execution_count": null,
   "id": "4f5bf227",
   "metadata": {},
   "outputs": [],
   "source": [
    "Ans : first read the PdfFileReader Class. PdfFileReader class provides a attribute called isEncrypted to check whether\n",
    "a pdf is encrypted or not the method return true if pdf is encrypted and viceversa.If pdf is encrpyted use the decrypt use\n",
    "method provided by PdfFileReader class first then try to read the contents/pages of the pdf,else PyPDF2 will raise the\n",
    "following error PyPDF2.utils.PdfReadError: file has not been decrypted"
   ]
  },
  {
   "cell_type": "code",
   "execution_count": null,
   "id": "e4241ad3",
   "metadata": {},
   "outputs": [],
   "source": [
    "5. What methods do you use to rotate a page?"
   ]
  },
  {
   "cell_type": "code",
   "execution_count": null,
   "id": "e80918b4",
   "metadata": {},
   "outputs": [],
   "source": [
    "Ans : PyPDF2 Package provides 2 methods to rotate a page\n",
    "rotateClockWise() -> For Clockwise rotation\n",
    "rotateCounterClockwise() -> For Counter Clockwise rotation"
   ]
  },
  {
   "cell_type": "code",
   "execution_count": null,
   "id": "fa0bed7f",
   "metadata": {},
   "outputs": [],
   "source": [
    "6. What is the difference between a Run object and a Paragraph object?"
   ]
  },
  {
   "cell_type": "code",
   "execution_count": null,
   "id": "930c6961",
   "metadata": {},
   "outputs": [],
   "source": [
    "Ans : The structure of document is represented by three different by three data types python-Docx. At the highest level\n",
    "a Document object represents the entire document. The Document object contains a lsit of Paragraph objects for the \n",
    "paragraphs in the document.Each paragraph objects contains a list of one or more Run objects\n",
    "\n",
    "The text in a word document is more than just a string. It has font size color and other styling information associated\n",
    "with it. A style in word is a collection of these attributes. A Run objects is a contiguous run of text with the same style\n",
    "A new Run object is needed whenever the text style changes."
   ]
  },
  {
   "cell_type": "code",
   "execution_count": null,
   "id": "b5eafad9",
   "metadata": {},
   "outputs": [],
   "source": [
    "7. How do you obtain a list of Paragraph objects for a Document object that’s stored in a variable\n",
    "named doc?"
   ]
  },
  {
   "cell_type": "code",
   "execution_count": null,
   "id": "bb514f67",
   "metadata": {},
   "outputs": [],
   "source": [
    "for docx import Document\n",
    "doc = Document(\"sample_file_.docx\")\n",
    "print(doc.paragraphs)\n",
    "for paragraph in doc.paragraphs :\n",
    "    print(paragraph.text)\n"
   ]
  },
  {
   "cell_type": "code",
   "execution_count": null,
   "id": "d963e5c1",
   "metadata": {},
   "outputs": [],
   "source": [
    "8. What type of object has bold, underline, italic, strike, and outline variables?"
   ]
  },
  {
   "cell_type": "code",
   "execution_count": null,
   "id": "bcff3cef",
   "metadata": {},
   "outputs": [],
   "source": [
    "Ans : Run object has hold,underline, italic, strike, and outline variables. The text in a word document is more than\n",
    "just a string. It has font size.color and other styling information associated with it\n",
    "\n",
    "A style in word is a collection of these attributes. A Run object is a cotiguous run of text with the same style. A new\n",
    "Run object is needed whenever the text style changes"
   ]
  },
  {
   "cell_type": "code",
   "execution_count": null,
   "id": "79515d12",
   "metadata": {},
   "outputs": [],
   "source": [
    "9. What is the difference between False, True, and None for the bold variable?"
   ]
  },
  {
   "cell_type": "code",
   "execution_count": null,
   "id": "d6b45345",
   "metadata": {},
   "outputs": [],
   "source": [
    "bold = True # style set to bold\n",
    "bold = False # style not set to Bold\n",
    "bold = None # Style is not Applicable"
   ]
  },
  {
   "cell_type": "code",
   "execution_count": null,
   "id": "f85b3077",
   "metadata": {},
   "outputs": [],
   "source": [
    "10. How do you create a Document object for a new Word document?"
   ]
  },
  {
   "cell_type": "code",
   "execution_count": null,
   "id": "3eda5c9d",
   "metadata": {},
   "outputs": [],
   "source": [
    "from docx import Document\n",
    "document = Document()\n",
    "document.add_paragraph(\"iNeuron Full Stack DataScience Course\")\n",
    "document.save('mydocument.docx')"
   ]
  },
  {
   "cell_type": "code",
   "execution_count": null,
   "id": "4bc8010f",
   "metadata": {},
   "outputs": [],
   "source": [
    "11. How do you add a paragraph with the text &#39;Hello, there!&#39; to a Document object stored in a\n",
    "variable named doc?"
   ]
  },
  {
   "cell_type": "code",
   "execution_count": null,
   "id": "f3ad009d",
   "metadata": {},
   "outputs": [],
   "source": [
    "from docx import Document\n",
    "doc = Document()\n",
    "doc.add_paragraph('Hello, there!')\n",
    "doc.save('hello.docx')"
   ]
  },
  {
   "cell_type": "code",
   "execution_count": null,
   "id": "a000579a",
   "metadata": {},
   "outputs": [],
   "source": [
    "12. What integers represent the levels of headings available in Word documents?"
   ]
  },
  {
   "cell_type": "code",
   "execution_count": null,
   "id": "54c7b61f",
   "metadata": {},
   "outputs": [],
   "source": [
    "Ans : The levels for a heading in a word document can be specified by using the level attribute inside the add_heading\n",
    "method. There are total of 5 levels starting for 0 to 4, where level 0 makes a headline with the horizontal line below the\n",
    "text, whereas the heading"
   ]
  },
  {
   "cell_type": "code",
   "execution_count": null,
   "id": "e0bd9474",
   "metadata": {},
   "outputs": [],
   "source": []
  },
  {
   "cell_type": "code",
   "execution_count": null,
   "id": "0b0c132f",
   "metadata": {},
   "outputs": [],
   "source": []
  }
 ],
 "metadata": {
  "kernelspec": {
   "display_name": "Python 3 (ipykernel)",
   "language": "python",
   "name": "python3"
  },
  "language_info": {
   "codemirror_mode": {
    "name": "ipython",
    "version": 3
   },
   "file_extension": ".py",
   "mimetype": "text/x-python",
   "name": "python",
   "nbconvert_exporter": "python",
   "pygments_lexer": "ipython3",
   "version": "3.9.12"
  }
 },
 "nbformat": 4,
 "nbformat_minor": 5
}
