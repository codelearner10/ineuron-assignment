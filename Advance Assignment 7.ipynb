{
 "cells": [
  {
   "cell_type": "code",
   "execution_count": null,
   "id": "2c717e70",
   "metadata": {},
   "outputs": [],
   "source": [
    "Q1. What is the purpose of the try statement?"
   ]
  },
  {
   "cell_type": "code",
   "execution_count": null,
   "id": "9fea8571",
   "metadata": {},
   "outputs": [],
   "source": [
    "try statement is used for exception handling in python it consists of a block of risky statements which might cause an\n",
    "exception during runtime if code with in try blaock raises exception, then the exception will be reverted to the\n",
    "coressponding except block if multiple except block are persent else it will be to the default excpet block. In short try \n",
    "and except in union avoid programs from crashing during runtime due to exception."
   ]
  },
  {
   "cell_type": "code",
   "execution_count": 1,
   "id": "01e04753",
   "metadata": {},
   "outputs": [
    {
     "name": "stdout",
     "output_type": "stream",
     "text": [
      "Division by zero is not Possible\n"
     ]
    }
   ],
   "source": [
    "try :\n",
    "    print(10/0)\n",
    "except ZeroDivisionError :\n",
    "    print('Division by zero is not Possible')"
   ]
  },
  {
   "cell_type": "code",
   "execution_count": null,
   "id": "8e0f2181",
   "metadata": {},
   "outputs": [],
   "source": [
    "Q2. What are the two most popular try statement variations?"
   ]
  },
  {
   "cell_type": "code",
   "execution_count": null,
   "id": "a042cfd4",
   "metadata": {},
   "outputs": [],
   "source": [
    "try,except\n",
    "try,except,finally\n",
    "try,except,finally,else\n",
    "\n",
    "The try block is used to check for exception during runtime i.e. code inside try block will execute completely when there\n",
    "is no error in the program. Wherer as the code inside except block will execute whenever the program encounters some error\n",
    "in the preceeding try block\n",
    "\n",
    "Whereas the code enters the else block if and only if the try clause doesnot raise and exception. The code in the finally \n",
    "block will execute irrespective of exception."
   ]
  },
  {
   "cell_type": "code",
   "execution_count": null,
   "id": "68998f30",
   "metadata": {},
   "outputs": [],
   "source": [
    "Q3. What is the purpose of the raise statement?"
   ]
  },
  {
   "cell_type": "code",
   "execution_count": null,
   "id": "ed896385",
   "metadata": {},
   "outputs": [],
   "source": [
    "raise statement is used to trigger an exception explicitly if an certain codition is not as per requirement of pregrammer\n",
    "raise statement helps in triggering exception as per programming logic."
   ]
  },
  {
   "cell_type": "code",
   "execution_count": null,
   "id": "c8130975",
   "metadata": {},
   "outputs": [],
   "source": [
    "Q4. What does the assert statement do, and what other statement is it like?"
   ]
  },
  {
   "cell_type": "code",
   "execution_count": null,
   "id": "bc680baa",
   "metadata": {},
   "outputs": [],
   "source": [
    "There are few assertion that programmer always want to be true to avoid code failure. this type of requirement is fulfilled\n",
    "bu assert statement. This statement takes a boolean condition output of which is True, Further Program Executes, if output\n",
    "of assert statement is False it raises an Assertion Error"
   ]
  },
  {
   "cell_type": "code",
   "execution_count": 2,
   "id": "9c4608a1",
   "metadata": {},
   "outputs": [
    {
     "ename": "AssertionError",
     "evalue": "this is not valid statement",
     "output_type": "error",
     "traceback": [
      "\u001b[1;31m---------------------------------------------------------------------------\u001b[0m",
      "\u001b[1;31mAssertionError\u001b[0m                            Traceback (most recent call last)",
      "Input \u001b[1;32mIn [2]\u001b[0m, in \u001b[0;36m<cell line: 1>\u001b[1;34m()\u001b[0m\n\u001b[1;32m----> 1\u001b[0m \u001b[38;5;28;01massert\u001b[39;00m(\u001b[38;5;241m2\u001b[39m \u001b[38;5;241m==\u001b[39m \u001b[38;5;241m4\u001b[39m ), \u001b[38;5;124mf\u001b[39m\u001b[38;5;124m'\u001b[39m\u001b[38;5;124mthis is not valid statement\u001b[39m\u001b[38;5;124m'\u001b[39m\n",
      "\u001b[1;31mAssertionError\u001b[0m: this is not valid statement"
     ]
    }
   ],
   "source": [
    "assert(2 == 4 ), f'this is not valid statement'"
   ]
  },
  {
   "cell_type": "code",
   "execution_count": null,
   "id": "80b8b9cf",
   "metadata": {},
   "outputs": [],
   "source": [
    "Q5. What is the purpose of the with/as argument, and what other statement is it like?"
   ]
  },
  {
   "cell_type": "code",
   "execution_count": null,
   "id": "77e357ca",
   "metadata": {},
   "outputs": [],
   "source": [
    "with/as statement smplifies use of file handling i python. When we use a with statement for file reading, there is no need\n",
    "for the programmer to explicitly takecare of activities like resource deallocation and file file closing by using \n",
    "file.close() method. with staement it self ensures proper acquisition and realease of resource this avoids triggering of\n",
    "exception if the file closing is unknowingly frogotten in the code execution"
   ]
  },
  {
   "cell_type": "code",
   "execution_count": null,
   "id": "68677525",
   "metadata": {},
   "outputs": [],
   "source": [
    "with open('sample_file.txt','w') as file :\n",
    "    file.write('Hello World')"
   ]
  }
 ],
 "metadata": {
  "kernelspec": {
   "display_name": "Python 3 (ipykernel)",
   "language": "python",
   "name": "python3"
  },
  "language_info": {
   "codemirror_mode": {
    "name": "ipython",
    "version": 3
   },
   "file_extension": ".py",
   "mimetype": "text/x-python",
   "name": "python",
   "nbconvert_exporter": "python",
   "pygments_lexer": "ipython3",
   "version": "3.9.12"
  }
 },
 "nbformat": 4,
 "nbformat_minor": 5
}
