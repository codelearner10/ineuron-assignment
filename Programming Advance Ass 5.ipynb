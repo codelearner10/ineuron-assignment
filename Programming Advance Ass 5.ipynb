{
 "cells": [
  {
   "cell_type": "code",
   "execution_count": null,
   "id": "1b90077d",
   "metadata": {},
   "outputs": [],
   "source": [
    "1.Create a function that takes a number n (integer greater than zero) as an argument, and returns 2 if n is odd and \n",
    "8 if n is even.\n",
    "You can only use the following arithmetic operators:\n",
    "addition of numbers +, subtraction of numbers -, multiplication of number *, division of number /, and exponentiation **.\n",
    "You are not allowed to use any other methods in this challenge (i.e. no if statements, comparison operators, etc).\n",
    "Examples:\n",
    "f(1) ➞ 2\n",
    "f(2) ➞ 8\n",
    "f(3) ➞ 2"
   ]
  },
  {
   "cell_type": "code",
   "execution_count": null,
   "id": "d5b0c48a",
   "metadata": {},
   "outputs": [],
   "source": [
    "def f(in_num):\n",
    "    output = [8,2]\n",
    "    print(f'f({in_num})➞ {output[in_num&1]}')\n",
    "    \n",
    "f(1)\n",
    "f(2)\n",
    "f(3)"
   ]
  },
  {
   "cell_type": "code",
   "execution_count": null,
   "id": "3610f69f",
   "metadata": {},
   "outputs": [],
   "source": [
    "2.Create a function that returns the majority vote in a list. A majority vote is an element that occurs >\n",
    "N/2 times in a list (where N is the length of the list).\n",
    "Examples:\n",
    "majority_vote([\"A\", \"A\", \"B\"]) ➞ \"A\"\n",
    "majority_vote([\"A\", \"A\", \"A\", \"B\", \"C\", \"A\"]) ➞ \"A\"\n",
    "majority_vote([\"A\", \"B\", \"B\", \"A\", \"C\", \"C\"]) ➞ None"
   ]
  },
  {
   "cell_type": "code",
   "execution_count": null,
   "id": "42283b1f",
   "metadata": {},
   "outputs": [],
   "source": [
    "def majority_vote(in_list):\n",
    "    out_list = None\n",
    "    for ele in set(in_list):\n",
    "        if in_list.count(ele) > (len(in_list)/2):\n",
    "            out_list = ele\n",
    "    print(f'majority_vote({in_list}) ➞ {out_list}')\n",
    "    \n",
    "majority_vote([\"A\", \"A\", \"B\"])\n",
    "majority_vote([\"A\", \"A\", \"A\", \"B\", \"C\", \"A\"])\n",
    "majority_vote([\"A\", \"B\", \"B\", \"A\", \"C\", \"C\"])"
   ]
  },
  {
   "cell_type": "code",
   "execution_count": null,
   "id": "8c115b39",
   "metadata": {},
   "outputs": [],
   "source": [
    "3.Create a function that takes a string txt and censors any word from a given list lst. \n",
    "The text removed must be replaced by the given character char.\n",
    "Examples:\n",
    "censor_string(\"Today is a Wednesday!\", [\"Today\", \"a\"], \"-\") ➞ \"----- is - Wednesday!\"\n",
    "censor_string(\"The cow jumped over the moon.\", [\"cow\", \"over\"], \"*\"), \"The *** jumped **** the moon.\")\n",
    "censor_string(\"Why did the chicken cross the road ?\", [\"Did\", \"chicken\", \"road\"], \"*\") ➞ \n",
    "\"Why *** the ******* cross the ****?\""
   ]
  },
  {
   "cell_type": "code",
   "execution_count": null,
   "id": "f575ae36",
   "metadata": {},
   "outputs": [],
   "source": [
    "def censor_string(in_string_1, in_string_2, rep_char):\n",
    "    out_string = []\n",
    "    for ele in in_string_1.split():\n",
    "        if ele.title() in in_string_2 or ele.lower() in in_string_2 or ele.upper() in in_string_2:\n",
    "            out_string.append(rep_char*len(ele))\n",
    "        else:\n",
    "            out_string.append(ele)\n",
    "    print(f'censor_string({in_string_1}) ➞ {\" \".join(out_string)}')\n",
    "\n",
    "censor_string(\"Today is a Wednesday!\", [\"Today\", \"a\"], \"-\")\n",
    "censor_string(\"The cow jumped over the moon.\", [\"cow\", \"over\"], \"*\")\n",
    "censor_string(\"Why did the chicken cross the road ?\", [\"Did\", \"chicken\", \"road\"], \"*\")"
   ]
  },
  {
   "cell_type": "code",
   "execution_count": null,
   "id": "5c2537f2",
   "metadata": {},
   "outputs": [],
   "source": [
    "4.In mathematics a Polydivisible Number (or magic number) is a number in a given number base with digits abcde... that has the following properties:\n",
    "Its first digit a is not 0.\n",
    "The number formed by its first two digits ab is a multiple of 2.\n",
    "The number formed by its first three digits abc is a multiple of 3.\n",
    "The number formed by its first four digits abcd is a multiple of 4.\n",
    "Create a function which takes an integer n and returns True if the given number is a Polydivisible Number and False otherwise.\n",
    "\n",
    "Examples:\n",
    "is_polydivisible(1232) ➞ True # 1 / 1 = 1 # 12 / 2 = 6 # 123 / 3 = 41 # 1232 / 4 = 308 is_polydivisible(123220 ) \n",
    "➞ False # 1 / 1 = 1 # 12 / 2 = 6 # 123 / 3 = 41 # 1232 / 4 = 308 # 12322 / 5 = 2464.4 \n",
    "# Not a Whole Number # 123220 /6 = 220536.333... # Not a Whole Number"
   ]
  },
  {
   "cell_type": "code",
   "execution_count": null,
   "id": "7ba71301",
   "metadata": {},
   "outputs": [],
   "source": [
    "def is_polydivisible(in_num):\n",
    "    output = False\n",
    "    in_num_temp = str(in_num)\n",
    "    for ele in range(len(in_num_temp)):\n",
    "        if(int(in_num_temp[:ele+1])%(ele+1) == 0):\n",
    "            output = True\n",
    "        else:\n",
    "            output = False\n",
    "            break\n",
    "    print(f'is_polydivisible({in_num}) ➞ {output}')\n",
    "        \n",
    "is_polydivisible(1232)\n",
    "is_polydivisible(123220)"
   ]
  },
  {
   "cell_type": "code",
   "execution_count": null,
   "id": "e10e9261",
   "metadata": {},
   "outputs": [],
   "source": [
    "5.. Create a function that takes a list of numbers and returns the sum of all prime numbers in the list.\n",
    "Examples:\n",
    "sum_primes([1, 2, 3, 4, 5, 6, 7, 8, 9, 10]) ➞ 17\n",
    "sum_primes([2, 3, 4, 11, 20, 50, 71]) ➞ 87\n",
    "sum_primes([]) ➞ None"
   ]
  },
  {
   "cell_type": "code",
   "execution_count": null,
   "id": "6ebd7e94",
   "metadata": {},
   "outputs": [],
   "source": [
    "def sum_primes(in_list):\n",
    "    out_string = []\n",
    "    for ele in in_list:\n",
    "        if ele in [2,3]:\n",
    "            out_string.append(ele)\n",
    "        elif ele in [6*n-1 for n in range(0,ele)] or ele in [6*n+1 for n in range(0,ele)]:\n",
    "            out_string.append(ele)\n",
    "    if 1 in out_string:\n",
    "        out_string.remove(1)\n",
    "    print(f'sum_prices({in_list}) ➞ {sum(out_string) if len(out_string) > 0 else None}')\n",
    "        \n",
    "sum_primes([1, 2, 3, 4, 5, 6, 7, 8, 9, 10])\n",
    "sum_primes([2, 3, 4, 11, 20, 50, 71])\n",
    "sum_primes([])"
   ]
  },
  {
   "cell_type": "code",
   "execution_count": null,
   "id": "5c0ca942",
   "metadata": {},
   "outputs": [],
   "source": []
  },
  {
   "cell_type": "code",
   "execution_count": null,
   "id": "7799e616",
   "metadata": {},
   "outputs": [],
   "source": []
  },
  {
   "cell_type": "code",
   "execution_count": null,
   "id": "9b308115",
   "metadata": {},
   "outputs": [],
   "source": []
  },
  {
   "cell_type": "code",
   "execution_count": null,
   "id": "0c3bf30c",
   "metadata": {},
   "outputs": [],
   "source": []
  },
  {
   "cell_type": "code",
   "execution_count": null,
   "id": "42d7fc76",
   "metadata": {},
   "outputs": [],
   "source": []
  },
  {
   "cell_type": "code",
   "execution_count": null,
   "id": "36a68fb3",
   "metadata": {},
   "outputs": [],
   "source": []
  },
  {
   "cell_type": "code",
   "execution_count": null,
   "id": "d4d834fe",
   "metadata": {},
   "outputs": [],
   "source": []
  },
  {
   "cell_type": "code",
   "execution_count": null,
   "id": "d376dfca",
   "metadata": {},
   "outputs": [],
   "source": []
  },
  {
   "cell_type": "code",
   "execution_count": null,
   "id": "d3edfecf",
   "metadata": {},
   "outputs": [],
   "source": []
  },
  {
   "cell_type": "code",
   "execution_count": null,
   "id": "1641637e",
   "metadata": {},
   "outputs": [],
   "source": []
  },
  {
   "cell_type": "code",
   "execution_count": null,
   "id": "2ae2ca80",
   "metadata": {},
   "outputs": [],
   "source": []
  },
  {
   "cell_type": "code",
   "execution_count": null,
   "id": "7c804a7c",
   "metadata": {},
   "outputs": [],
   "source": []
  },
  {
   "cell_type": "code",
   "execution_count": null,
   "id": "4e7507cc",
   "metadata": {},
   "outputs": [],
   "source": []
  },
  {
   "cell_type": "code",
   "execution_count": null,
   "id": "99b6e0b8",
   "metadata": {},
   "outputs": [],
   "source": []
  },
  {
   "cell_type": "code",
   "execution_count": null,
   "id": "f3cbd459",
   "metadata": {},
   "outputs": [],
   "source": []
  },
  {
   "cell_type": "code",
   "execution_count": null,
   "id": "c710d802",
   "metadata": {},
   "outputs": [],
   "source": []
  },
  {
   "cell_type": "code",
   "execution_count": null,
   "id": "3435ad88",
   "metadata": {},
   "outputs": [],
   "source": []
  },
  {
   "cell_type": "code",
   "execution_count": null,
   "id": "431b7dd4",
   "metadata": {},
   "outputs": [],
   "source": []
  }
 ],
 "metadata": {
  "kernelspec": {
   "display_name": "Python 3 (ipykernel)",
   "language": "python",
   "name": "python3"
  },
  "language_info": {
   "codemirror_mode": {
    "name": "ipython",
    "version": 3
   },
   "file_extension": ".py",
   "mimetype": "text/x-python",
   "name": "python",
   "nbconvert_exporter": "python",
   "pygments_lexer": "ipython3",
   "version": "3.9.12"
  }
 },
 "nbformat": 4,
 "nbformat_minor": 5
}
