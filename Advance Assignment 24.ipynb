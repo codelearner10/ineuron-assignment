{
 "cells": [
  {
   "cell_type": "code",
   "execution_count": null,
   "id": "669a3a54",
   "metadata": {},
   "outputs": [],
   "source": [
    "Q1. Is it permissible to use several import statements to import the same module? What would the\n",
    "goal be? Can you think of a situation where it would be beneficial?"
   ]
  },
  {
   "cell_type": "code",
   "execution_count": null,
   "id": "3912e46b",
   "metadata": {},
   "outputs": [],
   "source": [
    "Ye,it is permissible to use several import statements to import the same module. It is used in case when we have to \n",
    "import multiple functions from same module"
   ]
  },
  {
   "cell_type": "code",
   "execution_count": null,
   "id": "097f7ef5",
   "metadata": {},
   "outputs": [],
   "source": [
    "Q2. What are some of a module's characteristics? (Name at least one.)"
   ]
  },
  {
   "cell_type": "code",
   "execution_count": null,
   "id": "d737d225",
   "metadata": {},
   "outputs": [],
   "source": [
    "__name__ it returns the name of the module\n",
    "__doc__ it denotes th documentation string line written in a module code\n",
    "__file__it holds teh name and path of the module file from which it is loaded\n",
    "__dict__ it returns a dictionary object of module attributes, functions and other definitions adn their respective\n",
    "values"
   ]
  },
  {
   "cell_type": "code",
   "execution_count": null,
   "id": "65ef4072",
   "metadata": {},
   "outputs": [],
   "source": [
    "Q3. Circular importing, such as when two modules import each other, can lead to dependencies and\n",
    "bugs that aren't visible. How can you go about creating a program that avoids mutual importing?"
   ]
  },
  {
   "cell_type": "code",
   "execution_count": null,
   "id": "2867dd28",
   "metadata": {},
   "outputs": [],
   "source": [
    "Circular importing means importing the two modules in each other.if suppose we are working in MOD1.py file adn it is \n",
    "importing some function sayF2() from some other module say MOD2.py file or we can do vice-versa. What will  happen is: This\n",
    "will given an import error\n",
    "\n",
    "This because when we import F2() function from module MOD2.py then this will exeute MOD2.py file and in MOD2.py file there \n",
    "is an another statement of importing MOD1.py module\n",
    "\n",
    "This will result in endless loop. To avoid this error just do one thing we can use if __name__==\"__main__\"\n",
    "\n",
    "In the function, you can't directly refer to the function in the program. The addition of this sentence avoids the endless\n",
    "loop of the program"
   ]
  },
  {
   "cell_type": "code",
   "execution_count": null,
   "id": "5b823406",
   "metadata": {},
   "outputs": [],
   "source": [
    "Q4. Why is _ _all_ _ in Python?"
   ]
  },
  {
   "cell_type": "code",
   "execution_count": null,
   "id": "f1f62eab",
   "metadata": {},
   "outputs": [],
   "source": [
    "It provides list of all modules present in a library"
   ]
  },
  {
   "cell_type": "code",
   "execution_count": null,
   "id": "41523fce",
   "metadata": {},
   "outputs": [],
   "source": [
    "Q5. In what situation is it useful to refer to the _ _name_ _ attribute or the string __main__?"
   ]
  },
  {
   "cell_type": "code",
   "execution_count": null,
   "id": "103b651d",
   "metadata": {},
   "outputs": [],
   "source": [
    "During the time of execution of the code if we want to refer the module in which we are working on then we uses name\n",
    "attribute. In that case it will return the module in which we are working on. Suppose if that module is being imported\n",
    "from some other module then name will have the name of that module from where the current module has been imported. The\n",
    "current module in which we are working is refer to the string __main__"
   ]
  }
 ],
 "metadata": {
  "kernelspec": {
   "display_name": "Python 3 (ipykernel)",
   "language": "python",
   "name": "python3"
  },
  "language_info": {
   "codemirror_mode": {
    "name": "ipython",
    "version": 3
   },
   "file_extension": ".py",
   "mimetype": "text/x-python",
   "name": "python",
   "nbconvert_exporter": "python",
   "pygments_lexer": "ipython3",
   "version": "3.9.12"
  }
 },
 "nbformat": 4,
 "nbformat_minor": 5
}
