{
 "cells": [
  {
   "cell_type": "code",
   "execution_count": null,
   "id": "e61d5d7a",
   "metadata": {},
   "outputs": [],
   "source": [
    "1. Is the Python Standard Library included with PyInputPlus?"
   ]
  },
  {
   "cell_type": "code",
   "execution_count": null,
   "id": "4defc42b",
   "metadata": {},
   "outputs": [],
   "source": [
    "Ans : No, PyInputPlus is not not part of python standarad library, it needs to be installed explicitly using the command\n",
    "!pip install PyInputPlus"
   ]
  },
  {
   "cell_type": "code",
   "execution_count": null,
   "id": "6862b76e",
   "metadata": {},
   "outputs": [],
   "source": [
    "2. Why is PyInputPlus commonly imported with import pyinputplus as pypi?"
   ]
  },
  {
   "cell_type": "code",
   "execution_count": null,
   "id": "10e67ca0",
   "metadata": {},
   "outputs": [],
   "source": [
    "Ans : You can import the module with import pyinputplus as pyip so that you can enter a shorter name when calling the\n",
    "module's function"
   ]
  },
  {
   "cell_type": "code",
   "execution_count": null,
   "id": "53efc787",
   "metadata": {},
   "outputs": [],
   "source": [
    "3. How do you distinguish between inputInt() and inputFloat()?"
   ]
  },
  {
   "cell_type": "code",
   "execution_count": null,
   "id": "cfb20dca",
   "metadata": {},
   "outputs": [],
   "source": [
    "Ans : inputInt() function Accepts an integer value. This also takes additional parameters min, max, greaterThan and \n",
    "less than for bounds. And it always returns an int\n",
    "\n",
    "Where as inputFloat() function Accepts a floating-point numeric value. This also tales additional min,max,greaterThan and\n",
    "lesstThan parameters and always returns a float"
   ]
  },
  {
   "cell_type": "code",
   "execution_count": null,
   "id": "7943b9e3",
   "metadata": {},
   "outputs": [],
   "source": [
    "4. Using PyInputPlus, how do you ensure that the user enters a whole number between 0 and 99?"
   ]
  },
  {
   "cell_type": "code",
   "execution_count": null,
   "id": "831b2c1a",
   "metadata": {},
   "outputs": [],
   "source": [
    "Ans : PyInputPlus module provides a function called as inputInt() which only returns only integer value. inorder to \n",
    "restrict the input between 0 and 99, i'll use parameters like min & max to ensure that user enters the value between the \n",
    "defined range only.\n"
   ]
  },
  {
   "cell_type": "code",
   "execution_count": null,
   "id": "d985b8a5",
   "metadata": {},
   "outputs": [],
   "source": [
    "import pyinputplus as pyip\n",
    "wholenumber = pyip.inputInt(prompt=\"Enter a number: \", min=0, max=100)\n",
    "print(wholenumber)"
   ]
  },
  {
   "cell_type": "code",
   "execution_count": null,
   "id": "bd468221",
   "metadata": {},
   "outputs": [],
   "source": [
    "5. What is transferred to the keyword arguments allowRegexes and blockRegexes?"
   ]
  },
  {
   "cell_type": "code",
   "execution_count": null,
   "id": "fd4790db",
   "metadata": {},
   "outputs": [],
   "source": [
    "Ans : We can use allowregexs and blockRegexes keyword arguments to take list of regular expression strings to determine \n",
    "what the pyinputplus function will reject or accept valid input."
   ]
  },
  {
   "cell_type": "code",
   "execution_count": null,
   "id": "1b01a775",
   "metadata": {},
   "outputs": [],
   "source": [
    "6. If a blank input is entered three times, what does inputStr(limit=3) do?"
   ]
  },
  {
   "cell_type": "code",
   "execution_count": null,
   "id": "60138da5",
   "metadata": {},
   "outputs": [],
   "source": [
    "Ans : The statment inputStr(limit=3) will throw two ValidationException and RetryLimitException. The first exception is \n",
    "thrown because blank values are not allowed by inputStr() function by default it want to consider blank vlaues as valid \n",
    "input, we have to set blank=True\n",
    "\n",
    "The second exception is occured because we have reached the max limit we have specificly by using limit parameter inorder\n",
    "to avooid this exception we can use default parameter to return a default value when max limit is reached"
   ]
  },
  {
   "cell_type": "code",
   "execution_count": null,
   "id": "05f9e052",
   "metadata": {},
   "outputs": [],
   "source": [
    "7. If blank input is entered three times, what does inputStr(limit=3, default=&#39;hello&#39;) do?"
   ]
  },
  {
   "cell_type": "code",
   "execution_count": null,
   "id": "034fab21",
   "metadata": {},
   "outputs": [],
   "source": [
    "Ans : Since the default parameter is set to hello. After blank input is entered three instead of raising \n",
    "RetryLimitException exception. The function will return hello as response to the calling function"
   ]
  },
  {
   "cell_type": "code",
   "execution_count": null,
   "id": "c52af9a9",
   "metadata": {},
   "outputs": [],
   "source": []
  }
 ],
 "metadata": {
  "kernelspec": {
   "display_name": "Python 3 (ipykernel)",
   "language": "python",
   "name": "python3"
  },
  "language_info": {
   "codemirror_mode": {
    "name": "ipython",
    "version": 3
   },
   "file_extension": ".py",
   "mimetype": "text/x-python",
   "name": "python",
   "nbconvert_exporter": "python",
   "pygments_lexer": "ipython3",
   "version": "3.9.12"
  }
 },
 "nbformat": 4,
 "nbformat_minor": 5
}
