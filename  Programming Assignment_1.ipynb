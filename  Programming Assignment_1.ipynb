{
 "cells": [
  {
   "cell_type": "code",
   "execution_count": null,
   "id": "41bebd29",
   "metadata": {},
   "outputs": [],
   "source": [
    "1. Write a Python program to print \"Hello Python\"?"
   ]
  },
  {
   "cell_type": "code",
   "execution_count": 1,
   "id": "4b8333e9",
   "metadata": {},
   "outputs": [
    {
     "name": "stdout",
     "output_type": "stream",
     "text": [
      "Hello Python\n"
     ]
    }
   ],
   "source": [
    "print(\"Hello Python\")"
   ]
  },
  {
   "cell_type": "code",
   "execution_count": null,
   "id": "08bd3576",
   "metadata": {},
   "outputs": [],
   "source": [
    "2. Write a Python program to do arithmetical operations addition and division.?\n"
   ]
  },
  {
   "cell_type": "code",
   "execution_count": 2,
   "id": "a0c7eef1",
   "metadata": {},
   "outputs": [
    {
     "data": {
      "text/plain": [
       "12"
      ]
     },
     "execution_count": 2,
     "metadata": {},
     "output_type": "execute_result"
    }
   ],
   "source": [
    "def addition(a,b) :\n",
    "    return a+b\n",
    "addition(7,5)"
   ]
  },
  {
   "cell_type": "code",
   "execution_count": 11,
   "id": "fc0dd38b",
   "metadata": {},
   "outputs": [
    {
     "data": {
      "text/plain": [
       "3.0"
      ]
     },
     "execution_count": 11,
     "metadata": {},
     "output_type": "execute_result"
    }
   ],
   "source": [
    "def division (a,b) :\n",
    "    return a/b\n",
    "division (12,4)"
   ]
  },
  {
   "cell_type": "code",
   "execution_count": null,
   "id": "f9d8aad7",
   "metadata": {},
   "outputs": [],
   "source": [
    "3. Write a Python program to find the area of a triangle?"
   ]
  },
  {
   "cell_type": "code",
   "execution_count": 17,
   "id": "3edcb68d",
   "metadata": {},
   "outputs": [
    {
     "data": {
      "text/plain": [
       "('Area of Traingle', 2500.0)"
      ]
     },
     "execution_count": 17,
     "metadata": {},
     "output_type": "execute_result"
    }
   ],
   "source": [
    "def area_of_triangle (length,base) :\n",
    "    return \"Area of Traingle\" , 0.5*length*base\n",
    "area_of_triangle(100,50)"
   ]
  },
  {
   "cell_type": "code",
   "execution_count": null,
   "id": "1523d79e",
   "metadata": {},
   "outputs": [],
   "source": [
    "4. Write a Python program to swap two variables?"
   ]
  },
  {
   "cell_type": "code",
   "execution_count": 20,
   "id": "c2721eea",
   "metadata": {},
   "outputs": [
    {
     "name": "stdout",
     "output_type": "stream",
     "text": [
      "Enter the first number : 100\n",
      "Enter the second number : 200\n",
      "Before swapping 100 200\n",
      "After swapping (200, 100)\n"
     ]
    }
   ],
   "source": [
    "num_1 = int(input(\"Enter the first number : \"))\n",
    "num_2 = int(input(\"Enter the second number : \"))\n",
    "\n",
    "def swap_number(a,b) :\n",
    "    temp = a\n",
    "    a = b\n",
    "    b = temp\n",
    "    return a,b\n",
    "print(\"Before swapping\" , num_1,num_2)\n",
    "print(\"After swapping\",swap_number(num_1,num_2))"
   ]
  },
  {
   "cell_type": "code",
   "execution_count": null,
   "id": "2cf029a6",
   "metadata": {},
   "outputs": [],
   "source": [
    "5. Write a Python program to generate a random number?"
   ]
  },
  {
   "cell_type": "code",
   "execution_count": 35,
   "id": "16a3a195",
   "metadata": {},
   "outputs": [
    {
     "data": {
      "text/plain": [
       "('Random number -', 37)"
      ]
     },
     "execution_count": 35,
     "metadata": {},
     "output_type": "execute_result"
    }
   ],
   "source": [
    "from random import randint\n",
    "\n",
    "def generate_random_number(start=0,end=100) :\n",
    "    return ('Random number -' ,randint(start,end))\n",
    "generate_random_number()"
   ]
  }
 ],
 "metadata": {
  "kernelspec": {
   "display_name": "Python 3 (ipykernel)",
   "language": "python",
   "name": "python3"
  },
  "language_info": {
   "codemirror_mode": {
    "name": "ipython",
    "version": 3
   },
   "file_extension": ".py",
   "mimetype": "text/x-python",
   "name": "python",
   "nbconvert_exporter": "python",
   "pygments_lexer": "ipython3",
   "version": "3.9.12"
  }
 },
 "nbformat": 4,
 "nbformat_minor": 5
}
