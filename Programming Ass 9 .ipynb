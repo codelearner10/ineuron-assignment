{
 "cells": [
  {
   "cell_type": "code",
   "execution_count": 1,
   "id": "4b977ee5",
   "metadata": {},
   "outputs": [
    {
     "name": "stdout",
     "output_type": "stream",
     "text": [
      "Enter a number135\n",
      "135 is a Disarium Number\n"
     ]
    }
   ],
   "source": [
    "def check() :\n",
    "    num = input(\"Enter a number\")\n",
    "    sum = 0\n",
    "    for item in range(len(num)) :\n",
    "        sum = sum + int(num[item])**(item+1)\n",
    "    if sum == int(num) :\n",
    "        print(f'{num} is a Disarium Number')\n",
    "    else :\n",
    "        print(f'{num} is not ')\n",
    "\n",
    "check()"
   ]
  },
  {
   "cell_type": "code",
   "execution_count": null,
   "id": "12d811bb",
   "metadata": {},
   "outputs": [],
   "source": [
    "2. Write a Python program to print all disarium numbers between 1 to 100?"
   ]
  },
  {
   "cell_type": "code",
   "execution_count": 3,
   "id": "1ae9e4d5",
   "metadata": {},
   "outputs": [
    {
     "data": {
      "text/plain": [
       "[1, 2, 3, 4, 5, 6, 7, 8, 9, 89, 135, 175, 518, 598]"
      ]
     },
     "execution_count": 3,
     "metadata": {},
     "output_type": "execute_result"
    }
   ],
   "source": [
    "def diso(start=0,end=100) :\n",
    "    out = []\n",
    "    for number in range(start,end+1) :\n",
    "        sum = 0\n",
    "        for item in range(len(str(number))) :\n",
    "            sum = sum + int(str(number)[item])**(item+1)\n",
    "        if sum == number :\n",
    "            out.append(number)\n",
    "    return out\n",
    "\n",
    "diso(1,1000)"
   ]
  },
  {
   "cell_type": "code",
   "execution_count": null,
   "id": "e6dffc18",
   "metadata": {},
   "outputs": [],
   "source": [
    "3. Write a Python program to check if the given number is Happy Number?"
   ]
  },
  {
   "cell_type": "code",
   "execution_count": 5,
   "id": "d1c3968f",
   "metadata": {},
   "outputs": [
    {
     "name": "stdout",
     "output_type": "stream",
     "text": [
      "Enter the number : 7\n",
      "7 is a happy number\n"
     ]
    }
   ],
   "source": [
    "def check() :\n",
    "    num = input('Enter the number : ')\n",
    "    n_d = num\n",
    "    trackn = set()\n",
    "    while True :\n",
    "        if num != '1' and str(num) not in trackn :\n",
    "            trackn.add(num)\n",
    "            sum = 0\n",
    "            for ele in range(len((num))) :\n",
    "                sum = sum + int(num[ele])**2\n",
    "            num = str(sum)\n",
    "        elif str(num) in trackn :\n",
    "            print(f'{n_d} is not happy number')\n",
    "            break\n",
    "        else :\n",
    "            print(f'{n_d} is a happy number')\n",
    "            break\n",
    "            \n",
    "check()"
   ]
  },
  {
   "cell_type": "code",
   "execution_count": null,
   "id": "2c566c8c",
   "metadata": {},
   "outputs": [],
   "source": [
    "4. Write a Python program to print all happy numbers between 1 and 100?"
   ]
  },
  {
   "cell_type": "code",
   "execution_count": 6,
   "id": "4a4367b4",
   "metadata": {},
   "outputs": [
    {
     "name": "stdout",
     "output_type": "stream",
     "text": [
      "The happy numbers between0 and 100 are [1, 7, 10, 13, 19, 23, 28, 31, 32, 44, 49, 68, 70, 79, 82, 86, 91, 94, 97, 100]\n"
     ]
    }
   ],
   "source": [
    "def check(start=0,end=100) :\n",
    "    num = []\n",
    "    for nums in range(start,end+1) :\n",
    "        nums = str(nums)\n",
    "        numh = nums\n",
    "        trackn = set()\n",
    "        while True :\n",
    "            if nums != '1' and str(nums) not in trackn :\n",
    "                trackn.add(nums)\n",
    "                sum = 0\n",
    "                for ele in range(len((nums))) :\n",
    "                    sum = sum + int(nums[ele])**2\n",
    "                nums = str(sum)\n",
    "            elif str(nums) in trackn :\n",
    "                break\n",
    "            else :\n",
    "                num.append(int(numh))\n",
    "                break\n",
    "    print(f'The happy numbers between{start} and {end} are {num}')\n",
    "\n",
    "check(0,100)"
   ]
  },
  {
   "cell_type": "code",
   "execution_count": null,
   "id": "96054083",
   "metadata": {},
   "outputs": [],
   "source": [
    "5. Write a Python program to determine whether the given number is a Harshad Number?"
   ]
  },
  {
   "cell_type": "code",
   "execution_count": 9,
   "id": "ebeaaf83",
   "metadata": {},
   "outputs": [
    {
     "name": "stdout",
     "output_type": "stream",
     "text": [
      "Enter a number6805\n",
      "6805 is not\n",
      "Enter a number6804\n",
      "6804 is a harshad number\n"
     ]
    }
   ],
   "source": [
    "def check() :\n",
    "    num = input('Enter a number')\n",
    "    sum = 0\n",
    "    for item in range(len(num)) :\n",
    "        sum = sum + int(num[item])\n",
    "    if int(num)%sum == 0 :\n",
    "        print(f'{num} is a harshad number')\n",
    "    else :\n",
    "        print(f'{num} is not')\n",
    "        \n",
    "check()\n",
    "check()"
   ]
  }
 ],
 "metadata": {
  "kernelspec": {
   "display_name": "Python 3 (ipykernel)",
   "language": "python",
   "name": "python3"
  },
  "language_info": {
   "codemirror_mode": {
    "name": "ipython",
    "version": 3
   },
   "file_extension": ".py",
   "mimetype": "text/x-python",
   "name": "python",
   "nbconvert_exporter": "python",
   "pygments_lexer": "ipython3",
   "version": "3.9.12"
  }
 },
 "nbformat": 4,
 "nbformat_minor": 5
}
