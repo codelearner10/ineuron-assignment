{
 "cells": [
  {
   "cell_type": "code",
   "execution_count": 1,
   "id": "113c9e5c",
   "metadata": {},
   "outputs": [
    {
     "name": "stdout",
     "output_type": "stream",
     "text": [
      "Enter a number135\n",
      "135 is a Disarium Number\n"
     ]
    }
   ],
   "source": [
    "def check() :\n",
    "    num = input(\"Enter a number\")\n",
    "    sum = 0\n",
    "    for item in range(len(num)) :\n",
    "        sum = sum + int(num[item])**(item+1)\n",
    "    if sum == int(num) :\n",
    "        print(f'{num} is a Disarium Number')\n",
    "    else :\n",
    "        print(f'{num} is not ')\n",
    "\n",
    "check()"
   ]
  },
  {
   "cell_type": "code",
   "execution_count": null,
   "id": "658d613c",
   "metadata": {},
   "outputs": [],
   "source": [
    "2. Write a Python program to print all disarium numbers between 1 to 100?"
   ]
  },
  {
   "cell_type": "code",
   "execution_count": 3,
   "id": "2b83c192",
   "metadata": {},
   "outputs": [
    {
     "data": {
      "text/plain": [
       "[1, 2, 3, 4, 5, 6, 7, 8, 9, 89, 135, 175, 518, 598]"
      ]
     },
     "execution_count": 3,
     "metadata": {},
     "output_type": "execute_result"
    }
   ],
   "source": [
    "def diso(start=0,end=100) :\n",
    "    out = []\n",
    "    for number in range(start,end+1) :\n",
    "        sum = 0\n",
    "        for item in range(len(str(number))) :\n",
    "            sum = sum + int(str(number)[item])**(item+1)\n",
    "        if sum == number :\n",
    "            out.append(number)\n",
    "    return out\n",
    "\n",
    "diso(1,1000)"
   ]
  },
  {
   "cell_type": "code",
   "execution_count": null,
   "id": "aeee7bf8",
   "metadata": {},
   "outputs": [],
   "source": [
    "3. Write a Python program to check if the given number is Happy Number?"
   ]
  },
  {
   "cell_type": "code",
   "execution_count": 5,
   "id": "920bfb12",
   "metadata": {},
   "outputs": [
    {
     "name": "stdout",
     "output_type": "stream",
     "text": [
      "Enter the number : 7\n",
      "7 is a happy number\n"
     ]
    }
   ],
   "source": [
    "def check() :\n",
    "    num = input('Enter the number : ')\n",
    "    n_d = num\n",
    "    trackn = set()\n",
    "    while True :\n",
    "        if num != '1' and str(num) not in trackn :\n",
    "            trackn.add(num)\n",
    "            sum = 0\n",
    "            for ele in range(len((num))) :\n",
    "                sum = sum + int(num[ele])**2\n",
    "            num = str(sum)\n",
    "        elif str(num) in trackn :\n",
    "            print(f'{n_d} is not happy number')\n",
    "            break\n",
    "        else :\n",
    "            print(f'{n_d} is a happy number')\n",
    "            break\n",
    "            \n",
    "check()"
   ]
  },
  {
   "cell_type": "code",
   "execution_count": null,
   "id": "48168f90",
   "metadata": {},
   "outputs": [],
   "source": [
    "4. Write a Python program to print all happy numbers between 1 and 100?"
   ]
  },
  {
   "cell_type": "code",
   "execution_count": 6,
   "id": "ea7e6e15",
   "metadata": {},
   "outputs": [
    {
     "name": "stdout",
     "output_type": "stream",
     "text": [
      "The happy numbers between0 and 100 are [1, 7, 10, 13, 19, 23, 28, 31, 32, 44, 49, 68, 70, 79, 82, 86, 91, 94, 97, 100]\n"
     ]
    }
   ],
   "source": [
    "def check(start=0,end=100) :\n",
    "    num = []\n",
    "    for nums in range(start,end+1) :\n",
    "        nums = str(nums)\n",
    "        numh = nums\n",
    "        trackn = set()\n",
    "        while True :\n",
    "            if nums != '1' and str(nums) not in trackn :\n",
    "                trackn.add(nums)\n",
    "                sum = 0\n",
    "                for ele in range(len((nums))) :\n",
    "                    sum = sum + int(nums[ele])**2\n",
    "                nums = str(sum)\n",
    "            elif str(nums) in trackn :\n",
    "                break\n",
    "            else :\n",
    "                num.append(int(numh))\n",
    "                break\n",
    "    print(f'The happy numbers between{start} and {end} are {num}')\n",
    "\n",
    "check(0,100)"
   ]
  },
  {
   "cell_type": "code",
   "execution_count": null,
   "id": "f0eba4ec",
   "metadata": {},
   "outputs": [],
   "source": [
    "5. Write a Python program to determine whether the given number is a Harshad Number?"
   ]
  },
  {
   "cell_type": "code",
   "execution_count": 9,
   "id": "6e99fd4e",
   "metadata": {},
   "outputs": [
    {
     "name": "stdout",
     "output_type": "stream",
     "text": [
      "Enter a number6805\n",
      "6805 is not\n",
      "Enter a number6804\n",
      "6804 is a harshad number\n"
     ]
    }
   ],
   "source": [
    "def check() :\n",
    "    num = input('Enter a number')\n",
    "    sum = 0\n",
    "    for item in range(len(num)) :\n",
    "        sum = sum + int(num[item])\n",
    "    if int(num)%sum == 0 :\n",
    "        print(f'{num} is a harshad number')\n",
    "    else :\n",
    "        print(f'{num} is not')\n",
    "        \n",
    "check()\n",
    "check()"
   ]
  },
  {
   "cell_type": "code",
   "execution_count": null,
   "id": "624e98b6",
   "metadata": {},
   "outputs": [],
   "source": [
    "6. Write a Python program to print all pronic numbers between 1 and 100?"
   ]
  },
  {
   "cell_type": "code",
   "execution_count": 11,
   "id": "9d1bb116",
   "metadata": {},
   "outputs": [
    {
     "name": "stdout",
     "output_type": "stream",
     "text": [
      "[0, 2, 6, 12, 20, 30, 42, 56, 72, 90, 110, 132, 156, 182, 210, 240, 272, 306, 342, 380, 420, 462, 506, 552, 600, 650, 702, 756, 812, 870, 930, 992, 1056, 1122, 1190, 1260, 1332, 1406, 1482, 1560, 1640, 1722, 1806, 1892, 1980, 2070, 2162, 2256, 2352, 2450, 2550, 2652, 2756, 2862, 2970, 3080, 3192, 3306, 3422, 3540, 3660, 3782, 3906, 4032, 4160, 4290, 4422, 4556, 4692, 4830, 4970, 5112, 5256, 5402, 5550, 5700, 5852, 6006, 6162, 6320, 6480, 6642, 6806, 6972, 7140, 7310, 7482, 7656, 7832, 8010, 8190, 8372, 8556, 8742, 8930, 9120, 9312, 9506, 9702, 9900, 10100]\n"
     ]
    }
   ],
   "source": [
    "def pro(start=0,end=100) :\n",
    "    out = []\n",
    "    for ele in range(start,end+1) :\n",
    "        out.append((ele)*(ele+1))\n",
    "    print(out)\n",
    "pro()"
   ]
  },
  {
   "cell_type": "code",
   "execution_count": null,
   "id": "e73bb5bb",
   "metadata": {},
   "outputs": [],
   "source": []
  }
 ],
 "metadata": {
  "kernelspec": {
   "display_name": "Python 3 (ipykernel)",
   "language": "python",
   "name": "python3"
  },
  "language_info": {
   "codemirror_mode": {
    "name": "ipython",
    "version": 3
   },
   "file_extension": ".py",
   "mimetype": "text/x-python",
   "name": "python",
   "nbconvert_exporter": "python",
   "pygments_lexer": "ipython3",
   "version": "3.9.12"
  }
 },
 "nbformat": 4,
 "nbformat_minor": 5
}
