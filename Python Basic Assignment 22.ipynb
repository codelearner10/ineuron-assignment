{
 "cells": [
  {
   "cell_type": "code",
   "execution_count": null,
   "id": "363ff443",
   "metadata": {},
   "outputs": [],
   "source": [
    "1. What is the result of the code, and explain?\n",
    "\n",
    ">>> X = 'iNeuron'\n",
    ">>> def func():\n",
    "print(X)\n",
    ">>> func()"
   ]
  },
  {
   "cell_type": "code",
   "execution_count": null,
   "id": "456934a1",
   "metadata": {},
   "outputs": [],
   "source": [
    "The reult of this code is iNeuron, It's because the function intially looks for the variable X in its local scope,But since\n",
    "there is no local variable X,its returns the value of global x i.e. iNeuron"
   ]
  },
  {
   "cell_type": "code",
   "execution_count": 1,
   "id": "764d44dd",
   "metadata": {},
   "outputs": [
    {
     "name": "stdout",
     "output_type": "stream",
     "text": [
      "iNeuron\n"
     ]
    }
   ],
   "source": [
    "X = 'iNeuron'\n",
    "def func() :\n",
    "    print(X)\n",
    "func()"
   ]
  },
  {
   "cell_type": "code",
   "execution_count": null,
   "id": "7ab3ea23",
   "metadata": {},
   "outputs": [],
   "source": [
    "2. What is the result of the code, and explain?\n",
    "\n",
    "X = 'iNeuron'\n",
    "def func() :\n",
    "X = 'NI!'\n",
    "\n",
    "func()\n",
    "print(X)"
   ]
  },
  {
   "cell_type": "code",
   "execution_count": null,
   "id": "b88594f7",
   "metadata": {},
   "outputs": [],
   "source": [
    "The result of this code is NI!, because the function initially looks for the variable X in ints local scope if X is not \n",
    "available then it checks for variable X in the global scope,Since here the X is the present in the local scope.\n",
    "it prints the value NI!"
   ]
  },
  {
   "cell_type": "code",
   "execution_count": 3,
   "id": "eaa8192a",
   "metadata": {},
   "outputs": [
    {
     "name": "stdout",
     "output_type": "stream",
     "text": [
      "NI!\n"
     ]
    }
   ],
   "source": [
    "X = 'iNeuron'\n",
    "def func() :\n",
    "    X = 'NI!'\n",
    "    print(X)\n",
    "func()"
   ]
  },
  {
   "cell_type": "code",
   "execution_count": null,
   "id": "3aa6f539",
   "metadata": {},
   "outputs": [],
   "source": [
    " 3. What does this code print, and why?\n",
    "\n",
    " X = 'iNeuron'\n",
    " def func():\n",
    "X = 'NI!'\n",
    "print(X)\n",
    "\n",
    "func()\n",
    "print(X)"
   ]
  },
  {
   "cell_type": "code",
   "execution_count": null,
   "id": "d9dff2b9",
   "metadata": {},
   "outputs": [],
   "source": [
    "The output of the code is NI! and iNeuron. X=NI is in the local scope of the function func() hence the fuction prints\n",
    "the x value as NI. X='iNeuron' is in the global scope.hence print(X) prints output as iNeuron"
   ]
  },
  {
   "cell_type": "code",
   "execution_count": 4,
   "id": "deb6cb55",
   "metadata": {},
   "outputs": [
    {
     "name": "stdout",
     "output_type": "stream",
     "text": [
      "NI\n",
      "iNeuron\n"
     ]
    }
   ],
   "source": [
    "X = 'iNeuron'\n",
    "def func() :\n",
    "    X = \"NI\"\n",
    "    print(X)\n",
    "func()\n",
    "print(X)"
   ]
  },
  {
   "cell_type": "code",
   "execution_count": null,
   "id": "a2d92004",
   "metadata": {},
   "outputs": [],
   "source": [
    "4. What output does this code produce? Why?\n",
    "\n",
    " X = 'iNeuron'\n",
    " def func():\n",
    "global X\n",
    "X = 'NI'\n",
    "\n",
    " func()\n",
    " print(X)"
   ]
  },
  {
   "cell_type": "code",
   "execution_count": null,
   "id": "82ebde7f",
   "metadata": {},
   "outputs": [],
   "source": [
    "The output of the code is NI. The global keywprd allows a variable to be accessible in the current scope since we are\n",
    "using global keyword inside the function func it directly access the variable in X in global scope and changes its value\n",
    "to NI hence th output of the code id NI"
   ]
  },
  {
   "cell_type": "code",
   "execution_count": 5,
   "id": "1b95a8c1",
   "metadata": {},
   "outputs": [
    {
     "name": "stdout",
     "output_type": "stream",
     "text": [
      "NI\n"
     ]
    }
   ],
   "source": [
    "X = 'iNeuron'\n",
    "def func() :\n",
    "    global X\n",
    "    X = 'NI'\n",
    "func()\n",
    "print(X)"
   ]
  },
  {
   "cell_type": "code",
   "execution_count": null,
   "id": "73110214",
   "metadata": {},
   "outputs": [],
   "source": [
    "5. What about this code—what’s the output, and why?\n",
    ">>> X ='iNeuron'\n",
    ">>> def func():\n",
    "X ='NI'\n",
    "def nested():\n",
    "print(X)\n",
    "nested()\n",
    "\n",
    ">>> func()\n",
    ">>> X"
   ]
  },
  {
   "cell_type": "code",
   "execution_count": null,
   "id": "26502c6d",
   "metadata": {},
   "outputs": [],
   "source": [
    "The output of the code is NI the reason for the this output is if a function wants to access a variable, if its not \n",
    "available on its localspace. It looks variable in its global scope. Similarly here also function nested looks for\n",
    "variable X in its global scope.Hence the output of the code id NI"
   ]
  },
  {
   "cell_type": "code",
   "execution_count": 6,
   "id": "831e98fb",
   "metadata": {},
   "outputs": [
    {
     "name": "stdout",
     "output_type": "stream",
     "text": [
      "NI\n"
     ]
    },
    {
     "data": {
      "text/plain": [
       "'INeuron'"
      ]
     },
     "execution_count": 6,
     "metadata": {},
     "output_type": "execute_result"
    }
   ],
   "source": [
    "X = 'INeuron'\n",
    "def func() :\n",
    "    X = 'NI'\n",
    "    def nested() :\n",
    "        print(X) \n",
    "    nested()\n",
    "func()\n",
    "X"
   ]
  },
  {
   "cell_type": "code",
   "execution_count": null,
   "id": "08ec56dd",
   "metadata": {},
   "outputs": [],
   "source": [
    "6. How about this code: what is its output in Python 3, and explain?\n",
    "\n",
    ">>> def func():\n",
    "X = 'NI'\n",
    "def nested():\n",
    "nonlocal X\n",
    "X = 'Spam'\n",
    "nested()\n",
    "print(X)\n",
    "\n",
    ">>> func()"
   ]
  },
  {
   "cell_type": "code",
   "execution_count": null,
   "id": "29026fb7",
   "metadata": {},
   "outputs": [],
   "source": [
    "The output of the code is Spam.nonlocal keyword in python is used to declare a variable as not local. Hence the statement\n",
    " X = 'Spam' is modified in the global scope. hence the output of print(X) is Spam"
   ]
  },
  {
   "cell_type": "code",
   "execution_count": 9,
   "id": "4ca4ef0c",
   "metadata": {},
   "outputs": [
    {
     "name": "stdout",
     "output_type": "stream",
     "text": [
      "Spam\n"
     ]
    }
   ],
   "source": [
    "def func() :\n",
    "    X = \"NI\"\n",
    "    def nested() :\n",
    "        nonlocal X\n",
    "        X = \"Spam\"\n",
    "    nested()\n",
    "    print(X)\n",
    "func()"
   ]
  },
  {
   "cell_type": "code",
   "execution_count": null,
   "id": "6635eb4a",
   "metadata": {},
   "outputs": [],
   "source": []
  }
 ],
 "metadata": {
  "kernelspec": {
   "display_name": "Python 3 (ipykernel)",
   "language": "python",
   "name": "python3"
  },
  "language_info": {
   "codemirror_mode": {
    "name": "ipython",
    "version": 3
   },
   "file_extension": ".py",
   "mimetype": "text/x-python",
   "name": "python",
   "nbconvert_exporter": "python",
   "pygments_lexer": "ipython3",
   "version": "3.9.12"
  }
 },
 "nbformat": 4,
 "nbformat_minor": 5
}
