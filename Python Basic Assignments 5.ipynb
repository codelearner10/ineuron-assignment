{
 "cells": [
  {
   "cell_type": "code",
   "execution_count": null,
   "id": "2276cef3",
   "metadata": {},
   "outputs": [],
   "source": [
    "1. What does an empty dictionary's code look like?"
   ]
  },
  {
   "cell_type": "code",
   "execution_count": null,
   "id": "fe2e6781",
   "metadata": {},
   "outputs": [],
   "source": [
    "The empty dictonary code :\n",
    "d = {}"
   ]
  },
  {
   "cell_type": "code",
   "execution_count": null,
   "id": "39537a6e",
   "metadata": {},
   "outputs": [],
   "source": [
    "2. What is the value of a dictionary value with the key 'foo' and the value 42?"
   ]
  },
  {
   "cell_type": "code",
   "execution_count": null,
   "id": "56d391a9",
   "metadata": {},
   "outputs": [],
   "source": [
    "{'foo' : 42}"
   ]
  },
  {
   "cell_type": "code",
   "execution_count": null,
   "id": "7b799d2f",
   "metadata": {},
   "outputs": [],
   "source": [
    "3. What is the most significant distinction between a dictionary and a list?"
   ]
  },
  {
   "cell_type": "code",
   "execution_count": null,
   "id": "bc26bf82",
   "metadata": {},
   "outputs": [],
   "source": [
    "Dictonary is represented by {} but the lsit is represent by []\n",
    "Dictonary's item is undordered but lsit's item is ordered \n"
   ]
  },
  {
   "cell_type": "code",
   "execution_count": null,
   "id": "6fb763be",
   "metadata": {},
   "outputs": [],
   "source": [
    "4. What happens if you try to access spam['foo'] if spam is {'bar': 100}?"
   ]
  },
  {
   "cell_type": "code",
   "execution_count": null,
   "id": "5ef139be",
   "metadata": {},
   "outputs": [],
   "source": [
    "Get the error KeyError : 'foo'"
   ]
  },
  {
   "cell_type": "code",
   "execution_count": null,
   "id": "14d8a4eb",
   "metadata": {},
   "outputs": [],
   "source": [
    "5. If a dictionary is stored in spam, what is the difference between the expressions 'cat' in spam and\n",
    "'cat' in spam.keys()"
   ]
  },
  {
   "cell_type": "code",
   "execution_count": null,
   "id": "6b94170b",
   "metadata": {},
   "outputs": [],
   "source": [
    "There is no error, operator just check the whether the value exist in dictonary as key or not "
   ]
  },
  {
   "cell_type": "code",
   "execution_count": null,
   "id": "fb7f93d7",
   "metadata": {},
   "outputs": [],
   "source": [
    "6. If a dictionary is stored in spam, what is the difference between the expressions 'cat' in spam and\n",
    "'cat' in spam.values()?"
   ]
  },
  {
   "cell_type": "code",
   "execution_count": null,
   "id": "676dcc86",
   "metadata": {},
   "outputs": [],
   "source": [
    "There is no error, operator just check the whether the value exist in dictonary as key or not "
   ]
  },
  {
   "cell_type": "code",
   "execution_count": null,
   "id": "24c5690d",
   "metadata": {},
   "outputs": [],
   "source": [
    "7. What is a shortcut for the following code?\n",
    "if 'color' not in spam:\n",
    "spam['color'] = 'black'\n"
   ]
  },
  {
   "cell_type": "code",
   "execution_count": null,
   "id": "179fab5c",
   "metadata": {},
   "outputs": [],
   "source": [
    "spam.setdefault('color','black')"
   ]
  },
  {
   "cell_type": "code",
   "execution_count": null,
   "id": "0dd30ee8",
   "metadata": {},
   "outputs": [],
   "source": [
    "8. How do you \"pretty print\" dictionary values using which module and function?"
   ]
  },
  {
   "cell_type": "code",
   "execution_count": null,
   "id": "17f03ae6",
   "metadata": {},
   "outputs": [],
   "source": [
    "json.dumps json is the module and dumps is the function which is lie in json module"
   ]
  },
  {
   "cell_type": "code",
   "execution_count": 8,
   "id": "ceb9ea46",
   "metadata": {},
   "outputs": [
    {
     "name": "stdout",
     "output_type": "stream",
     "text": [
      "{'Name': 'A', 'City': 'Delhi', 'Age': 32}\n"
     ]
    }
   ],
   "source": [
    "new_data = { \"Name\" : \"A\" , \"City\" : \"Delhi\" , \"Age\" : 32 }\n",
    "print(new_data)"
   ]
  },
  {
   "cell_type": "code",
   "execution_count": 9,
   "id": "022155f0",
   "metadata": {},
   "outputs": [
    {
     "name": "stdout",
     "output_type": "stream",
     "text": [
      "{\n",
      " \"Name\": \"A\",\n",
      " \"City\": \"Delhi\",\n",
      " \"Age\": 32\n",
      "}\n"
     ]
    }
   ],
   "source": [
    "import json\n",
    "print(json.dumps(new_data,indent=1))"
   ]
  },
  {
   "cell_type": "code",
   "execution_count": null,
   "id": "bdf6d702",
   "metadata": {},
   "outputs": [],
   "source": []
  }
 ],
 "metadata": {
  "kernelspec": {
   "display_name": "Python 3 (ipykernel)",
   "language": "python",
   "name": "python3"
  },
  "language_info": {
   "codemirror_mode": {
    "name": "ipython",
    "version": 3
   },
   "file_extension": ".py",
   "mimetype": "text/x-python",
   "name": "python",
   "nbconvert_exporter": "python",
   "pygments_lexer": "ipython3",
   "version": "3.10.0"
  }
 },
 "nbformat": 4,
 "nbformat_minor": 5
}
