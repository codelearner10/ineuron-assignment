{
 "cells": [
  {
   "cell_type": "code",
   "execution_count": null,
   "id": "0a150491",
   "metadata": {},
   "outputs": [],
   "source": [
    "Q1. What are the benefits of the built-in array package, if any?"
   ]
  },
  {
   "cell_type": "code",
   "execution_count": null,
   "id": "312fb180",
   "metadata": {},
   "outputs": [],
   "source": [
    "Arrays represent multiple data items of the same type using a single name. In arrays the elements can be accessed randomly\n",
    "by using the index number. Arrays allocate memory in contiguous memory locations for all its elements. Hence there is no \n",
    "chance of extra memory being allocated in case of arrays. This avooids memory overflow or shortage of memory in arrays"
   ]
  },
  {
   "cell_type": "code",
   "execution_count": null,
   "id": "3f3932d3",
   "metadata": {},
   "outputs": [],
   "source": [
    "Q2. What are some of the array package's limitations?"
   ]
  },
  {
   "cell_type": "code",
   "execution_count": null,
   "id": "18dc3fe9",
   "metadata": {},
   "outputs": [],
   "source": [
    "The number of elements to be stored in an array should be known in advance. An array is a static structure. Once declared\n",
    "the size of the array cannot be modified. The memory which is allocated to it cannot be increased or decreased\n",
    "\n",
    "Insertion and deletion are quite difficult in an array ad the elements are stored in consecutive memory locations and \n",
    "shifting operation is costly\n",
    "\n",
    "Allocation more memory than the requirement leads to wastage of memory space and less allocation of memory also leads to a\n",
    "problem"
   ]
  },
  {
   "cell_type": "code",
   "execution_count": null,
   "id": "4b897787",
   "metadata": {},
   "outputs": [],
   "source": [
    "Q3. Describe the main differences between the array and numpy packages."
   ]
  },
  {
   "cell_type": "code",
   "execution_count": null,
   "id": "7c50fc91",
   "metadata": {},
   "outputs": [],
   "source": [
    "The array package doesn't provide any help with numerical calculation with the items inside it in number from while\n",
    "Numpy give you a wide variety of numerical operation\n",
    "\n",
    "An array is a single dimensional entity which hold the numerical data, while numpy can have more than 1 dimension\n",
    "\n",
    "In case of array, item can be accessed by its index position and it is easy task while in numpy item is accessed by its \n",
    "column and row index, which makes it slightly time taking. Same goes with appending operation\n",
    "\n",
    "In case of array we do not from a tabular structure, while in numpy it forms a tabular structure"
   ]
  },
  {
   "cell_type": "code",
   "execution_count": null,
   "id": "b8e4db60",
   "metadata": {},
   "outputs": [],
   "source": [
    "Q4. Explain the distinctions between the empty, ones, and zeros functions."
   ]
  },
  {
   "cell_type": "code",
   "execution_count": null,
   "id": "61280f82",
   "metadata": {},
   "outputs": [],
   "source": [
    "Empty Function : An empty function is a function that does not contain any statement with in its body. If you try to write\n",
    "a function defintion without any satement in python, it will return an eror. To avoid this we use pass statement,pass is a\n",
    "special statement in python that does nothing. It only works as a dumpy statement.\n",
    "\n",
    "Ones : This function returns a new array of given shape and data type where the element's value is 1\n",
    "\n",
    "Zeros : This function returns a new array of given shape and data type, where the elements's value is 0"
   ]
  },
  {
   "cell_type": "code",
   "execution_count": null,
   "id": "c15ef01e",
   "metadata": {},
   "outputs": [],
   "source": [
    "Q5. In the fromfunction function, which is used to construct new arrays, what is the role of the callable\n",
    "argument?"
   ]
  },
  {
   "cell_type": "code",
   "execution_count": null,
   "id": "4c1cc78d",
   "metadata": {},
   "outputs": [],
   "source": [
    "Its function is to execute the function over each coordinate and the resulting array. The function is called with N \n",
    "parameters, where N is the rank of shape. Each parameter represents the coordinateof the array varying along a specific\n",
    "axis."
   ]
  },
  {
   "cell_type": "code",
   "execution_count": null,
   "id": "869efe27",
   "metadata": {},
   "outputs": [],
   "source": [
    "Q6. What happens when a numpy array is combined with a single-value operand (a scalar, such as\n",
    "an int or a floating-point value) through addition, as in the expression A + n?"
   ]
  },
  {
   "cell_type": "code",
   "execution_count": null,
   "id": "2b1529d1",
   "metadata": {},
   "outputs": [],
   "source": [
    "If any scaler value such as integer is added to the numpy array then all the elements inside the array will that value in\n",
    "it."
   ]
  },
  {
   "cell_type": "code",
   "execution_count": null,
   "id": "875819e2",
   "metadata": {},
   "outputs": [],
   "source": [
    "Q7. Can array-to-scalar operations use combined operation-assign operators (such as += or *=)?\n",
    "What is the outcome?"
   ]
  },
  {
   "cell_type": "code",
   "execution_count": null,
   "id": "1cf7134d",
   "metadata": {},
   "outputs": [],
   "source": [
    "it will carry out provided operation on all elements of array."
   ]
  },
  {
   "cell_type": "code",
   "execution_count": null,
   "id": "248c42b0",
   "metadata": {},
   "outputs": [],
   "source": [
    "Q8. Does a numpy array contain fixed-length strings? What happens if you allocate a longer string to\n",
    "one of these arrays?"
   ]
  },
  {
   "cell_type": "code",
   "execution_count": null,
   "id": "55d06cdf",
   "metadata": {},
   "outputs": [],
   "source": [
    "Yes, it is possible that we can include a string of fixed length in numpy array. The type of any numpy array containing \n",
    "string values is the maximum length of any string present in the array. Once set, it will only be able to store new \n",
    "string having length not more than the maximum length at the time of the creation. If we try to reassign some another\n",
    "string value having length greater than the maximum length of the existing elements, it simply discards all the values\n",
    "beyond the maximum length accept upto those values which are under the limit "
   ]
  },
  {
   "cell_type": "code",
   "execution_count": null,
   "id": "bf776c2a",
   "metadata": {},
   "outputs": [],
   "source": [
    "Q9. What happens when you combine two numpy arrays using an operation like addition (+) or\n",
    "multiplication (*)? What are the conditions for combining two numpy arrays?"
   ]
  },
  {
   "cell_type": "code",
   "execution_count": null,
   "id": "19be678a",
   "metadata": {},
   "outputs": [],
   "source": [
    "It will simply add or multiply element to element at same position"
   ]
  },
  {
   "cell_type": "code",
   "execution_count": null,
   "id": "c0cd82f9",
   "metadata": {},
   "outputs": [],
   "source": [
    "Q10. What is the best way to use a Boolean array to mask another array?"
   ]
  },
  {
   "cell_type": "code",
   "execution_count": null,
   "id": "98d9e94d",
   "metadata": {},
   "outputs": [],
   "source": [
    "The best way to use a Boolean array to mask another array is by using masked_where of numpy package"
   ]
  },
  {
   "cell_type": "code",
   "execution_count": null,
   "id": "82998d3b",
   "metadata": {},
   "outputs": [],
   "source": [
    "Q11. What are three different ways to get the standard deviation of a wide collection of data using\n",
    "both standard Python and its packages? Sort the three of them by how quickly they execute."
   ]
  },
  {
   "cell_type": "code",
   "execution_count": null,
   "id": "d54aea5a",
   "metadata": {},
   "outputs": [],
   "source": [
    "np.std and math package can be used individually"
   ]
  },
  {
   "cell_type": "code",
   "execution_count": null,
   "id": "63a896b3",
   "metadata": {},
   "outputs": [],
   "source": [
    "12. What is the dimensionality of a Boolean mask-generated array?"
   ]
  },
  {
   "cell_type": "code",
   "execution_count": null,
   "id": "c4d32c27",
   "metadata": {},
   "outputs": [],
   "source": [
    "It will have same dimensionality as input array"
   ]
  }
 ],
 "metadata": {
  "kernelspec": {
   "display_name": "Python 3 (ipykernel)",
   "language": "python",
   "name": "python3"
  },
  "language_info": {
   "codemirror_mode": {
    "name": "ipython",
    "version": 3
   },
   "file_extension": ".py",
   "mimetype": "text/x-python",
   "name": "python",
   "nbconvert_exporter": "python",
   "pygments_lexer": "ipython3",
   "version": "3.9.12"
  }
 },
 "nbformat": 4,
 "nbformat_minor": 5
}
