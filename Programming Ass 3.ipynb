{
 "cells": [
  {
   "cell_type": "code",
   "execution_count": null,
   "id": "b2388a9d",
   "metadata": {},
   "outputs": [],
   "source": [
    "1. Write a Python Program to Check if a Number is Positive, Negative or Zero?"
   ]
  },
  {
   "cell_type": "code",
   "execution_count": 1,
   "id": "7fe9beb9",
   "metadata": {},
   "outputs": [
    {
     "name": "stdout",
     "output_type": "stream",
     "text": [
      "Enter the number: -45\n",
      "-45 is Negative Number\n"
     ]
    }
   ],
   "source": [
    "def checkNumber(num) :\n",
    "    if num > 0:\n",
    "        print('{} is a Positive Number'.format(num))\n",
    "    elif num < 0 :\n",
    "        print('{} is Negative Number'.format(num))\n",
    "    else :\n",
    "        print('Number is Zero')\n",
    "        \n",
    "num = int(input(\"Enter the number: \"))\n",
    "checkNumber(num)"
   ]
  },
  {
   "cell_type": "code",
   "execution_count": null,
   "id": "24996508",
   "metadata": {},
   "outputs": [],
   "source": [
    "2. Write a Python Program to Check if a Number is Odd or Even?"
   ]
  },
  {
   "cell_type": "code",
   "execution_count": 5,
   "id": "81906a45",
   "metadata": {},
   "outputs": [
    {
     "name": "stdout",
     "output_type": "stream",
     "text": [
      "Enter a number : 88\n",
      "88 is a Even Number\n"
     ]
    }
   ],
   "source": [
    "def checkNumber(num) :\n",
    "    if num%2 == 0 :\n",
    "        print('{} is a Even Number'.format(num))\n",
    "    else :\n",
    "        print('{} is a Odd Number'.format(num))\n",
    "        \n",
    "num =int(input(\"Enter a number : \"))\n",
    "checkNumber(num)"
   ]
  },
  {
   "cell_type": "code",
   "execution_count": null,
   "id": "ace16c88",
   "metadata": {},
   "outputs": [],
   "source": [
    "3. Write a Python Program to Check Leap Year?"
   ]
  },
  {
   "cell_type": "code",
   "execution_count": 6,
   "id": "e9d9033a",
   "metadata": {},
   "outputs": [
    {
     "name": "stdout",
     "output_type": "stream",
     "text": [
      "Enter year: 1996\n",
      "1996 is a leap year\n"
     ]
    }
   ],
   "source": [
    "def checkYear(year) :\n",
    "    if (year%4 == 0 and year%100 !=0 or year%100 !=0 or year%400 == 0) :\n",
    "        print(f'{year} is a leap year')\n",
    "    else :\n",
    "        print(f'{year} is a not leap year')\n",
    "        \n",
    "year = int(input('Enter year: '))\n",
    "checkYear(year)"
   ]
  },
  {
   "cell_type": "code",
   "execution_count": null,
   "id": "b5eccc27",
   "metadata": {},
   "outputs": [],
   "source": [
    "4. Write a Python Program to Check Prime Number?"
   ]
  },
  {
   "cell_type": "code",
   "execution_count": 8,
   "id": "93678df2",
   "metadata": {},
   "outputs": [
    {
     "name": "stdout",
     "output_type": "stream",
     "text": [
      "Enter a number: 97\n",
      "97 is a prime number\n"
     ]
    }
   ],
   "source": [
    "def idPrime(num) :\n",
    "    flag = False \n",
    "    for i in range(2,num) :\n",
    "        if num%i == 0 :\n",
    "            flag = True\n",
    "            break\n",
    "    if(not flag) :\n",
    "        print(f'{num} is a prime number')\n",
    "    else :\n",
    "        print(f'{num} is not a prime number')\n",
    "        \n",
    "number = int(input(\"Enter a number: \"))\n",
    "idPrime(number)"
   ]
  },
  {
   "cell_type": "code",
   "execution_count": null,
   "id": "ab252347",
   "metadata": {},
   "outputs": [],
   "source": [
    "5. Write a Python Program to Print all Prime Numbers in an Interval of 1-10000?"
   ]
  },
  {
   "cell_type": "code",
   "execution_count": 11,
   "id": "96446df1",
   "metadata": {},
   "outputs": [
    {
     "name": "stderr",
     "output_type": "stream",
     "text": [
      "IOPub data rate exceeded.\n",
      "The notebook server will temporarily stop sending output\n",
      "to the client in order to avoid crashing it.\n",
      "To change this limit, set the config variable\n",
      "`--NotebookApp.iopub_data_rate_limit`.\n",
      "\n",
      "Current values:\n",
      "NotebookApp.iopub_data_rate_limit=1000000.0 (bytes/sec)\n",
      "NotebookApp.rate_limit_window=3.0 (secs)\n",
      "\n"
     ]
    }
   ],
   "source": [
    "primeNumbersList = []\n",
    "\n",
    "def generatePrimeNumbers() :\n",
    "    for x in range(1,10000) :\n",
    "        flag = False\n",
    "        for y in range(2,x) :\n",
    "            if(x%y== 0) :\n",
    "                flag = True \n",
    "                break\n",
    "            if (not flag) :\n",
    "                primeNumbersList.append(x)\n",
    "\n",
    "generatePrimeNumbers()\n",
    "print(primeNumbersList)\n"
   ]
  },
  {
   "cell_type": "code",
   "execution_count": null,
   "id": "a6f6f37b",
   "metadata": {},
   "outputs": [],
   "source": []
  },
  {
   "cell_type": "code",
   "execution_count": null,
   "id": "6beded33",
   "metadata": {},
   "outputs": [],
   "source": []
  },
  {
   "cell_type": "code",
   "execution_count": null,
   "id": "7fd9f5c5",
   "metadata": {},
   "outputs": [],
   "source": []
  },
  {
   "cell_type": "code",
   "execution_count": null,
   "id": "6120715f",
   "metadata": {},
   "outputs": [],
   "source": []
  },
  {
   "cell_type": "code",
   "execution_count": null,
   "id": "232bc603",
   "metadata": {},
   "outputs": [],
   "source": []
  },
  {
   "cell_type": "code",
   "execution_count": null,
   "id": "67a01ca8",
   "metadata": {},
   "outputs": [],
   "source": []
  },
  {
   "cell_type": "code",
   "execution_count": null,
   "id": "15043bed",
   "metadata": {},
   "outputs": [],
   "source": []
  },
  {
   "cell_type": "code",
   "execution_count": null,
   "id": "837a830c",
   "metadata": {},
   "outputs": [],
   "source": []
  },
  {
   "cell_type": "code",
   "execution_count": null,
   "id": "e5c27094",
   "metadata": {},
   "outputs": [],
   "source": []
  },
  {
   "cell_type": "code",
   "execution_count": null,
   "id": "4d7188a7",
   "metadata": {},
   "outputs": [],
   "source": []
  },
  {
   "cell_type": "code",
   "execution_count": null,
   "id": "0f509f95",
   "metadata": {},
   "outputs": [],
   "source": []
  },
  {
   "cell_type": "code",
   "execution_count": null,
   "id": "d0dd548f",
   "metadata": {},
   "outputs": [],
   "source": []
  },
  {
   "cell_type": "code",
   "execution_count": null,
   "id": "1fb246b9",
   "metadata": {},
   "outputs": [],
   "source": []
  },
  {
   "cell_type": "code",
   "execution_count": null,
   "id": "f27c4d3e",
   "metadata": {},
   "outputs": [],
   "source": []
  },
  {
   "cell_type": "code",
   "execution_count": null,
   "id": "a8970d14",
   "metadata": {},
   "outputs": [],
   "source": []
  },
  {
   "cell_type": "code",
   "execution_count": null,
   "id": "0b25d74d",
   "metadata": {},
   "outputs": [],
   "source": []
  },
  {
   "cell_type": "code",
   "execution_count": null,
   "id": "e86753ab",
   "metadata": {},
   "outputs": [],
   "source": []
  },
  {
   "cell_type": "code",
   "execution_count": null,
   "id": "6e8bd330",
   "metadata": {},
   "outputs": [],
   "source": []
  },
  {
   "cell_type": "code",
   "execution_count": null,
   "id": "83235911",
   "metadata": {},
   "outputs": [],
   "source": []
  },
  {
   "cell_type": "code",
   "execution_count": null,
   "id": "5f4ba756",
   "metadata": {},
   "outputs": [],
   "source": []
  },
  {
   "cell_type": "code",
   "execution_count": null,
   "id": "e58d1128",
   "metadata": {},
   "outputs": [],
   "source": []
  },
  {
   "cell_type": "code",
   "execution_count": null,
   "id": "8aceb6f9",
   "metadata": {},
   "outputs": [],
   "source": []
  }
 ],
 "metadata": {
  "kernelspec": {
   "display_name": "Python 3 (ipykernel)",
   "language": "python",
   "name": "python3"
  },
  "language_info": {
   "codemirror_mode": {
    "name": "ipython",
    "version": 3
   },
   "file_extension": ".py",
   "mimetype": "text/x-python",
   "name": "python",
   "nbconvert_exporter": "python",
   "pygments_lexer": "ipython3",
   "version": "3.9.12"
  }
 },
 "nbformat": 4,
 "nbformat_minor": 5
}
